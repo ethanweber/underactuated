{
 "cells": [
  {
   "cell_type": "code",
   "execution_count": 1,
   "metadata": {},
   "outputs": [],
   "source": [
    "import math\n",
    "import numpy as np\n",
    "import matplotlib.pyplot as plt\n",
    "from IPython.display import HTML\n",
    "\n",
    "%matplotlib inline\n",
    "\n",
    "from pydrake.all import (SignalLogger, CompliantMaterial, ConstantVectorSource, DirectCollocation, DiagramBuilder, FloatingBaseType,\n",
    "                         PiecewisePolynomial, RigidBodyTree, RigidBodyPlant,\n",
    "                         SolutionResult, AddModelInstancesFromSdfString,\n",
    "                         MathematicalProgram, Simulator, BasicVector, AddFlatTerrainToWorld)\n",
    "from underactuated import (FindResource, PlanarRigidBodyVisualizer)"
   ]
  },
  {
   "cell_type": "code",
   "execution_count": 6,
   "metadata": {},
   "outputs": [],
   "source": [
    "# set the initial state\n",
    "\n",
    "x = 2\n",
    "z = np.sqrt(2)\n",
    "\n",
    "x_dot = 0.0\n",
    "z_dot = 0.0\n",
    "\n",
    "thetay = 0.0\n",
    "\n",
    "# state of the flywheel\n",
    "phi = 0.0\n",
    "phi_dot = 0.0\n",
    "\n",
    "torque = -0.0\n",
    "\n",
    "# time of simulation (number of seconds)\n",
    "time_of_sim = 2.0\n",
    "\n",
    "\n",
    "state_initial = (x,0.,z,0.,thetay,0.,phi,x_dot,0.,z_dot,0.,0.,0.,phi_dot)"
   ]
  },
  {
   "cell_type": "code",
   "execution_count": 7,
   "metadata": {
    "scrolled": false
   },
   "outputs": [
    {
     "name": "stdout",
     "output_type": "stream",
     "text": [
      "Num states: 14\n"
     ]
    },
    {
     "name": "stderr",
     "output_type": "stream",
     "text": [
      "/home/luke/.local/lib/python2.7/site-packages/matplotlib/figure.py:403: UserWarning: matplotlib is currently using a non-GUI backend, so cannot show the figure\n",
      "  \"matplotlib is currently using a non-GUI backend, \"\n"
     ]
    },
    {
     "name": "stdout",
     "output_type": "stream",
     "text": [
      "Spawning PlanarRigidBodyVisualizer for tree with 1 actuators\n"
     ]
    },
    {
     "data": {
      "image/png": "[encoded data removed]",
      "text/plain": [
       "<matplotlib.figure.Figure at 0x7f913b21cc50>"
      ]
     },
     "metadata": {},
     "output_type": "display_data"
    }
   ],
   "source": [
    "timestep = 0.0\n",
    "builder = DiagramBuilder()\n",
    "tree = RigidBodyTree(FindResource(\"cubli/cubli.urdf\"),\n",
    "                     FloatingBaseType.kFixed)\n",
    "plant = RigidBodyPlant(tree, timestep)\n",
    "nx = tree.get_num_positions() + tree.get_num_velocities()\n",
    "print(\"Num states: {}\".format(nx))\n",
    "\n",
    "allmaterials = CompliantMaterial()\n",
    "allmaterials.set_youngs_modulus(1E9) # default 1E9\n",
    "allmaterials.set_dissipation(1.0) # default 0.32\n",
    "allmaterials.set_friction(1.0) # default 0.9.\n",
    "plant.set_default_compliant_material(allmaterials)\n",
    "\n",
    "plant_context = plant.CreateDefaultContext()\n",
    "\n",
    "robot = builder.AddSystem(plant)\n",
    "\n",
    "torque_system = builder.AddSystem(ConstantVectorSource(\n",
    "    np.ones((tree.get_num_actuators(), 1))*torque))\n",
    "builder.Connect(torque_system.get_output_port(0),\n",
    "                robot.get_input_port(0))\n",
    "\n",
    "# what do xlim and ylim mean, what about -5 for the ground element\n",
    "vis = builder.AddSystem(PlanarRigidBodyVisualizer(tree, xlim=[-2.5, 2.5], ylim=[-1, 2.5]))\n",
    "builder.Connect(robot.get_output_port(0),\n",
    "                vis.get_input_port(0))\n",
    "\n",
    "# And also log\n",
    "signalLogRate = 60\n",
    "signalLogger = builder.AddSystem(SignalLogger(nx))\n",
    "signalLogger._DeclarePeriodicPublish(1. / signalLogRate, 0.0)\n",
    "builder.Connect(robot.get_output_port(0),\n",
    "                signalLogger.get_input_port(0))\n",
    "\n",
    "diagram = builder.Build()\n",
    "\n",
    "simulator = Simulator(diagram)\n",
    "simulator.set_target_realtime_rate(0.25)\n",
    "simulator.set_publish_every_time_step(False)"
   ]
  },
  {
   "cell_type": "code",
   "execution_count": 8,
   "metadata": {},
   "outputs": [],
   "source": [
    "context = simulator.get_mutable_context()\n",
    "state = context.get_mutable_state().get_mutable_continuous_state().get_mutable_vector()\n",
    "state.SetFromVector(state_initial)\n",
    "simulator.StepTo(time_of_sim)"
   ]
  },
  {
   "cell_type": "code",
   "execution_count": 9,
   "metadata": {
    "scrolled": true
   },
   "outputs": [
    {
     "data": {
      "text/html": [
       "<video width=\"432\" height=\"288\" controls autoplay loop>\n",
       "  <source type=\"video/mp4\" src=\"data:video/mp4;base64,AAAAHGZ0eXBNNFYgAAACAGlzb21pc28yYXZjMQAAAAhmcmVlAAAR6G1kYXQAAAKuBgX//6rcRem9\n",
       "5tlIt5Ys2CDZI+7veDI2NCAtIGNvcmUgMTQ4IHIyNjQzIDVjNjU3MDQgLSBILjI2NC9NUEVHLTQg\n",
       "QVZDIGNvZGVjIC0gQ29weWxlZnQgMjAwMy0yMDE1IC0gaHR0cDovL3d3dy52aWRlb2xhbi5vcmcv\n",
       "eDI2NC5odG1sIC0gb3B0aW9uczogY2FiYWM9MSByZWY9MyBkZWJsb2NrPTE6MDowIGFuYWx5c2U9\n",
       "MHgzOjB4MTEzIG1lPWhleCBzdWJtZT03IHBzeT0xIHBzeV9yZD0xLjAwOjAuMDAgbWl4ZWRfcmVm\n",
       "PTEgbWVfcmFuZ2U9MTYgY2hyb21hX21lPTEgdHJlbGxpcz0xIDh4OGRjdD0xIGNxbT0wIGRlYWR6\n",
       "b25lPTIxLDExIGZhc3RfcHNraXA9MSBjaHJvbWFfcXBfb2Zmc2V0PS0yIHRocmVhZHM9NiBsb29r\n",
       "YWhlYWRfdGhyZWFkcz0xIHNsaWNlZF90aHJlYWRzPTAgbnI9MCBkZWNpbWF0ZT0xIGludGVybGFj\n",
       "ZWQ9MCBibHVyYXlfY29tcGF0PTAgY29uc3RyYWluZWRfaW50cmE9MCBiZnJhbWVzPTMgYl9weXJh\n",
       "bWlkPTIgYl9hZGFwdD0xIGJfYmlhcz0wIGRpcmVjdD0xIHdlaWdodGI9MSBvcGVuX2dvcD0wIHdl\n",
       "aWdodHA9MiBrZXlpbnQ9MjUwIGtleWludF9taW49MjUgc2NlbmVjdXQ9NDAgaW50cmFfcmVmcmVz\n",
       "aD0wIHJjX2xvb2thaGVhZD00MCByYz1jcmYgbWJ0cmVlPTEgY3JmPTIzLjAgcWNvbXA9MC42MCBx\n",
       "cG1pbj0wIHFwbWF4PTY5IHFwc3RlcD00IGlwX3JhdGlvPTEuNDAgYXE9MToxLjAwAIAAAAH6ZYiE\n",
       "ADf//vbw/gU2O5jQlxHN6J0zH78VuLo0N73OAAADAAA33OZE/sqTBubAAALgAAnk3YVBO3Tt0Tij\n",
       "gNoOKf/3qCLLTBV6q3iC8QhlIS+vtboTFPItVsp3zfJKaGniIVfLcL2D3OOjH88Vv5jMDw7RmtAx\n",
       "sdjUXuorAeCp1mqeKut3ckB87FuF5oIRT1o85gsl4H3Lmjmbvd5TWPQvuRnt0IR16rNF0lVcWhFH\n",
       "ixABceeA2eaFJLbAQrx5oCW6HW8tyZa1+T1+BovCWZmzt9M7uheWxhB2sY7ijs6q0w8Pzj1Smd20\n",
       "NycGaJJj/ApYMDEYSuVRvNS739Hd7epSWUqLbqmAXVeNNVA2+35S9nGzqA313XXx35gSmF8xUEO9\n",
       "3VM5XRF+ujtiKCW4zoa7vHatvLwZfcjCTvgRcbVPvpJT1S4xUdkmFs0YiDMwM0Gvu/8gvGaXsrJv\n",
       "7BN1ccz8JWjaZR5WLcaJYQTiPazGiQP3bOVZxkKV/XNpr+2bO0wwmxyKTBKdWqs47CQ+1DLCvsN7\n",
       "1vHoAAAIHu+IqmFF8SPRyeKxhjZRYvSrclMbVNWvsOIyGBr30ce5wjrLxGVaRhHkx3JNtYZaqhrh\n",
       "FaJ4soRrbQxv+sOg29BM6IBPFGIPRmQWT4i+Uk0TSO7ayzt/lbxlIAAMCXW0Bz0AAABMQZokbEN/\n",
       "/qeEAEddRIGveECv5owEinygTA0ANhIHCHEeDoVZQSYrgcxv8/qErpi8/o+9jVcd9ofqRFJijTan\n",
       "fg9U7Voz3bWiotw9YAAAABpBnkJ4hX8AOgaBX2kqKIlyqGDjNJqhmGulNQAAACIBnmF0Qn8AS317\n",
       "twAAL1DMmms2cFCoRS8a/sX5N591bGLAAAAAIgGeY2pCfwBLQiiFzguMcL7Y8AB9QnQK8AhtFapy\n",
       "0A5TsqcAAABHQZplSahBaJlMCG///qeEAEdXYbiiSMGBf96zgpGINHKlL+E+CyL7ZMO/6chVzjh/\n",
       "cV5Aktc0ztQvK+LGV3N2dtT3HfCg+ekAAABKQZqJSeEKUmUwIb/+p4QAR75Grd/FuvLw5I47CbIa\n",
       "ZhsiMGqZcyCh+k6KqfpksXy7Qm7yHt0XSpwQ6510ZjJI+IAvUplNZQ6AobsAAABaQZ6nRTRMK/8A\n",
       "OgA615qLBPKh2EoQAr7qe+8MYKMH8XPePVuuZypsz9fECM4npYTKf4Itq2D/j0qBbRJFiABOK3NG\n",
       "Hr4nG2tZqnsHmtE1Hd35Na2IsuqYX1hZAAAAHwGexnRCfwBLWk7yJfyqD349uAx8NeXzZgiWDW/d\n",
       "+b0AAAApAZ7IakJ/ACW9+zSribAAHDwZNU90GjQknFCrtGq4eJW6WRbE47wgyPgAAACBQZrNSahB\n",
       "aJlMCG///qeEABHvkat38XYV3gHHEG39ndReX3K0lOPLOcCk3JcY4JuEBMYeLHfuG6NUI3wEZrDO\n",
       "WVchV3+0js3oj1DyJ4JO4564n8dsmIzIPkrmwPGH5I8lOxwOSK8iq7qzcOd4wYBxmiBLnyQ0g8c7\n",
       "3lR0ycW9GBTBAAAAREGe60URLCv/ABsLDUTfDHWQU8COKIJs26s2d1NBh1XCEYs7MQei3layFRP7\n",
       "4sHeSGiRN5+ssn0ZAC8zwWMHZ7VRL0lQAAAAKgGfCnRCfwAS2CC0i+E/ABt8GAI6j1kLQpyZfmp4\n",
       "fHTqKuPJVRDJMByqYAAAAB0BnwxqQn8AEmaEdD1ddrqXmQr6ddSD3BRdqizrwQAAAMFBmxFJqEFs\n",
       "mUwIb//+p4QACPfI1bv4uwLJbxSwcg1O6AL79LnypbmKfvAIXm/vDiak6YvZ4YzG0PLXoFLny++x\n",
       "jM9+J9//mt7o3rNayCR+KCGhbHTphbKWJdNdXyAvPB3sWDBwXLWmGfMmeD4ZXZKT0FZ/oifBvIvP\n",
       "9viLb0iH1NKFEehWzURFNfGNtOJwL3i8izo5CvSKKr8cvePihL5VAaWttqd2y6dNOmj53pxBroEb\n",
       "qYtQJqQtpq3QdYRo03QRAAAAUEGfL0UVLCv/ABsLDPvnSdN3Ex9IpQ0bED34Dmb2cGM5LxmeoQoV\n",
       "qqAEIyX2UXJA3wxADxUk2IJh7gei3IbdAk+CobepVGSVnSMf7ByW2C4bAAAAOwGfTnRCfwAJM0I6\n",
       "Hq51XM+/24VIT3JZjwAHZ9Ck2NJxNrF5ct1GlHmYpbV5AhlK1Bjwi9E4dfsH6jzQAAAARQGfUGpC\n",
       "fwACW+AwqUe3QAa50hLoUIFBc1G3V07S/vQn5HcrZuRqPP5Epo4DeO6gnHWI/5bb5L8Oj7cXsmW1\n",
       "rFxaHjm0+AAAAL5Bm1VJqEFsmUwIb//+p4QAAjqBFWwAFiBpz4aXRCStLnt4QK/LvLZ3OVM2FIsb\n",
       "1E3HjwiTTJDyYKJTJd5QANr/c2kkH+yVeRbbWi/B0AQTt1tsXD22rmi+4WrtfHtqN2i5zAR4XPHi\n",
       "QT/+yBRVUjiuI1y7x5zSgz0UGEJpBhp2KNGHiLroxwTHzbQrZQ8prm/7r8oeL7en0EF2iIWTNHBy\n",
       "Txdt+MMWgo/ae0t8aL1jdEQ6goljVBnmf6n7WM45AAAAS0Gfc0UVLCv/ABsLDNSEIYcZQBxUAka7\n",
       "S5olrRYFbWkjsx0V8Uq96Hdlul5oqRdyhyZs+0iZwXEsCKWuN+VmwayUYcQgDDX2H3K2mAAAABUB\n",
       "n5J0Qn8AAltd8whrHcSNf1EIGBsAAAAUAZ+UakJ/AAJbtrM75I3Q2oPIOkEAAAClQZuZSahBbJlM\n",
       "CG///qeEAAI6uaaQAc+46HutomjxizG1AaK+rwV5ZTuSRGbQJZ0oSux0vnjcZm5XHAJ1vErYAq7h\n",
       "1c7HrXej0IIPy4JK46d0Q1El00ZOrIL/SqlHK7XV+9Dkvj9tGvUyu4LYDTJKUxGwAe43S0tCaEIx\n",
       "K7evSYbban+bQ/Ks/o/+YbUyBM0i2rXeNlaVNZRJYQBhV3WuBrrHs94MAAAAP0Gft0UVLCv/ABsL\n",
       "DNSEI+koAJyQitOOhVH7Y70wD4DfjihF3AydVDRF+U68OcQTzdZpjp5y/9YixbrB4ObG8QAAACkB\n",
       "n9Z0Qn8AAlttak+ugiijMgADj6KDp5t1YP4cd6R3HrDPblm2NxHzTQAAACMBn9hqQn8AAlsRgbqN\n",
       "G/rsYAN3ooOlEZgly/C7KiURfPjT4AAAAOdBm91JqEFsmUwIb//+p4QAAjqaJUQAdEc6if6jEbSm\n",
       "dY9QOO+4Ef1xEwv+xtQb0VV/GCQPcjopzW06oRFvBTVVhD/2gL++y/hmPz75ulpiZ59Upsywpb/V\n",
       "Ry5L7fi4NhLjvq1xbIDxLqYd0oK9aTOGXKt7RFi3biLVm9a+voMki4S1yBfSG/u39HRhWdB2pa6L\n",
       "neAnbFBgqOHsLmgDtBcoCtSbDpXGvP7wLwdqSM7rSKaTtfDy7E19z/zfKY5utXJgB4sTRFCQVQGD\n",
       "lCq4KkZgWB5YRFeSDzFptdu8+bWIM9MW6tF/ZB8AAAA7QZ/7RRUsK/8AGwsM1IRUSXN+agBATXan\n",
       "p3O1pKi3e+ytC0GRYd60e9R5WFmMJVFiL8Pgwxo0R2/i0/YAAAAfAZ4adEJ/AAJbV35IMUlke4Yw\n",
       "sZppQeqIAQa2BLLl8QAAAA0BnhxqQn8AAlqp9MPBAAAAh0GaAUmoQWyZTAhv//6nhAACOo944Qs2\n",
       "zIA5xOSXmHaIVC2PV9rmy7ryPnF1aGJ6vXvQEGaPY9KAh77D3WGTNXgC6iYGxarcG7RcY9poCDCq\n",
       "rBBhk2FeHaVjQfJQdFnJOvRlZsYFs8TPnSXIJQC8Rt4XbNAs8ZyOi2MOfaMaCuL8iLyVr20XegAA\n",
       "AB1Bnj9FFSwr/wAbCwzUg1nOg6iXME1Cu0/cfnoqQAAAAA0Bnl50Qn8AAI77xnKBAAAAFwGeQGpC\n",
       "fwACS5uzfdYAB+bduWbiLwQsAAAAeEGaRUmoQWyZTAhv//6nhAACO4W01oAOfMy816Ma6jgOm2sL\n",
       "h6QXo30VuYlsasnPdLEg03FGJPFRqrOP2obkMWgSVcKpBG2JbDQhAw6SSrfnvFsHzdnQ8OwkH35c\n",
       "wMhPigmpSTB0GcjnazbGkp9Sch2dpyTnAjd3gwAAAClBnmNFFSwr/wAbCwzUhaL9QjV+Xj/kAISw\n",
       "XmjRSFMij4RGXroXl5O+wAAAACIBnoJ0Qn8AAlteEBL8gAP11qDnj30ALPZgff3h9xQSjoFBAAAA\n",
       "EAGehGpCfwACS7g40n7AfmEAAAAuQZqJSahBbJlMCG///qeEAAIatptsktKSQA4kuFM8CoTD9Bqa\n",
       "j3pAsPKEYX4MEQAAACtBnqdFFSwr/wAbCwzUfMZImDzF4ABZ2WJ9Ppz3rXgZLWi3/arPue95q++B\n",
       "AAAADQGexnRCfwABHWpKakAAAAATAZ7IakJ/AAJbubw3CkOSeA5KQAAAAENBmspJqEFsmUwIb//+\n",
       "p4QAAjpfNwBWXyxzSMt32WKQLmpdPl6yhPPq3ySlJs05VC5gy94W2V+EQA9VyKgYVodvVRilAAAA\n",
       "SEGa7knhClJlMCG//qeEAAI6Tc+kAVg0xMuMePQGfk4V9qVOeWlt/WcU/3QwzZcrnCH2d9xt+uTH\n",
       "jpzRb8buPFrV3QkSUVxtkwAAABhBnwxFNEwr/wAbCTDUg2vCev+IzHeqd3gAAAALAZ8rdEJ/AAAD\n",
       "AfMAAAASAZ8takJ/AAJapfxkqsmrIU2hAAAATkGbMkmoQWiZTAhv//6nhAACOiV0gBxIcG2//tZk\n",
       "OeulGzq2+nlM6G+xkPpDEE7TmK6uzX8QHw8d2MfvhgbBy15CBT4LelihbPnolpHgwQAAABdBn1BF\n",
       "ESwr/wAbCwzUg1es6630XuHKQAAAABABn290Qn8AAkrTQ3OumpLgAAAADQGfcWpCfwACWxUHqYEA\n",
       "AAATQZt2SahBbJlMCGf//p4QAAAHTAAAABtBn5RFFSwr/wAbCwzUfJKmEjJh73MrX1pBfqQAAAAL\n",
       "AZ+zdEJ/AAADAfMAAAALAZ+1akJ/AAADAfMAAAAiQZu6SahBbJlMCF///oywAARlz4qyQZgAh5+I\n",
       "HwapkJJswQAAABhBn9hFFSwr/wAbCwzUhdXnVr8u+yOg5m0AAAALAZ/3dEJ/AAADAfMAAAAPAZ/5\n",
       "akJ/AAI7uB1HQDvhAAAAFUGb/EmoQWyZTBRMJ//98QAAAwBFwAAAABMBnhtqQn8AIsLwjh9U+K2R\n",
       "UWULAAAGCG1vb3YAAABsbXZoZAAAAAAAAAAAAAAAAAAAA+gAAAfyAAEAAAEAAAAAAAAAAAAAAAAB\n",
       "AAAAAAAAAAAAAAAAAAAAAQAAAAAAAAAAAAAAAAAAQAAAAAAAAAAAAAAAAAAAAAAAAAAAAAAAAAAA\n",
       "AAAAAAIAAAUydHJhawAAAFx0a2hkAAAAAwAAAAAAAAAAAAAAAQAAAAAAAAfyAAAAAAAAAAAAAAAA\n",
       "AAAAAAABAAAAAAAAAAAAAAAAAAAAAQAAAAAAAAAAAAAAAAAAQAAAAAGwAAABIAAAAAAAJGVkdHMA\n",
       "AAAcZWxzdAAAAAAAAAABAAAH8gABBGoAAQAAAAAEqm1kaWEAAAAgbWRoZAAAAAAAAAAAAAAAAAAP\n",
       "QkAAHwahVcQAAAAAAC1oZGxyAAAAAAAAAAB2aWRlAAAAAAAAAAAAAAAAVmlkZW9IYW5kbGVyAAAA\n",
       "BFVtaW5mAAAAFHZtaGQAAAABAAAAAAAAAAAAAAAkZGluZgAAABxkcmVmAAAAAAAAAAEAAAAMdXJs\n",
       "IAAAAAEAAAQVc3RibAAAALFzdHNkAAAAAAAAAAEAAAChYXZjMQAAAAAAAAABAAAAAAAAAAAAAAAA\n",
       "AAAAAAGwASAASAAAAEgAAAAAAAAAAQAAAAAAAAAAAAAAAAAAAAAAAAAAAAAAAAAAAAAAAAAAABj/\n",
       "/wAAAC9hdmNDAWQAFf/hABZnZAAVrNlBsJaEAAII1AB6EgA8WLZYAQAGaOvjyyLAAAAAHHV1aWRr\n",
       "aEDyXyRPxbo5pRvPAyPzAAAAAAAAABhzdHRzAAAAAAAAAAEAAAA9AACCNQAAABRzdHNzAAAAAAAA\n",
       "AAEAAAABAAAB+GN0dHMAAAAAAAAAPQAAAAEAAQRqAAAAAQACiwkAAAABAAEEagAAAAEAAAAAAAAA\n",
       "AQAAgjUAAAABAAEEagAAAAEAAosJAAAAAQABBGoAAAABAAAAAAAAAAEAAII1AAAAAQACiwkAAAAB\n",
       "AAEEagAAAAEAAAAAAAAAAQAAgjUAAAABAAKLCQAAAAEAAQRqAAAAAQAAAAAAAAABAACCNQAAAAEA\n",
       "AosJAAAAAQABBGoAAAABAAAAAAAAAAEAAII1AAAAAQACiwkAAAABAAEEagAAAAEAAAAAAAAAAQAA\n",
       "gjUAAAABAAKLCQAAAAEAAQRqAAAAAQAAAAAAAAABAACCNQAAAAEAAosJAAAAAQABBGoAAAABAAAA\n",
       "AAAAAAEAAII1AAAAAQACiwkAAAABAAEEagAAAAEAAAAAAAAAAQAAgjUAAAABAAKLCQAAAAEAAQRq\n",
       "AAAAAQAAAAAAAAABAACCNQAAAAEAAQRqAAAAAQACiwkAAAABAAEEagAAAAEAAAAAAAAAAQAAgjUA\n",
       "AAABAAKLCQAAAAEAAQRqAAAAAQAAAAAAAAABAACCNQAAAAEAAosJAAAAAQABBGoAAAABAAAAAAAA\n",
       "AAEAAII1AAAAAQACiwkAAAABAAEEagAAAAEAAAAAAAAAAQAAgjUAAAABAAGGnwAAAAEAAII1AAAA\n",
       "HHN0c2MAAAAAAAAAAQAAAAEAAAA9AAAAAQAAAQhzdHN6AAAAAAAAAAAAAAA9AAAEsAAAAFAAAAAe\n",
       "AAAAJgAAACYAAABLAAAATgAAAF4AAAAjAAAALQAAAIUAAABIAAAALgAAACEAAADFAAAAVAAAAD8A\n",
       "AABJAAAAwgAAAE8AAAAZAAAAGAAAAKkAAABDAAAALQAAACcAAADrAAAAPwAAACMAAAARAAAAiwAA\n",
       "ACEAAAARAAAAGwAAAHwAAAAtAAAAJgAAABQAAAAyAAAALwAAABEAAAAXAAAARwAAAEwAAAAcAAAA\n",
       "DwAAABYAAABSAAAAGwAAABQAAAARAAAAFwAAAB8AAAAPAAAADwAAACYAAAAcAAAADwAAABMAAAAZ\n",
       "AAAAFwAAABRzdGNvAAAAAAAAAAEAAAAsAAAAYnVkdGEAAABabWV0YQAAAAAAAAAhaGRscgAAAAAA\n",
       "AAAAbWRpcmFwcGwAAAAAAAAAAAAAAAAtaWxzdAAAACWpdG9vAAAAHWRhdGEAAAABAAAAAExhdmY1\n",
       "Ni40MC4xMDE=\n",
       "\">\n",
       "  Your browser does not support the video tag.\n",
       "</video>"
      ],
      "text/plain": [
       "<IPython.core.display.HTML object>"
      ]
     },
     "execution_count": 9,
     "metadata": {},
     "output_type": "execute_result"
    }
   ],
   "source": [
    "ani = vis.animate(signalLogger, repeat=True)\n",
    "HTML(ani.to_html5_video())"
   ]
  },
  {
   "cell_type": "code",
   "execution_count": null,
   "metadata": {},
   "outputs": [],
   "source": [
    "def contact_check(state):\n",
    "    return True"
   ]
  },
  {
   "cell_type": "code",
   "execution_count": null,
   "metadata": {},
   "outputs": [],
   "source": [
    "def cube_guard(state):\n",
    "    "
   ]
  },
  {
   "cell_type": "code",
   "execution_count": 310,
   "metadata": {},
   "outputs": [],
   "source": [
    "def cube_contact(state, u):\n",
    "    # Contact dynamics of cube\n",
    "    \n",
    "    # Need to grab important parameters\n",
    "    M_c = 1.0 # self.M_c\n",
    "    M_w = 1.0 # self.M_w\n",
    "    M_t = M_c + M_w\n",
    "    \n",
    "    I_c = 1.0 #self.I_c\n",
    "    I_w = 1.0 #self.I_w\n",
    "    I_t = I_c + I_w\n",
    "    \n",
    "    # Distance from edge to center of cube\n",
    "    L_t = np.sqrt(2) #np.sqrt.(2*self.L)  \n",
    "    \n",
    "    # Assuming friction is 0 right now\n",
    "    F_c = 0.5\n",
    "    F_w = 0.5\n",
    "    \n",
    "    g = 9.81 # self.g\n",
    "    \n",
    "    # Relevant states are x,z,thetay, phi\n",
    "    x = state[0]\n",
    "    z = state[2]\n",
    "    thetay = state[4]\n",
    "    phi = state[6]\n",
    "    \n",
    "    xdot = state[7]\n",
    "    zdot = state[9]\n",
    "    thetaydot = state[11]\n",
    "    phidot = state[13]\n",
    "    \n",
    "    # Setup the derivative of the state vector\n",
    "    derivs = np.zeros_like(state)\n",
    "    derivs[0:7] = state[7:]\n",
    "    \n",
    "    # Cos issue taylor expansion\n",
    "    cos_theta = 1 - thetay**2/2 + thetay**2/24\n",
    "    \n",
    "    # Dynamics while the block is on the ground\n",
    "    # Right now, assumes enough friction in x direction to only rotate\n",
    "    # Right now, assumes sticky ground so it only rotates.\n",
    "    derivs[7] = 0.0 # Force balance in x, friction etc.  \n",
    "    derivs[9] = 0.0 # Force balance in z, normal force \n",
    "    \n",
    "    # Moment balance around center of block \n",
    "    derivs[11] = (L_t*M_t*g*cos_theta - u[0] + F_w*phidot - F_c*thetaydot)/I_c \n",
    "    \n",
    "    # Torque on the inertia wheel\n",
    "    derivs[13] = (-L_t*M_t*g*cos_theta + u[0]*I_t + F_c*thetaydot*I_w - F_w*phidot*I_t)/(I_w*I_c)\n",
    "\n",
    "    return derivs"
   ]
  },
  {
   "cell_type": "code",
   "execution_count": 293,
   "metadata": {},
   "outputs": [],
   "source": [
    "def cube_ballistic(state, u):\n",
    "    # Ballistic Dynamics of the cube\n",
    "    \n",
    "    # Need to grab important parameters\n",
    "    M_c = 1.0 # self.M_c\n",
    "    M_w = 1.0 # self.M_w\n",
    "    M_t = M_c + M_w\n",
    "    \n",
    "    I_c = 1.0 #self.I_c\n",
    "    I_w = 1.0 #self.I_w\n",
    "    I_t = I_c + I_w\n",
    "    \n",
    "    # Distance from edge to center of cube\n",
    "    L_t = np.sqrt(2) #np.sqrt.(2*self.L)  \n",
    "    \n",
    "    # Assuming friction is 0 right now\n",
    "    F_c = 0.5\n",
    "    F_w = 0.5\n",
    "    \n",
    "    g = 9.81 # self.g\n",
    "    \n",
    "    # Relevant states are x,z,thetay, phi\n",
    "    x = state[0]\n",
    "    z = state[2]\n",
    "    thetay = state[4]\n",
    "    phi = state[6]\n",
    "    \n",
    "    # Velocity States\n",
    "    xdot = state[7]\n",
    "    zdot = state[9]\n",
    "    thetaydot = state[11]\n",
    "    phidot = state[13]\n",
    "    \n",
    "    # Setup the derivative of the state vector\n",
    "    derivs = np.zeros_like(state)\n",
    "    derivs[0:7] = state[7:]\n",
    "    \n",
    "    # Ballistic Dynamics\n",
    "    derivs[7] = 0.0 # No forces along x\n",
    "    derivs[9] = -g  # Acceleration due to gravity\n",
    "    \n",
    "    # Back torque due to wheel\n",
    "    derivs[11] = (-u[0] + F_w*phidot + F_c*thetaydot)/I_c\n",
    "#     derivs[11] = 0.0\n",
    "    # Wheel accel\n",
    "    derivs[13] = (u[0]*I_t + F_c*thetaydot*I_w - F_w*phidot*I_t)/(I_w*I_c)\n",
    "#     derivs[13] = 0.0\n",
    "    \n",
    "    return derivs     "
   ]
  },
  {
   "cell_type": "code",
   "execution_count": 304,
   "metadata": {
    "scrolled": true
   },
   "outputs": [],
   "source": [
    "def compute_optimal_control(initial_state,final_state, min_time, max_time):\n",
    "    # Setup solver\n",
    "    mp = MathematicalProgram()\n",
    "\n",
    "    # number knot points\n",
    "    N = 50\n",
    "    \n",
    "    # Total time used\n",
    "    time_used = mp.NewContinuousVariables(1, \"time_used\") # add random variabe for time used\n",
    "    dt = time_used/(N+1)\n",
    "    \n",
    "    \n",
    "    # Control decision variables\n",
    "    u = mp.NewContinuousVariables(1, \"u_%d\" % 0) # only one input for the cube\n",
    "    u_over_time = u\n",
    "    for k in range(1,N):\n",
    "        u = mp.NewContinuousVariables(1, \"u_%d\" % k)\n",
    "        u_over_time = np.vstack((u_over_time, u))\n",
    "    total_u = u_over_time\n",
    "\n",
    "    # State decision variabless\n",
    "    x = mp.NewContinuousVariables(14, \"x_%d\" % 0) # for both input thrusters\n",
    "    x_over_time = x\n",
    "    for k in range(1,N+1):\n",
    "        x = mp.NewContinuousVariables(14, \"x_%d\" % k)\n",
    "        x_over_time = np.vstack((x_over_time, x))\n",
    "    total_x = x_over_time\n",
    "\n",
    "    # State Constraints\n",
    "    error_thresh = 0.001\n",
    "    for n in range(N):\n",
    "        # Actual state vs. predicted (through dynamics) state\n",
    "        state_next = total_x[n+1]\n",
    "        dynamic_state_next = total_x[n,:] + cube_contact(total_x[n,:], total_u[n,:])*dt\n",
    "#         dynamic_state_next = total_x[n,:] + cube_ballistic(total_x[n,:], total_u[n,:])*dt\n",
    "        \n",
    "        # Make sure the actual and predicted align to follow dynamics\n",
    "        for j in range(14):\n",
    "            state_error = state_next[j] - dynamic_state_next[j]\n",
    "            mp.AddConstraint(state_error <= error_thresh)\n",
    "            mp.AddConstraint(state_error >= -error_thresh)\n",
    "\n",
    "    # Quadratic Cost in control effort\n",
    "    # TODO: Make this cost of transport, better measure of effort\n",
    "    # COT = u^2/(m_tot*g*d)\n",
    "    mp.AddQuadraticCost(1 * u_over_time[:,0].dot(u_over_time[:,0]))\n",
    "\n",
    "    # Add initial state constraint\n",
    "    for i in range(14):\n",
    "        initial_state_error = x_over_time[0,i] - initial_state[i]\n",
    "        mp.AddConstraint(initial_state_error == 0.0)\n",
    "    \n",
    "    # Add final state constraint\n",
    "    # Let's us specify where we want the cube to be\n",
    "#     for i in range(14):\n",
    "#         state_error = x_over_time[-1,i] - final_state[i]    \n",
    "#         mp.AddConstraint(state_error <= 1)\n",
    "#         mp.AddConstraint(state_error >= -1)\n",
    "#     # Position Constraint\n",
    "    x_error = x_over_time[-1,0] - final_state[0]\n",
    "    mp.AddConstraint(x_error <= error_thresh)\n",
    "    mp.AddConstraint(x_error >= -error_thresh)\n",
    "    \n",
    "    z_error = x_over_time[-1,2] - final_state[2]\n",
    "    mp.AddConstraint(z_error <= error_thresh)\n",
    "    mp.AddConstraint(z_error >= -error_thresh)\n",
    "    \n",
    "    theta_error = x_over_time[-1,4] - final_state[4]\n",
    "    mp.AddConstraint(theta_error <= error_thresh)\n",
    "    mp.AddConstraint(theta_error >= -error_thresh)\n",
    "    \n",
    "    # add time constraint\n",
    "    mp.AddConstraint(time_used[0] >= minimum_time)\n",
    "#     mp.AddConstraint(time_used[0] <= maximum_time)\n",
    "\n",
    "    print \"Number of decision vars\", mp.num_vars()\n",
    "    print(mp.Solve())\n",
    "\n",
    "    trajectory = mp.GetSolution(x_over_time)\n",
    "    input_trajectory = mp.GetSolution(u_over_time)\n",
    "    t = mp.GetSolution(time_used)\n",
    "    time_array = np.arange(0.0, t, t/(N+1))\n",
    "    \n",
    "    \n",
    "    \n",
    "    return trajectory, input_trajectory, time_array"
   ]
  },
  {
   "cell_type": "code",
   "execution_count": 259,
   "metadata": {},
   "outputs": [],
   "source": [
    "def plot_xz(trajectory):\n",
    "    cube_x = trajectory[:,0] \n",
    "    cube_z = trajectory[:,2]\n",
    "    \n",
    "    fig, axes = plt.subplots(nrows=1,ncols=1)\n",
    "    axes.plot(cube_x, cube_z)\n",
    "#     axes.axis(\"equal\")\n",
    "    \n",
    "    plt.show()\n",
    "\n",
    "def plot_theta(trajectory, time_array):\n",
    "    cube_theta = trajectory[:,4]\n",
    "    print cube_theta.shape\n",
    "    print time_array.shape\n",
    "    fig, axes = plt.subplots(nrows=1, ncols=1)\n",
    "    axes.plot(time_array, cube_theta)\n",
    "#     axes.axis(\"equal\")\n",
    "    \n",
    "    plt.show()\n",
    "    \n",
    "def plot_u(input_trajectory, time_array):\n",
    "    fig, axes = plt.subplots(nrows=1,ncols=1)\n",
    "    axes.plot(time_array, input_trajectory)\n",
    "#     axes.axis(\"equal\")\n",
    "    \n",
    "    plt.show()"
   ]
  },
  {
   "cell_type": "code",
   "execution_count": 316,
   "metadata": {
    "scrolled": false
   },
   "outputs": [
    {
     "name": "stdout",
     "output_type": "stream",
     "text": [
      "Number of decision vars 765\n",
      "SolutionResult.kSolutionFound\n"
     ]
    }
   ],
   "source": [
    "# Set the inital condititions\n",
    "x = 0.; z = 0.; thetay = 0.; phi = 0.; \n",
    "x_dot = 0.; z_dot = 0.; thetay_dot = 0.; phi_dot = 0.;\n",
    "\n",
    "# Different starting places\n",
    "origin_1 = (x,0.,z,0.,thetay,0.,phi,x_dot,0.,z_dot,0.,thetay_dot,0.,phi_dot)\n",
    "# origin_2 = (0.,0.,50,0.,0.,0.,0.,0.,0.,0.,0.,0.,0.,0.)\n",
    "\n",
    "# Set the desired final conditions\n",
    "swing_up = (0.5,0.,np.sqrt(2)/2-0.5,0., np.pi/2,0.,phi,x_dot,0.,z_dot,0.,thetay_dot,0.,phi_dot)\n",
    "# fall_down = (0.,0.,0.,0.,0.,0.0,0.,0.,0.,0.,0.,0.,0.,0.)\n",
    "\n",
    "# Set the time constraints\n",
    "minimum_time = 0.5; maximum_time = 15.\n",
    "\n",
    "# Solve the trajectory optimization\n",
    "traj, input_traj, time_array = compute_optimal_control(origin_1, swing_up, minimum_time, maximum_time)\n"
   ]
  },
  {
   "cell_type": "code",
   "execution_count": 317,
   "metadata": {
    "scrolled": true
   },
   "outputs": [
    {
     "name": "stdout",
     "output_type": "stream",
     "text": [
      "Trajectory size:  (51, 14)\n",
      "Input size:  (50,)\n",
      "\n",
      "\n",
      "Initial state:  [ 0.  0.  0.  0.  0.  0.  0.  0.  0.  0.  0.  0.  0.  0.]\n",
      "\n",
      "\n",
      "Final state:  [  4.99000000e-01   1.40000000e-02   2.06106781e-01   1.40000000e-02\n",
      "   1.56979633e+00   1.40000000e-02   3.98526029e+01   5.00000000e-02\n",
      "   1.00000000e-03   9.77376684e-04   1.00000000e-03   7.06150653e+00\n",
      "   1.00000000e-03  -6.95083887e+00]\n",
      "Final time:  18.3265306122\n",
      "Total energ:  1661.41185598\n"
     ]
    }
   ],
   "source": [
    "# Print trajectory information\n",
    "print \"Trajectory size: \", traj.shape\n",
    "print \"Input size: \", input_traj.shape\n",
    "print \"\\n\"\n",
    "\n",
    "# Print initial conditions\n",
    "print \"Initial state: \", traj[0]\n",
    "print \"\\n\"\n",
    "\n",
    "# Print final conditionsa\n",
    "print \"Final state: \", traj[-1]\n",
    "\n",
    "print \"Final time: \", time_array[-1]\n",
    "print \"Total energ: \", input_traj.dot(input_traj)"
   ]
  },
  {
   "cell_type": "code",
   "execution_count": 318,
   "metadata": {
    "scrolled": false
   },
   "outputs": [
    {
     "data": {
      "image/png": "[encoded data removed]",
      "text/plain": [
       "<matplotlib.figure.Figure at 0x7f91368387d0>"
      ]
     },
     "metadata": {},
     "output_type": "display_data"
    },
    {
     "data": {
      "image/png": "[encoded data removed]",
      "text/plain": [
       "<matplotlib.figure.Figure at 0x7f91366e6b90>"
      ]
     },
     "metadata": {},
     "output_type": "display_data"
    },
    {
     "data": {
      "image/png": "[encoded data removed]",
      "text/plain": [
       "<matplotlib.figure.Figure at 0x7f9136a3ec10>"
      ]
     },
     "metadata": {},
     "output_type": "display_data"
    }
   ],
   "source": [
    "# Plot\n",
    "plot_xz(traj)\n",
    "plt.plot(time_array, traj[:,4])\n",
    "plt.show()\n",
    "plot_u(input_traj, time_array[:-1])"
   ]
  },
  {
   "cell_type": "code",
   "execution_count": null,
   "metadata": {},
   "outputs": [],
   "source": []
  }
 ],
 "metadata": {
  "kernelspec": {
   "display_name": "Python 2",
   "language": "python",
   "name": "python2"
  },
  "language_info": {
   "codemirror_mode": {
    "name": "ipython",
    "version": 2
   },
   "file_extension": ".py",
   "mimetype": "text/x-python",
   "name": "python",
   "nbconvert_exporter": "python",
   "pygments_lexer": "ipython2",
   "version": "2.7.12"
  }
 },
 "nbformat": 4,
 "nbformat_minor": 2
}
