{
 "cells": [
  {
   "cell_type": "code",
   "execution_count": 70,
   "metadata": {},
   "outputs": [],
   "source": [
    "# this assumes torque at the rotation"
   ]
  },
  {
   "cell_type": "code",
   "execution_count": 118,
   "metadata": {},
   "outputs": [],
   "source": [
    "import math\n",
    "import numpy as np\n",
    "import matplotlib.pyplot as plt\n",
    "from IPython.display import HTML\n",
    "from pydrake.math import sin, cos\n",
    "import time\n",
    "\n",
    "%matplotlib inline\n",
    "\n",
    "from pydrake.all import (SignalLogger, CompliantMaterial, ConstantVectorSource, DirectCollocation, DiagramBuilder, FloatingBaseType,\n",
    "                         PiecewisePolynomial, RigidBodyTree, RigidBodyPlant,\n",
    "                         SolutionResult, AddModelInstancesFromSdfString,\n",
    "                         MathematicalProgram, Simulator, BasicVector, AddFlatTerrainToWorld)\n",
    "from underactuated import (FindResource, PlanarRigidBodyVisualizer)"
   ]
  },
  {
   "cell_type": "code",
   "execution_count": 2,
   "metadata": {},
   "outputs": [],
   "source": [
    "# using meschat as the visualizer\n",
    "import meshcat\n",
    "import meshcat.geometry as g\n",
    "import meshcat.transformations as tf"
   ]
  },
  {
   "cell_type": "code",
   "execution_count": 3,
   "metadata": {
    "scrolled": false
   },
   "outputs": [
    {
     "name": "stdout",
     "output_type": "stream",
     "text": [
      "You can open the visualizer by visiting the following URL:\n",
      "http://127.0.0.1:7002/static/\n"
     ]
    }
   ],
   "source": [
    "vis = meshcat.Visualizer()"
   ]
  },
  {
   "cell_type": "code",
   "execution_count": 93,
   "metadata": {},
   "outputs": [],
   "source": [
    "# define dynamical properties of the system\n",
    "mass = 1.0\n",
    "length = 1.0\n",
    "gravity = 9.81\n",
    "water_distance = .9 # distance from the top of the pendulum to the water\n",
    "damping_coeff = .5"
   ]
  },
  {
   "cell_type": "code",
   "execution_count": 98,
   "metadata": {},
   "outputs": [],
   "source": [
    "# create the objects\n",
    "pivot = vis[\"pivot\"]\n",
    "pole = pivot[\"pole\"]\n",
    "water = vis[\"water\"]\n",
    "\n",
    "# draw the objects\n",
    "pivot.set_object(g.Sphere(radius=.1)) # set pivot to be a sphere\n",
    "pole.set_object(g.Cylinder(height=1.0,radius=.05)) # create cylinder to pivot\n",
    "\n",
    "# position the objects\n",
    "pole.set_transform(tf.translation_matrix([0,length/2.0,0])) # set location of pole\n",
    "pivot.set_transform(tf.rotation_matrix(-np.pi/2.0,[1,0,0])) # rotate the pole\n",
    "\n",
    "# position the water\n",
    "water.set_object(g.Box([2,2,.01]))\n",
    "water.set_transform(tf.translation_matrix([0,0,-water_distance]))"
   ]
  },
  {
   "cell_type": "code",
   "execution_count": 187,
   "metadata": {},
   "outputs": [],
   "source": [
    "# states\n",
    "theta = 0.0 # theta\n",
    "theta_dot = 0.0 # theta derivative\n",
    "\n",
    "state_initial = [theta, theta_dot] # initial state vector\n",
    "def draw_transformation(state):\n",
    "    pivot.set_transform(tf.rotation_matrix(state[0]-np.pi/2.0,[1,0,0])) # rotate the pole\n",
    "draw_transformation(state_initial) # draw the initial state"
   ]
  },
  {
   "cell_type": "code",
   "execution_count": 188,
   "metadata": {},
   "outputs": [],
   "source": [
    "# check if the pendulum is contact with water\n",
    "def contact_check(state):\n",
    "    return True\n",
    "    theta = state[0]\n",
    "    # check if theta is in the region\n",
    "    if theta < .1:\n",
    "        return True\n",
    "    else:\n",
    "        return False"
   ]
  },
  {
   "cell_type": "code",
   "execution_count": 189,
   "metadata": {},
   "outputs": [],
   "source": [
    "# define the transition between states\n",
    "def pend_guard(state):\n",
    "    return True"
   ]
  },
  {
   "cell_type": "code",
   "execution_count": 190,
   "metadata": {},
   "outputs": [],
   "source": [
    "# dyanmics with damping\n",
    "def pend_contact(state, u):\n",
    "    \n",
    "    # include necessary parameters\n",
    "    global mass, length, gravity, damping_coeff\n",
    "    \n",
    "    # unpack values\n",
    "    theta = state[0]\n",
    "    theta_dot = state[1]\n",
    "    \n",
    "    # set the derivative values\n",
    "    derivs = np.zeros_like(state)\n",
    "    derivs[0] = theta_dot # set theta_dot to theta_dot\n",
    "    # dynamics of damped pendulum\n",
    "    derivs[1] = -damping_coeff*theta_dot/(mass*length**2) + u[0]/(mass*length**2) - gravity*sin(theta)/length\n",
    "    \n",
    "    return derivs"
   ]
  },
  {
   "cell_type": "code",
   "execution_count": 191,
   "metadata": {},
   "outputs": [],
   "source": [
    "def pend_no_contact(state, u):\n",
    "    \n",
    "    # include necessary parameters\n",
    "    global mass, length, gravity, damping_coeff\n",
    "    \n",
    "    # unpack values\n",
    "    theta = state[0]\n",
    "    theta_dot = state[1]\n",
    "    \n",
    "    # set the derivative values\n",
    "    derivs = np.zeros_like(state)\n",
    "    derivs[0] = theta_dot # set theta_dot to theta_dot\n",
    "    # dynamics of damped pendulum\n",
    "    derivs[1] = u[0]/(mass*length**2) - gravity*sin(theta)/length\n",
    "    \n",
    "    return derivs"
   ]
  },
  {
   "cell_type": "code",
   "execution_count": 192,
   "metadata": {},
   "outputs": [],
   "source": [
    "# get the dynamics\n",
    "def pend_dynamics(state, u):\n",
    "    if contact_check(state):\n",
    "        return pend_contact(state,u)\n",
    "    else:\n",
    "        return pend_no_contact(state,u)"
   ]
  },
  {
   "cell_type": "code",
   "execution_count": 248,
   "metadata": {
    "scrolled": true
   },
   "outputs": [],
   "source": [
    "def compute_optimal_control(initial_state, final_state, min_time, max_time):\n",
    "    # Setup solver\n",
    "    mp = MathematicalProgram()\n",
    "\n",
    "    # number knot points\n",
    "    N = 50\n",
    "    \n",
    "    # Total time used\n",
    "    time_used = mp.NewContinuousVariables(1, \"time_used\") # add random variabe for time used\n",
    "    dt = time_used/(N+1)\n",
    "    \n",
    "    # Control decision variables\n",
    "    u = mp.NewContinuousVariables(1, \"u_%d\" % 0) # only one input\n",
    "    u_over_time = u\n",
    "    for k in range(1,N):\n",
    "        u = mp.NewContinuousVariables(1, \"u_%d\" % k)\n",
    "        u_over_time = np.vstack((u_over_time, u))\n",
    "    total_u = u_over_time\n",
    "\n",
    "    # State decision variabless\n",
    "    x = mp.NewContinuousVariables(2, \"x_%d\" % 0) # for both input thrusters\n",
    "    x_over_time = x\n",
    "    for k in range(1,N+1):\n",
    "        x = mp.NewContinuousVariables(2, \"x_%d\" % k)\n",
    "        x_over_time = np.vstack((x_over_time, x))\n",
    "    total_x = x_over_time\n",
    "    \n",
    "    # State Constraints\n",
    "    error_thresh = 0.0001\n",
    "    for n in range(N):\n",
    "        # Actual state vs. predicted (through dynamics) state\n",
    "        state_next = total_x[n+1]\n",
    "        dynamic_state_next = total_x[n,:] + pend_dynamics(total_x[n,:], total_u[n,:])*dt\n",
    "  \n",
    "        # Make sure the actual and predicted align to follow dynamics\n",
    "        for j in range(2):\n",
    "            state_error = state_next[j] - dynamic_state_next[j]\n",
    "            mp.AddConstraint(state_error <= error_thresh)\n",
    "            mp.AddConstraint(state_error >= -error_thresh)\n",
    "\n",
    "    # Quadratic Cost in control effort\n",
    "    # TODO: Make this cost of transport, better measure of effort\n",
    "    # COT = u^2/(m_tot*g*d)\n",
    "    mp.AddQuadraticCost(1 * u_over_time[:,0].dot(u_over_time[:,0]))\n",
    "\n",
    "    # Add initial and final state constraints\n",
    "    for i in range(2):\n",
    "        # initial\n",
    "        initial_state_error = x_over_time[0,i] - initial_state[i]\n",
    "        mp.AddConstraint(initial_state_error == 0.0)\n",
    "        \n",
    "        # final\n",
    "        final_state_error = x_over_time[-1,0] - final_state[0]\n",
    "        mp.AddConstraint(final_state_error <= error_thresh)\n",
    "        mp.AddConstraint(final_state_error >= -error_thresh)\n",
    "        \n",
    "        \n",
    "        \n",
    "    \n",
    "#     # final constraints\n",
    "#     theta_error = x_over_time[-1,0] - final_state[0]\n",
    "#     mp.AddConstraint(theta_error <= error_thresh)\n",
    "#     mp.AddConstraint(theta_error >= -error_thresh)\n",
    "    \n",
    "#     theta_dot_error = x_over_time[-1,1] - final_state[1]\n",
    "#     mp.AddConstraint(theta_dot_error <= error_thresh)\n",
    "#     mp.AddConstraint(theta_dot_error >= -error_thresh)\n",
    "    \n",
    "    # add time constraint\n",
    "    mp.AddConstraint(time_used[0] >= minimum_time)\n",
    "#     mp.AddConstraint(time_used[0] <= maximum_time)\n",
    "\n",
    "    print \"Number of decision vars\", mp.num_vars()\n",
    "    print(mp.Solve())\n",
    "\n",
    "    trajectory = mp.GetSolution(x_over_time)\n",
    "    input_trajectory = mp.GetSolution(u_over_time)\n",
    "    t = mp.GetSolution(time_used)\n",
    "    time_array = np.arange(0.0, t, t/(N+1))\n",
    "    \n",
    "    return trajectory, input_trajectory, time_array"
   ]
  },
  {
   "cell_type": "code",
   "execution_count": 249,
   "metadata": {
    "scrolled": false
   },
   "outputs": [
    {
     "name": "stdout",
     "output_type": "stream",
     "text": [
      "Number of decision vars 153\n",
      "SolutionResult.kSolutionFound\n"
     ]
    }
   ],
   "source": [
    "# Different starting places\n",
    "origin = (0.0,0.0) # theta, theta_dot\n",
    "\n",
    "# Set the desired final conditions\n",
    "swing_up = (np.pi,0.0)\n",
    "\n",
    "# Set the time constraints\n",
    "minimum_time = 0.5; maximum_time = 15.\n",
    "\n",
    "# Solve the trajectory optimization\n",
    "traj, input_traj, time_array = compute_optimal_control(origin, swing_up, minimum_time, maximum_time)\n"
   ]
  },
  {
   "cell_type": "code",
   "execution_count": 250,
   "metadata": {
    "scrolled": true
   },
   "outputs": [
    {
     "name": "stdout",
     "output_type": "stream",
     "text": [
      "Trajectory size:  (51, 2)\n",
      "Input size:  (50,)\n",
      "\n",
      "\n",
      "Initial state:  [0. 0.]\n",
      "\n",
      "\n",
      "Final state:  [ 3.14149265e+00 -6.96727924e-04]\n",
      "Final time:  13.4510003507421\n",
      "Total energ:  1.2423777115930676e-08\n"
     ]
    }
   ],
   "source": [
    "# Print trajectory information\n",
    "print \"Trajectory size: \", traj.shape\n",
    "print \"Input size: \", input_traj.shape\n",
    "print \"\\n\"\n",
    "\n",
    "# Print initial conditions\n",
    "print \"Initial state: \", traj[0]\n",
    "print \"\\n\"\n",
    "\n",
    "# Print final conditionsa\n",
    "print \"Final state: \", traj[-1]\n",
    "\n",
    "print \"Final time: \", time_array[-1]\n",
    "print \"Total energ: \", input_traj.dot(input_traj)"
   ]
  },
  {
   "cell_type": "code",
   "execution_count": 251,
   "metadata": {},
   "outputs": [],
   "source": [
    "def plot_theta(trajectory, time_array):\n",
    "    theta = trajectory[:,0]\n",
    "    fig, axes = plt.subplots(nrows=1, ncols=1)\n",
    "    axes.plot(time_array, theta)\n",
    "    plt.show()\n",
    "    \n",
    "def plot_u(input_trajectory, time_array):\n",
    "    fig, axes = plt.subplots(nrows=1,ncols=1)\n",
    "    axes.plot(time_array[:-1], input_trajectory)\n",
    "    plt.show()"
   ]
  },
  {
   "cell_type": "code",
   "execution_count": 252,
   "metadata": {
    "scrolled": false
   },
   "outputs": [
    {
     "data": {
      "image/png": "[encoded data removed]",
      "text/plain": [
       "<Figure size 432x288 with 1 Axes>"
      ]
     },
     "metadata": {},
     "output_type": "display_data"
    },
    {
     "data": {
      "image/png": "[encoded data removed]",
      "text/plain": [
       "<Figure size 432x288 with 1 Axes>"
      ]
     },
     "metadata": {},
     "output_type": "display_data"
    }
   ],
   "source": [
    "# Plot\n",
    "plot_theta(traj, time_array)\n",
    "plot_u(input_traj, time_array)"
   ]
  },
  {
   "cell_type": "code",
   "execution_count": 205,
   "metadata": {},
   "outputs": [],
   "source": [
    "draw_transformation(traj[0,:].tolist())"
   ]
  },
  {
   "cell_type": "code",
   "execution_count": 206,
   "metadata": {},
   "outputs": [],
   "source": [
    "for i in range(len(traj)):\n",
    "    draw_transformation(traj[i,:])\n",
    "    time.sleep(.1)"
   ]
  },
  {
   "cell_type": "code",
   "execution_count": 246,
   "metadata": {},
   "outputs": [],
   "source": [
    "current_state = [0.0, 0.0]\n",
    "draw_transformation(current_state)"
   ]
  },
  {
   "cell_type": "code",
   "execution_count": 247,
   "metadata": {},
   "outputs": [
    {
     "name": "stderr",
     "output_type": "stream",
     "text": [
      "/usr/local/lib/python2.7/site-packages/ipykernel_launcher.py:11: DeprecationWarning: object of type <type 'float'> cannot be safely interpreted as an integer.\n",
      "  # This is added back by InteractiveShellApp.init_path()\n"
     ]
    },
    {
     "name": "stdout",
     "output_type": "stream",
     "text": [
      "t: 0.01001001001\n",
      "t_array: 0.0\n",
      "torque: 3.70121084588e-05\n",
      "t: 0.45045045045\n",
      "t_array: 0.443991690373\n",
      "torque: -6.70647229097e-05\n",
      "t: 0.890890890891\n",
      "t_array: 0.887983380746\n",
      "torque: -5.61431282791e-05\n",
      "t: 1.34134134134\n",
      "t_array: 1.33197507112\n",
      "torque: -1.25560679585e-05\n",
      "t: 1.78178178178\n",
      "t_array: 1.77596676149\n",
      "torque: 1.20733062254e-05\n",
      "t: 2.22222222222\n",
      "t_array: 2.21995845187\n",
      "torque: 1.2363621143e-05\n",
      "t: 2.67267267267\n",
      "t_array: 2.66395014224\n",
      "torque: 4.11338849579e-06\n",
      "t: 3.11311311311\n",
      "t_array: 3.10794183261\n",
      "torque: -2.11202994394e-06\n",
      "t: 3.55355355355\n",
      "t_array: 3.55193352299\n",
      "torque: -2.29662958195e-06\n",
      "t: 4.004004004\n",
      "t_array: 3.99592521336\n",
      "torque: -1.3614447585e-06\n",
      "t: 4.44444444444\n",
      "t_array: 4.43991690373\n",
      "torque: 1.07467079316e-06\n",
      "t: 4.88488488488\n",
      "t_array: 4.88390859411\n",
      "torque: -9.09419175491e-08\n",
      "t: 5.33533533534\n",
      "t_array: 5.32790028448\n",
      "torque: -9.97345640387e-08\n",
      "t: 5.77577577578\n",
      "t_array: 5.77189197485\n",
      "torque: -1.61277831734e-07\n",
      "t: 6.21621621622\n",
      "t_array: 6.21588366523\n",
      "torque: -1.02023422555e-07\n",
      "t: 6.66666666667\n",
      "t_array: 6.6598753556\n",
      "torque: 2.65825046513e-07\n",
      "t: 7.10710710711\n",
      "t_array: 7.10386704597\n",
      "torque: 5.21474433389e-08\n",
      "t: 7.55755755756\n",
      "t_array: 7.54785873635\n",
      "torque: 7.12258725699e-08\n",
      "t: 7.997997998\n",
      "t_array: 7.99185042672\n",
      "torque: 4.90286248962e-08\n",
      "t: 8.43843843844\n",
      "t_array: 8.43584211709\n",
      "torque: 3.61877742928e-07\n",
      "t: 8.88888888889\n",
      "t_array: 8.87983380746\n",
      "torque: 5.83865043292e-07\n",
      "t: 9.32932932933\n",
      "t_array: 9.32382549784\n",
      "torque: -1.4104140387e-06\n",
      "t: 9.76976976977\n",
      "t_array: 9.76781718821\n",
      "torque: 4.17385712757e-07\n"
     ]
    }
   ],
   "source": [
    "# code to simulate passive dynamics\n",
    "sec = 10.0 # seconds\n",
    "steps_per_sec = 100.0 # discrete steps in a second\n",
    "num_steps = sec*steps_per_sec # total number of steps\n",
    "sec_per_step = sec/num_steps # number of seconds per step\n",
    "\n",
    "# input counter\n",
    "counter = 0\n",
    "torque = 0.0\n",
    "\n",
    "for t in np.linspace(0,sec,num_steps):\n",
    "    \n",
    "    # update state with input\n",
    "    if counter >= len(time_array) - 1:\n",
    "        torque = 0\n",
    "    elif t > time_array[counter]:\n",
    "        print(\"t: {}\".format(t))\n",
    "        print(\"t_array: {}\".format(time_array[counter]))\n",
    "        torque = input_traj[counter]\n",
    "        print(\"torque: {}\".format(torque))\n",
    "        counter += 1\n",
    "    else:\n",
    "        torque = 0\n",
    "    current_state = current_state + pend_dynamics(current_state,[torque])*sec_per_step\n",
    "    \n",
    "    # update the state of the cart\n",
    "    draw_transformation(current_state)\n",
    "    time.sleep(sec_per_step)"
   ]
  },
  {
   "cell_type": "code",
   "execution_count": 213,
   "metadata": {},
   "outputs": [
    {
     "data": {
      "text/plain": [
       "0.9301651344042037"
      ]
     },
     "execution_count": 213,
     "metadata": {},
     "output_type": "execute_result"
    }
   ],
   "source": [
    "time_array[2]"
   ]
  },
  {
   "cell_type": "code",
   "execution_count": null,
   "metadata": {},
   "outputs": [],
   "source": []
  }
 ],
 "metadata": {
  "kernelspec": {
   "display_name": "Python 2",
   "language": "python",
   "name": "python2"
  },
  "language_info": {
   "codemirror_mode": {
    "name": "ipython",
    "version": 2
   },
   "file_extension": ".py",
   "mimetype": "text/x-python",
   "name": "python",
   "nbconvert_exporter": "python",
   "pygments_lexer": "ipython2",
   "version": "2.7.14"
  }
 },
 "nbformat": 4,
 "nbformat_minor": 2
}
