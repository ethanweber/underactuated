{
 "cells": [
  {
   "cell_type": "code",
   "execution_count": 1,
   "metadata": {},
   "outputs": [],
   "source": [
    "import math\n",
    "import numpy as np\n",
    "import time, random\n",
    "import matplotlib.pyplot as plt\n",
    "%matplotlib inline\n",
    "from IPython.display import HTML\n",
    "from pydrake.math import sin, cos\n",
    "from pydrake.all import *\n",
    "from underactuated import (FindResource, PlanarRigidBodyVisualizer)\n"
   ]
  },
  {
   "cell_type": "code",
   "execution_count": 2,
   "metadata": {},
   "outputs": [],
   "source": [
    "%reload_ext autoreload\n",
    "%autoreload 2\n",
    "from dynamics_nd import *"
   ]
  },
  {
   "cell_type": "code",
   "execution_count": 3,
   "metadata": {},
   "outputs": [
    {
     "name": "stdout",
     "output_type": "stream",
     "text": [
      "You can open the visualizer by visiting the following URL:\n",
      "http://127.0.0.1:7000/static/\n"
     ]
    }
   ],
   "source": [
    "vis = MeshcatCubeVisualizer()"
   ]
  },
  {
   "cell_type": "code",
   "execution_count": null,
   "metadata": {},
   "outputs": [],
   "source": [
    "traj, input_traj, force_traj, time_array = periodic_motion()"
   ]
  },
  {
   "cell_type": "code",
   "execution_count": 30,
   "metadata": {},
   "outputs": [],
   "source": [
    "dimension = 2"
   ]
  },
  {
   "cell_type": "code",
   "execution_count": 43,
   "metadata": {},
   "outputs": [],
   "source": [
    "# trajectory found\n",
    "dt = time_array[1] - time_array[0]\n",
    "for i in range(len(traj)):\n",
    "    vis.draw_transformation(traj[i,:],dimension)\n",
    "    time.sleep(dt)"
   ]
  },
  {
   "cell_type": "code",
   "execution_count": 32,
   "metadata": {
    "scrolled": false
   },
   "outputs": [
    {
     "name": "stdout",
     "output_type": "stream",
     "text": [
      "SolutionResult.kSolutionFound\n"
     ]
    }
   ],
   "source": [
    "x, u, f = qp_controller(traj[0], traj[1], 0.1, dimension)"
   ]
  },
  {
   "cell_type": "code",
   "execution_count": null,
   "metadata": {},
   "outputs": [],
   "source": [
    "u"
   ]
  },
  {
   "cell_type": "code",
   "execution_count": null,
   "metadata": {},
   "outputs": [],
   "source": [
    "%reload_ext autoreload\n",
    "%autoreload 2\n",
    "from plotting import *"
   ]
  },
  {
   "cell_type": "code",
   "execution_count": null,
   "metadata": {
    "scrolled": true
   },
   "outputs": [],
   "source": [
    "plot_states(traj, time_array, dimension)"
   ]
  },
  {
   "cell_type": "code",
   "execution_count": null,
   "metadata": {},
   "outputs": [],
   "source": [
    "plot_vels(traj, time_array, dimension)"
   ]
  },
  {
   "cell_type": "code",
   "execution_count": null,
   "metadata": {
    "scrolled": false
   },
   "outputs": [],
   "source": [
    "input_plot(input_traj, time_array, dimension)"
   ]
  },
  {
   "cell_type": "code",
   "execution_count": 38,
   "metadata": {
    "scrolled": false
   },
   "outputs": [
    {
     "data": {
      "image/png": "[encoded data removed]",
      "text/plain": [
       "<Figure size 432x288 with 1 Axes>"
      ]
     },
     "metadata": {},
     "output_type": "display_data"
    }
   ],
   "source": [
    "ground_force_plot(force_traj, time_array, dimension)"
   ]
  },
  {
   "cell_type": "code",
   "execution_count": 39,
   "metadata": {},
   "outputs": [],
   "source": [
    "# simulate controller to follow the trajectory computed"
   ]
  },
  {
   "cell_type": "code",
   "execution_count": 44,
   "metadata": {},
   "outputs": [],
   "source": [
    "dim = dimension\n",
    "current_state = traj[0,:]\n",
    "vis.draw_transformation(current_state, dim)"
   ]
  },
  {
   "cell_type": "code",
   "execution_count": 41,
   "metadata": {},
   "outputs": [
    {
     "name": "stdout",
     "output_type": "stream",
     "text": [
      "SolutionResult.kSolutionFound\n",
      "SolutionResult.kSolutionFound\n",
      "SolutionResult.kInfeasibleConstraints\n",
      "SolutionResult.kInfeasibleConstraints\n",
      "SolutionResult.kInfeasibleConstraints\n",
      "SolutionResult.kInfeasibleConstraints\n",
      "SolutionResult.kInfeasibleConstraints\n",
      "SolutionResult.kInfeasibleConstraints\n",
      "SolutionResult.kInfeasibleConstraints\n",
      "SolutionResult.kInfeasibleConstraints\n",
      "SolutionResult.kInfeasibleConstraints\n",
      "SolutionResult.kInfeasibleConstraints\n",
      "SolutionResult.kInfeasibleConstraints\n",
      "SolutionResult.kInfeasibleConstraints\n",
      "SolutionResult.kInfeasibleConstraints\n",
      "SolutionResult.kInfeasibleConstraints\n",
      "SolutionResult.kInfeasibleConstraints\n",
      "SolutionResult.kInfeasibleConstraints\n",
      "SolutionResult.kInfeasibleConstraints\n",
      "SolutionResult.kInfeasibleConstraints\n",
      "SolutionResult.kInfeasibleConstraints\n",
      "SolutionResult.kInfeasibleConstraints\n",
      "SolutionResult.kInfeasibleConstraints\n",
      "SolutionResult.kInfeasibleConstraints\n",
      "SolutionResult.kInfeasibleConstraints\n",
      "SolutionResult.kInfeasibleConstraints\n",
      "SolutionResult.kInfeasibleConstraints\n",
      "SolutionResult.kInfeasibleConstraints\n",
      "SolutionResult.kInfeasibleConstraints\n",
      "SolutionResult.kInfeasibleConstraints\n",
      "SolutionResult.kInfeasibleConstraints\n",
      "SolutionResult.kInfeasibleConstraints\n",
      "SolutionResult.kInfeasibleConstraints\n",
      "SolutionResult.kSolutionFound\n",
      "SolutionResult.kSolutionFound\n",
      "SolutionResult.kSolutionFound\n",
      "SolutionResult.kSolutionFound\n",
      "SolutionResult.kSolutionFound\n",
      "SolutionResult.kSolutionFound\n",
      "SolutionResult.kSolutionFound\n",
      "SolutionResult.kSolutionFound\n",
      "SolutionResult.kSolutionFound\n",
      "SolutionResult.kSolutionFound\n",
      "SolutionResult.kSolutionFound\n",
      "SolutionResult.kSolutionFound\n",
      "SolutionResult.kSolutionFound\n",
      "SolutionResult.kSolutionFound\n",
      "SolutionResult.kSolutionFound\n",
      "SolutionResult.kSolutionFound\n",
      "SolutionResult.kSolutionFound\n"
     ]
    }
   ],
   "source": [
    "# code to test a trajectory\n",
    "dt = time_array[1] - time_array[0]\n",
    "for i in range(1, len(traj[:])):\n",
    "    desired_state = traj[i].copy()\n",
    "    x, u, f = qp_controller(current_state, desired_state, dt, dim)\n",
    "    current_state += get_nd_dynamics(current_state,u,f,dim)*dt\n",
    "    vis.draw_transformation(current_state,dim)\n",
    "    time.sleep(dt)"
   ]
  },
  {
   "cell_type": "code",
   "execution_count": 26,
   "metadata": {},
   "outputs": [
    {
     "name": "stderr",
     "output_type": "stream",
     "text": [
      "/usr/local/lib/python2.7/site-packages/ipykernel_launcher.py:6: DeprecationWarning: object of type <type 'float'> cannot be safely interpreted as an integer.\n",
      "  \n"
     ]
    },
    {
     "name": "stdout",
     "output_type": "stream",
     "text": [
      "SolutionResult.kInfeasibleConstraints\n",
      "SolutionResult.kInfeasibleConstraints\n",
      "SolutionResult.kInfeasibleConstraints\n",
      "SolutionResult.kInfeasibleConstraints\n",
      "SolutionResult.kInfeasibleConstraints\n",
      "SolutionResult.kInfeasibleConstraints\n",
      "SolutionResult.kInfeasibleConstraints\n",
      "SolutionResult.kInfeasibleConstraints\n",
      "SolutionResult.kInfeasibleConstraints\n",
      "SolutionResult.kInfeasibleConstraints\n",
      "SolutionResult.kInfeasibleConstraints\n",
      "SolutionResult.kInfeasibleConstraints\n",
      "SolutionResult.kInfeasibleConstraints\n",
      "SolutionResult.kInfeasibleConstraints\n",
      "SolutionResult.kInfeasibleConstraints\n",
      "SolutionResult.kInfeasibleConstraints\n",
      "SolutionResult.kInfeasibleConstraints\n",
      "SolutionResult.kInfeasibleConstraints\n",
      "SolutionResult.kInfeasibleConstraints\n",
      "SolutionResult.kInfeasibleConstraints\n",
      "SolutionResult.kInfeasibleConstraints\n",
      "SolutionResult.kInfeasibleConstraints\n",
      "SolutionResult.kInfeasibleConstraints\n",
      "SolutionResult.kInfeasibleConstraints\n",
      "SolutionResult.kInfeasibleConstraints\n",
      "SolutionResult.kInfeasibleConstraints\n",
      "SolutionResult.kInfeasibleConstraints\n",
      "SolutionResult.kInfeasibleConstraints\n",
      "SolutionResult.kInfeasibleConstraints\n",
      "SolutionResult.kInfeasibleConstraints\n",
      "SolutionResult.kInfeasibleConstraints\n",
      "SolutionResult.kInfeasibleConstraints\n",
      "SolutionResult.kInfeasibleConstraints\n",
      "SolutionResult.kInfeasibleConstraints\n",
      "SolutionResult.kInfeasibleConstraints\n",
      "SolutionResult.kInfeasibleConstraints\n",
      "SolutionResult.kInfeasibleConstraints\n",
      "SolutionResult.kInfeasibleConstraints\n",
      "SolutionResult.kInfeasibleConstraints\n",
      "SolutionResult.kInfeasibleConstraints\n",
      "SolutionResult.kInfeasibleConstraints\n",
      "SolutionResult.kInfeasibleConstraints\n",
      "SolutionResult.kInfeasibleConstraints\n",
      "SolutionResult.kInfeasibleConstraints\n",
      "SolutionResult.kInfeasibleConstraints\n",
      "SolutionResult.kInfeasibleConstraints\n",
      "SolutionResult.kInfeasibleConstraints\n",
      "SolutionResult.kInfeasibleConstraints\n",
      "SolutionResult.kInfeasibleConstraints\n",
      "SolutionResult.kInfeasibleConstraints\n"
     ]
    }
   ],
   "source": [
    "# code to test a trajectory\n",
    "sec = 0.5 # seconds\n",
    "steps_per_sec = 100.0 # discrete steps in a second\n",
    "num_steps = sec*steps_per_sec # total number of steps\n",
    "sec_per_step = sec/num_steps # number of seconds per step\n",
    "for t in np.linspace(0,sec,num_steps):\n",
    "    x, u, f = qp_controller(current_state, desired_state, sec_per_step, dim)\n",
    "    current_state += get_nd_dynamics(current_state,u,f,dim)*sec_per_step\n",
    "    vis.draw_transformation(current_state, dim)\n",
    "    time.sleep(sec_per_step)\n"
   ]
  },
  {
   "cell_type": "code",
   "execution_count": 27,
   "metadata": {
    "scrolled": true
   },
   "outputs": [],
   "source": [
    "dim = 3\n",
    "angle = 0.0\n",
    "angle_vel = 0.0 # 5.0\n",
    "current_state = get_nd_state((0,0.0,angle,0.0,0.,0.,angle_vel,00.0), dim)\n",
    "vis.draw_transformation(current_state, dim)"
   ]
  },
  {
   "cell_type": "code",
   "execution_count": 28,
   "metadata": {},
   "outputs": [
    {
     "name": "stderr",
     "output_type": "stream",
     "text": [
      "/usr/local/lib/python2.7/site-packages/ipykernel_launcher.py:6: DeprecationWarning: object of type <type 'float'> cannot be safely interpreted as an integer.\n",
      "  \n"
     ]
    }
   ],
   "source": [
    "# code to simulate dynamics\n",
    "sec = 0.5 # seconds\n",
    "steps_per_sec = 50.0 # discrete steps in a second\n",
    "num_steps = sec*steps_per_sec # total number of steps\n",
    "sec_per_step = sec/num_steps # number of seconds per step\n",
    "for t in np.linspace(0,sec,num_steps):\n",
    "    torque = [0.0]\n",
    "    force = np.asarray([0.,0.,0.,0.,0.,0.,0.,0.])\n",
    "    current_state += get_nd_dynamics(current_state,torque,force,dim)*sec_per_step\n",
    "#     current_state = contact_next_state(current_state,torque,sec_per_step,dim)\n",
    "    vis.draw_transformation(current_state, dim)\n",
    "    time.sleep(sec_per_step)"
   ]
  },
  {
   "cell_type": "code",
   "execution_count": null,
   "metadata": {},
   "outputs": [],
   "source": []
  }
 ],
 "metadata": {
  "kernelspec": {
   "display_name": "Python 2",
   "language": "python",
   "name": "python2"
  },
  "language_info": {
   "codemirror_mode": {
    "name": "ipython",
    "version": 2
   },
   "file_extension": ".py",
   "mimetype": "text/x-python",
   "name": "python",
   "nbconvert_exporter": "python",
   "pygments_lexer": "ipython2",
   "version": "2.7.14"
  }
 },
 "nbformat": 4,
 "nbformat_minor": 2
}
