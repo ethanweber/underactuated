{
 "cells": [
  {
   "cell_type": "code",
   "execution_count": 17,
   "metadata": {},
   "outputs": [],
   "source": [
    "import math\n",
    "import numpy as np\n",
    "import matplotlib.pyplot as plt\n",
    "from IPython.display import HTML\n",
    "\n",
    "%matplotlib inline\n",
    "\n",
    "from pydrake.all import (SignalLogger, CompliantMaterial, ConstantVectorSource, DirectCollocation, DiagramBuilder, FloatingBaseType,\n",
    "                         PiecewisePolynomial, RigidBodyTree, RigidBodyPlant,\n",
    "                         SolutionResult, AddModelInstancesFromSdfString,\n",
    "                         MathematicalProgram, Simulator, BasicVector, AddFlatTerrainToWorld)\n",
    "from underactuated import (FindResource, PlanarRigidBodyVisualizer)"
   ]
  },
  {
   "cell_type": "code",
   "execution_count": 18,
   "metadata": {},
   "outputs": [
    {
     "ename": "ImportError",
     "evalue": "No module named umsgpack",
     "output_type": "error",
     "traceback": [
      "\u001b[0;31m-------------------------------------------------------------------\u001b[0m",
      "\u001b[0;31mImportError\u001b[0m                       Traceback (most recent call last)",
      "\u001b[0;32m<ipython-input-18-dcfd9c7f55ee>\u001b[0m in \u001b[0;36m<module>\u001b[0;34m()\u001b[0m\n\u001b[1;32m      5\u001b[0m \u001b[0mos\u001b[0m\u001b[0;34m.\u001b[0m\u001b[0mchdir\u001b[0m\u001b[0;34m(\u001b[0m\u001b[0mmy_dir\u001b[0m\u001b[0;34m+\u001b[0m\u001b[0;34m'/src'\u001b[0m\u001b[0;34m)\u001b[0m\u001b[0;34m\u001b[0m\u001b[0m\n\u001b[1;32m      6\u001b[0m \u001b[0;34m\u001b[0m\u001b[0m\n\u001b[0;32m----> 7\u001b[0;31m \u001b[0;32mimport\u001b[0m \u001b[0mmeshcat\u001b[0m\u001b[0;34m\u001b[0m\u001b[0m\n\u001b[0m\u001b[1;32m      8\u001b[0m \u001b[0;32mimport\u001b[0m \u001b[0mmeshcat\u001b[0m\u001b[0;34m.\u001b[0m\u001b[0mgeometry\u001b[0m \u001b[0;32mas\u001b[0m \u001b[0mg\u001b[0m\u001b[0;34m\u001b[0m\u001b[0m\n\u001b[1;32m      9\u001b[0m \u001b[0;32mimport\u001b[0m \u001b[0mmeshcat\u001b[0m\u001b[0;34m.\u001b[0m\u001b[0mtransformations\u001b[0m \u001b[0;32mas\u001b[0m \u001b[0mtf\u001b[0m\u001b[0;34m\u001b[0m\u001b[0m\n",
      "\u001b[0;32m/Users/ethanweber/Documents/RobotLocomotionGroup/meshcat-python/src/meshcat/__init__.py\u001b[0m in \u001b[0;36m<module>\u001b[0;34m()\u001b[0m\n\u001b[1;32m      1\u001b[0m \u001b[0;32mimport\u001b[0m \u001b[0mos\u001b[0m\u001b[0;34m\u001b[0m\u001b[0m\n\u001b[1;32m      2\u001b[0m \u001b[0;34m\u001b[0m\u001b[0m\n\u001b[0;32m----> 3\u001b[0;31m \u001b[0;32mfrom\u001b[0m \u001b[0;34m.\u001b[0m \u001b[0;32mimport\u001b[0m \u001b[0mcommands\u001b[0m\u001b[0;34m\u001b[0m\u001b[0m\n\u001b[0m\u001b[1;32m      4\u001b[0m \u001b[0;32mfrom\u001b[0m \u001b[0;34m.\u001b[0m \u001b[0;32mimport\u001b[0m \u001b[0mgeometry\u001b[0m\u001b[0;34m\u001b[0m\u001b[0m\n\u001b[1;32m      5\u001b[0m \u001b[0;32mfrom\u001b[0m \u001b[0;34m.\u001b[0m \u001b[0;32mimport\u001b[0m \u001b[0mvisualizer\u001b[0m\u001b[0;34m\u001b[0m\u001b[0m\n",
      "\u001b[0;32m/Users/ethanweber/Documents/RobotLocomotionGroup/meshcat-python/src/meshcat/commands.py\u001b[0m in \u001b[0;36m<module>\u001b[0;34m()\u001b[0m\n\u001b[1;32m      5\u001b[0m     \u001b[0municode\u001b[0m \u001b[0;34m=\u001b[0m \u001b[0mstr\u001b[0m\u001b[0;34m\u001b[0m\u001b[0m\n\u001b[1;32m      6\u001b[0m \u001b[0;34m\u001b[0m\u001b[0m\n\u001b[0;32m----> 7\u001b[0;31m \u001b[0;32mfrom\u001b[0m \u001b[0;34m.\u001b[0m\u001b[0mgeometry\u001b[0m \u001b[0;32mimport\u001b[0m \u001b[0mGeometry\u001b[0m\u001b[0;34m,\u001b[0m \u001b[0mObject\u001b[0m\u001b[0;34m,\u001b[0m \u001b[0mMesh\u001b[0m\u001b[0;34m,\u001b[0m \u001b[0mMeshPhongMaterial\u001b[0m\u001b[0;34m,\u001b[0m \u001b[0mPointsMaterial\u001b[0m\u001b[0;34m,\u001b[0m \u001b[0mPoints\u001b[0m\u001b[0;34m\u001b[0m\u001b[0m\n\u001b[0m\u001b[1;32m      8\u001b[0m \u001b[0;34m\u001b[0m\u001b[0m\n\u001b[1;32m      9\u001b[0m \u001b[0;32mclass\u001b[0m \u001b[0mSetObject\u001b[0m\u001b[0;34m:\u001b[0m\u001b[0;34m\u001b[0m\u001b[0m\n",
      "\u001b[0;32m/Users/ethanweber/Documents/RobotLocomotionGroup/meshcat-python/src/meshcat/geometry.py\u001b[0m in \u001b[0;36m<module>\u001b[0;34m()\u001b[0m\n\u001b[1;32m      8\u001b[0m     \u001b[0municode\u001b[0m \u001b[0;34m=\u001b[0m \u001b[0mstr\u001b[0m\u001b[0;34m\u001b[0m\u001b[0m\n\u001b[1;32m      9\u001b[0m \u001b[0;34m\u001b[0m\u001b[0m\n\u001b[0;32m---> 10\u001b[0;31m \u001b[0;32mimport\u001b[0m \u001b[0mumsgpack\u001b[0m\u001b[0;34m\u001b[0m\u001b[0m\n\u001b[0m\u001b[1;32m     11\u001b[0m \u001b[0;32mimport\u001b[0m \u001b[0mnumpy\u001b[0m \u001b[0;32mas\u001b[0m \u001b[0mnp\u001b[0m\u001b[0;34m\u001b[0m\u001b[0m\n\u001b[1;32m     12\u001b[0m \u001b[0;34m\u001b[0m\u001b[0m\n",
      "\u001b[0;31mImportError\u001b[0m: No module named umsgpack"
     ]
    }
   ],
   "source": [
    "# let's use Meshcat!\n",
    "# CHANGE THIS DIRECTOR TO AVOID REBUILDING\n",
    "# import os\n",
    "# my_dir = '/Users/ethanweber/Documents/RobotLocomotionGroup/meshcat-python'\n",
    "# os.chdir(my_dir+'/src')\n",
    "\n",
    "import meshcat\n",
    "import meshcat.geometry as g\n",
    "import meshcat.transformations as tf"
   ]
  },
  {
   "cell_type": "code",
   "execution_count": 2,
   "metadata": {},
   "outputs": [],
   "source": [
    "# set the initial state\n",
    "\n",
    "x = 2\n",
    "z = np.sqrt(2)\n",
    "\n",
    "x_dot = 0.0\n",
    "z_dot = 0.0\n",
    "\n",
    "thetay = 0.0\n",
    "\n",
    "# state of the flywheel\n",
    "phi = 0.0\n",
    "phi_dot = 0.0\n",
    "\n",
    "torque = -0.0\n",
    "\n",
    "# time of simulation (number of seconds)\n",
    "time_of_sim = 2.0\n",
    "\n",
    "\n",
    "state_initial = (x,0.,z,0.,thetay,0.,phi,x_dot,0.,z_dot,0.,0.,0.,phi_dot)"
   ]
  },
  {
   "cell_type": "code",
   "execution_count": 3,
   "metadata": {
    "scrolled": false
   },
   "outputs": [
    {
     "name": "stdout",
     "output_type": "stream",
     "text": [
      "Num states: 14\n",
      "Spawning PlanarRigidBodyVisualizer for tree with 1 actuators\n"
     ]
    },
    {
     "name": "stderr",
     "output_type": "stream",
     "text": [
      "/usr/local/lib/python2.7/site-packages/matplotlib/figure.py:459: UserWarning: matplotlib is currently using a non-GUI backend, so cannot show the figure\n",
      "  \"matplotlib is currently using a non-GUI backend, \"\n"
     ]
    },
    {
     "data": {
      "image/png": "[encoded data removed]",
      "text/plain": [
       "<Figure size 432x288 with 1 Axes>"
      ]
     },
     "metadata": {},
     "output_type": "display_data"
    }
   ],
   "source": [
    "timestep = 0.0\n",
    "builder = DiagramBuilder()\n",
    "tree = RigidBodyTree(FindResource(\"cubli/cubli.urdf\"),\n",
    "                     FloatingBaseType.kFixed)\n",
    "plant = RigidBodyPlant(tree, timestep)\n",
    "nx = tree.get_num_positions() + tree.get_num_velocities()\n",
    "print(\"Num states: {}\".format(nx))\n",
    "\n",
    "allmaterials = CompliantMaterial()\n",
    "allmaterials.set_youngs_modulus(1E9) # default 1E9\n",
    "allmaterials.set_dissipation(1.0) # default 0.32\n",
    "allmaterials.set_friction(1.0) # default 0.9.\n",
    "plant.set_default_compliant_material(allmaterials)\n",
    "\n",
    "plant_context = plant.CreateDefaultContext()\n",
    "\n",
    "robot = builder.AddSystem(plant)\n",
    "\n",
    "torque_system = builder.AddSystem(ConstantVectorSource(\n",
    "    np.ones((tree.get_num_actuators(), 1))*torque))\n",
    "builder.Connect(torque_system.get_output_port(0),\n",
    "                robot.get_input_port(0))\n",
    "\n",
    "# what do xlim and ylim mean, what about -5 for the ground element\n",
    "vis = builder.AddSystem(PlanarRigidBodyVisualizer(tree, xlim=[-2.5, 2.5], ylim=[-1, 2.5]))\n",
    "builder.Connect(robot.get_output_port(0),\n",
    "                vis.get_input_port(0))\n",
    "\n",
    "# And also log\n",
    "signalLogRate = 60\n",
    "signalLogger = builder.AddSystem(SignalLogger(nx))\n",
    "signalLogger._DeclarePeriodicPublish(1. / signalLogRate, 0.0)\n",
    "builder.Connect(robot.get_output_port(0),\n",
    "                signalLogger.get_input_port(0))\n",
    "\n",
    "diagram = builder.Build()\n",
    "\n",
    "simulator = Simulator(diagram)\n",
    "simulator.set_target_realtime_rate(0.25)\n",
    "simulator.set_publish_every_time_step(False)"
   ]
  },
  {
   "cell_type": "code",
   "execution_count": 4,
   "metadata": {},
   "outputs": [],
   "source": [
    "context = simulator.get_mutable_context()\n",
    "state = context.get_mutable_state().get_mutable_continuous_state().get_mutable_vector()\n",
    "state.SetFromVector(state_initial)\n",
    "simulator.StepTo(time_of_sim)"
   ]
  },
  {
   "cell_type": "code",
   "execution_count": 5,
   "metadata": {
    "scrolled": true
   },
   "outputs": [
    {
     "data": {
      "text/html": [
       "<video width=\"432\" height=\"288\" controls autoplay loop>\n",
       "  <source type=\"video/mp4\" src=\"data:video/mp4;base64,AAAAHGZ0eXBNNFYgAAACAGlzb21pc28yYXZjMQAAAAhmcmVlAAARhm1kYXQAAAKuBgX//6rcRem9\n",
       "5tlIt5Ys2CDZI+7veDI2NCAtIGNvcmUgMTUyIHIyODU0IGU5YTU5MDMgLSBILjI2NC9NUEVHLTQg\n",
       "QVZDIGNvZGVjIC0gQ29weWxlZnQgMjAwMy0yMDE3IC0gaHR0cDovL3d3dy52aWRlb2xhbi5vcmcv\n",
       "eDI2NC5odG1sIC0gb3B0aW9uczogY2FiYWM9MSByZWY9MyBkZWJsb2NrPTE6MDowIGFuYWx5c2U9\n",
       "MHgzOjB4MTEzIG1lPWhleCBzdWJtZT03IHBzeT0xIHBzeV9yZD0xLjAwOjAuMDAgbWl4ZWRfcmVm\n",
       "PTEgbWVfcmFuZ2U9MTYgY2hyb21hX21lPTEgdHJlbGxpcz0xIDh4OGRjdD0xIGNxbT0wIGRlYWR6\n",
       "b25lPTIxLDExIGZhc3RfcHNraXA9MSBjaHJvbWFfcXBfb2Zmc2V0PS0yIHRocmVhZHM9OSBsb29r\n",
       "YWhlYWRfdGhyZWFkcz0xIHNsaWNlZF90aHJlYWRzPTAgbnI9MCBkZWNpbWF0ZT0xIGludGVybGFj\n",
       "ZWQ9MCBibHVyYXlfY29tcGF0PTAgY29uc3RyYWluZWRfaW50cmE9MCBiZnJhbWVzPTMgYl9weXJh\n",
       "bWlkPTIgYl9hZGFwdD0xIGJfYmlhcz0wIGRpcmVjdD0xIHdlaWdodGI9MSBvcGVuX2dvcD0wIHdl\n",
       "aWdodHA9MiBrZXlpbnQ9MjUwIGtleWludF9taW49MjUgc2NlbmVjdXQ9NDAgaW50cmFfcmVmcmVz\n",
       "aD0wIHJjX2xvb2thaGVhZD00MCByYz1jcmYgbWJ0cmVlPTEgY3JmPTIzLjAgcWNvbXA9MC42MCBx\n",
       "cG1pbj0wIHFwbWF4PTY5IHFwc3RlcD00IGlwX3JhdGlvPTEuNDAgYXE9MToxLjAwAIAAAAINZYiE\n",
       "ADf//vbw/gU2O5jQlxHN6J0zH78VuLo0N73OAAADAAA33OZE/sqTBubAAALgAAnk3h0cdTt0Tijg\n",
       "Aoi/kaBcF/kVeao1xv6n+z/Udbrv/v0JaZQIkKZtRxZL6QkP4pv/Q7F7Vo1yVpw/A0NpRdIQIiLh\n",
       "s/SbIwR24QN6DwAr3wgCqzIjzSvFqwUKwpG6Jeamo5cxP+v2ZoJryM51Q0jGV55TYitJD8RptATo\n",
       "sldSWn04O/G9rRr4dPpfXS1ZQAPcpzfDbLqToUkPXaee1lgScMIAjQD8+pQ4Wtun8zmlVFWz/t8+\n",
       "0A/A2Qate0kVdjW5LxRaIwjBvZT7Hd2Y8aZDDl5iNZ3T8rdah3+wkVrBMnAW8zNx38+WhG4NEOPs\n",
       "aAxQsWiHoi/3OvMjG6+sNvy/eL32igiPyBjRLZTpiy/mP2nazW4y+0zUbx2VVr2nvpARTT9pfiRb\n",
       "vDTod9vWNYsctNzLOPgzKCTf2Cbn45kwfO5PEeBG7J4MzF3x1LauabQ10sVexFejrMDBGWuqyvna\n",
       "79YY/tF2+iH37WDN+C61BB5ZR4LPiAABc3cFt1fsrSTYg6VdmiO9yUDPa/mXSUX3VWHEZDA3bqOP\n",
       "bNZ3l4jTOfNiYLkOwkfK6QVBOnyJ0+ghuAgeH+tWg29BM6IBPEmIPULhWe0ZyfCpvPoeGqfcAC9S\n",
       "e4AAY3etoDnhAAAAb0GaImxDf/6nhABHXel+97RzCIwA9dk74WQIg4N/gASNj6MDYu4LQz///zNo\n",
       "KNumWG36gQGw0rBth7a+1oCzCHlfi0ci7Z8eN1jKP70CfZeQvsGDkUwuHoojMjQlRb0v+sBiXib4\n",
       "BuIA/3j/QcM33AAAACIBnkF5Cf8AS32KlA4AOWF7knO2cpEbsuu+ebomTefdWxixAAAAREGaRTwh\n",
       "kymEM//+nhABFTgN5oAKzj4Qyl6uIn97BlmlHj3f1Yk5wniNg6SyGU1pZkS5MmhUixz60hGgL1Gn\n",
       "bmZETytgAAAAKkGeY2pTwr8AOg/ItkwAwGG0kyi2qZS4FYKi22w6CniuxZgcHCdloLYdMQAAABgB\n",
       "noRqQn8AS3wYUIc0s3giIxReEjkl4ekAAABOQZqISahBaJlMCGf//p4QARb4sSz4ep/DfJHt6NQE\n",
       "GJauGUTzQT78D4jEU452BPbLJ2njzU89NYPmJe/UiopZSNhxDaktzn4HgklJUSDxAAAAIEGepkUR\n",
       "LCv/ADoAOtelEnmNV7JdwncqgJRdw9SplcPvAAAAHwGex2pCfwAloRJu0KxDwAOIJp6sXBIpqAl/\n",
       "WBLP5lQAAABCQZrJSahBbJlMCGf//p4QAIt03pDGVPUGPn6vdXnRc4ApFmdAWaufNhD+hsQSi3gS\n",
       "KtIGVC5k8HxyDiXCg6ZRHVLYAAAAWUGa60nhClJlMFFSw3/+p4QAEdTwb20imsiLcz/diBJJeZwt\n",
       "pykmkWUKGt+UxYLtLBaXensN4JFgEcCoAq9qseT9kCGFH+JcFQ1Zc5oZj26nyYVmLuz7GxUxAAAA\n",
       "IgGfCmpCfwAS2ycMPKbuaPXE4tsjltVIxQAXoml8y5cq2mgAAAA4QZsNSeEOiZTBRMN//qeEABHv\n",
       "kat39l+bAW09nyRwyxTfAWLYSWLJGpJ5EtGkQThIuzJ2wl/ilccAAAAWAZ8sakJ/AAltlIt9W5h1\n",
       "FGooDC903QAAAEZBmy9J4Q8mUwU8N//+p4QACPfI1bv4uvH9vKSXmATTtxUhj4tO4SRWq/mf3clz\n",
       "XOHYs59fqJTgUHDDXN9wEofJSZ243CyZAAAANwGfTmpCfwAJM0I6Hq67XU1Z4yvAB2eT/OoD6BXd\n",
       "qT83cVreBE3J9muXq8TlAfosdhoRSRcggKkAAADiQZtTSeEPJlMCG//+p4QAAjtA/n3bgCm1sASR\n",
       "ZDx2/FPnPEw7TahrWGLntgpb/yX+PzWgeq1O+4KisCET3vb8Q5vLAFPkCknvPlnT3NNErLkPiEN6\n",
       "SnZ4RmLpNOyorVbAmV/94KY+MLXLWt1CAUJPZIYE2lbsUWYqS6oYID0RCLtJgNa9zG/esA8bnUXd\n",
       "RZ+8ZKi3Vzqu8sbeIa+uVVgbXnPv0QET6ee0/tclcvn2AYJa5/jY6LI9anXBbd1gNiDk9ZjI4bZ3\n",
       "d5zhl+3iJnRDKwAxSRIHX7WP4THFELHOT13gwAAAAEZBn3FFETwr/wAB0DWLCmTkrEtwBu4M14AH\n",
       "ZFs+ICsdHD5UmEZBENq0QwtfZJhfAfHg+9AnlBkVgzXhPDB1mIl0LMqRv5Z/AAAARwGfkHRCfwAC\n",
       "XDUU3fq0AIUHY6/tWXpgfykeX5dvYzDyNSz/EOw9ft9mtFlIO0Nw0pOHLS4IsdsqxU6iEUG15btw\n",
       "YnoMCEp9AAAAQQGfkmpCfwACW3A5+5YM3AAWzqR0ezyEAANBCLKmpcrfO7TLc3jvwcnsz4A5rZ+1\n",
       "ID2ccXI5eap4ejSH9XF8V80wAAAAmUGblUmoQWiZTBTw3/6nhAACOoWJYACwhiDYZ3RCS7X28IFf\n",
       "l3ls7d/Rp322cKikWODCAG0I8uUuT6/vLEXn8JfsawvZ8oGlZpBTmXHkd/bpW7t/uDyafQ7I6AiS\n",
       "o4tD23nceRv3q7WRpQ/pf3ABBvprkAxZYA/dn17V2yTnjtMyjBAhmCbusZHN5VvGnFg/13tuYGir\n",
       "HG0XegAAABQBn7RqQn8AAlu2szvkjdDag8g6QQAAAJZBm7hJ4QpSZTAhv/6nhAACOoGcCAGhRhBJ\n",
       "NHl89TtqdDA2JapXmmwSFwW2iUNQNIRXb5bY5RM22dXBrNNzNoLPwQ/LhDH+vjcGylC14S2nTmth\n",
       "MU2zFKLn/zhzr+UKr3pAAtffY5+E54VIh70FdXr7m85wFfnZ+C/9lEuGYx8LnnIkEIRiOV8L5aYD\n",
       "AX5IdIxP9oXLLSAAAAAXQZ/WRTRMK/8AAdCNslj47rjViu64yt8AAABEAZ/3akJ/AAJcPiXEAAnL\n",
       "HGOdMTGyL1r3Izm5MzlLc4Vw/u9mrT7a0UkUqGR4VYJ/dLgJr8/4I5QZuBu6HmLQZk32BsEAAADm\n",
       "QZv8SahBaJlMCG///qeEAAI73flQJkAX2BHLtCRRcBAC+MoKfOByDuvRHfm4DXX7VcGIB9/Bm6iJ\n",
       "DkEVkz3QmAYIl7zrKNL7stZGxRz9u0J856C2bqetqcMJJfuIJbqC2dMdrG267+WcqC5NnMpBOC15\n",
       "vOy8B/8RKdtDr9Q7PyCx83xIyZBS11ZUcif/HNQgQ3Gvew89yrg7TVfEosPo5gugjvKmxpMl6QAT\n",
       "GJM9br4JVC/42DVhCkETP5n72wLvf6Jizlu+XgYN9WNRuxQznvtRcV01+3kXogZdVksMdAmKx7tn\n",
       "eDAAAAAfQZ4aRREsK/8AAc/xVfWRvKYxFlw+rMYRRv2EnBq2KwAAAB4Bnjl0Qn8AAlvs8uQqaJyQ\n",
       "S9garygA2N0EuNonELAAAAAUAZ47akJ/AAI9UdwAmce4bBiY3ssAAAB6QZogSahBbJlMCG///qeE\n",
       "AAI6MpGQByrtusOiRYolFq7ZDQfc3J2sNkaoHTOlIWtjkrlxRj3pBTBu5wqUIdWSVgEbVVjf7QiF\n",
       "8jIi+hv++FaNDyiuOQLuYkSNgUnBcl6or5BAlPDLvOirsD7CWGWHG4ZAUW209Bud4MEAAAAxQZ5e\n",
       "RRUsK/8AAdBpuwAGzF7ribgo5+aA28tge3ttYlKnsXo0qRZUaWbpndu4U6bz7gAAAAsBnn10Qn8A\n",
       "AAMB8wAAABIBnn9qQn8AAlwuk2QC++Yqk4EAAAC2QZpiSahBbJlMFEw3//6nhAACPOQ6C4A5NFtf\n",
       "xHROi8Ijw/qmp2W+JrnDOqkPmHI/566GPz1JvYB6rmTui4qg7yRqt4Wd9Xmh+VC2zWo/f+PcCM9Q\n",
       "RRhfObh69fjnWm/dw82/4d5UX/dQcqMlK5lLaAnGcbTMnQBZtBbT2MakThVsHeDvWYiQCePFpGOs\n",
       "IP/WrY5gmGdJUnDiYkkBuiAszmMwjcuNO3/P93uZWQ72OPqxiyPNd4MAAAAWAZ6BakJ/AAJLtcY+\n",
       "Q1JIEGFFRNsvzQAAAGJBmoZJ4QpSZTAhv/6nhAACOqHOQByaKupYMaBrelFXiOK9LnRd6kLSFj7M\n",
       "CVydKQyBU1+Y9WiI+xn8UKZF8d+kkUqi5t2SU2GLwvttoOT0kvvmuLA0QMPYg7znfGF46Q1HgwAA\n",
       "ABVBnqRFNEwr/wAB0GSVEJgwk7pIwC8AAAALAZ7DdEJ/AAADAfMAAAANAZ7FakJ/AAEV3AIbQQAA\n",
       "AFRBmspJqEFomUwIb//+p4QAAjqhzkAVl5q+NBh9YG6vSLBPvRBJmMnRRzTRYllgEOH9flZwGakB\n",
       "1AMHacsX1VpGvEd+aSjbPS6+JLFli6qT4a4bPVMAAAAdQZ7oRREsK/8AAc+fJyfuWTigA+CEYgpL\n",
       "wCrWGcAAAAANAZ8HdEJ/AAEVakpswAAAABIBnwlqQn8AAlwdnO72KNVrun0AAABUQZsNSahBbJlM\n",
       "CG///qeEAAI6tvbgCtD3kjk7Kz+km+CNWjhV5E1zw/aB9F8j2yMEp3Ql9ShOolXeAZYuCkp5DbXp\n",
       "WUA3IvdofvUVUaeyZEn3yu6AAAAAEkGfK0UVLCv/AAHQZUmm11/vdAAAABEBn0xqQn8AAS3bWlID\n",
       "5Cf1+QAAACJBm1FJqEFsmUwIb//+p4QAAhpkFcARIo0Jzwjnsn3PSO3pAAAADUGfb0UVLCv/AAAD\n",
       "AYsAAAALAZ+OdEJ/AAADAfMAAAALAZ+QakJ/AAADAfMAAAAcQZuVSahBbJlMCGf//p4QAARUoE4A\n",
       "FljUxaTruQAAAA9Bn7NFFSwr/wABupMMeygAAAALAZ/SdEJ/AAADAfMAAAALAZ/UakJ/AAADAfMA\n",
       "AAATQZvZSahBbJlMCF///oywAAAHVAAAAA9Bn/dFFSwr/wABurDMeykAAAANAZ4WdEJ/AAI61JRq\n",
       "QQAAAA0BnhhqQn8AAju4A9lAAAAAFEGaHEmoQWyZTAhP//3xAAADAEXBAAAAD0GeOkUVLCv/AAG6\n",
       "sMx7KAAAAAsBnltqQn8AAAMB8wAABeBtb292AAAAbG12aGQAAAAAAAAAAAAAAAAAAAPoAAAH8gAB\n",
       "AAABAAAAAAAAAAAAAAAAAQAAAAAAAAAAAAAAAAAAAAEAAAAAAAAAAAAAAAAAAEAAAAAAAAAAAAAA\n",
       "AAAAAAAAAAAAAAAAAAAAAAAAAAACAAAFCnRyYWsAAABcdGtoZAAAAAMAAAAAAAAAAAAAAAEAAAAA\n",
       "AAAH8gAAAAAAAAAAAAAAAAAAAAAAAQAAAAAAAAAAAAAAAAAAAAEAAAAAAAAAAAAAAAAAAEAAAAAB\n",
       "sAAAASAAAAAAACRlZHRzAAAAHGVsc3QAAAAAAAAAAQAAB/IAAQRqAAEAAAAABIJtZGlhAAAAIG1k\n",
       "aGQAAAAAAAAAAAAAAAAAD0JAAB8GoVXEAAAAAAAtaGRscgAAAAAAAAAAdmlkZQAAAAAAAAAAAAAA\n",
       "AFZpZGVvSGFuZGxlcgAAAAQtbWluZgAAABR2bWhkAAAAAQAAAAAAAAAAAAAAJGRpbmYAAAAcZHJl\n",
       "ZgAAAAAAAAABAAAADHVybCAAAAABAAAD7XN0YmwAAACxc3RzZAAAAAAAAAABAAAAoWF2YzEAAAAA\n",
       "AAAAAQAAAAAAAAAAAAAAAAAAAAABsAEgAEgAAABIAAAAAAAAAAEAAAAAAAAAAAAAAAAAAAAAAAAA\n",
       "AAAAAAAAAAAAAAAAAAAY//8AAAAvYXZjQwFkABX/4QAWZ2QAFazZQbCWhAACCNQAehIAPFi2WAEA\n",
       "Bmjr48siwAAAABx1dWlka2hA8l8kT8W6OaUbzwMj8wAAAAAAAAAYc3R0cwAAAAAAAAABAAAAPQAA\n",
       "gjUAAAAUc3RzcwAAAAAAAAABAAAAAQAAAdBjdHRzAAAAAAAAADgAAAABAAEEagAAAAEAAYafAAAA\n",
       "AQAAgjUAAAABAAII1AAAAAIAAII1AAAAAQACCNQAAAACAACCNQAAAAEAAQRqAAAAAQABhp8AAAAB\n",
       "AACCNQAAAAEAAYafAAAAAQAAgjUAAAABAAGGnwAAAAEAAII1AAAAAQACiwkAAAABAAEEagAAAAEA\n",
       "AAAAAAAAAQAAgjUAAAABAAGGnwAAAAEAAII1AAAAAQACCNQAAAACAACCNQAAAAEAAosJAAAAAQAB\n",
       "BGoAAAABAAAAAAAAAAEAAII1AAAAAQACiwkAAAABAAEEagAAAAEAAAAAAAAAAQAAgjUAAAABAAGG\n",
       "nwAAAAEAAII1AAAAAQACiwkAAAABAAEEagAAAAEAAAAAAAAAAQAAgjUAAAABAAKLCQAAAAEAAQRq\n",
       "AAAAAQAAAAAAAAABAACCNQAAAAEAAgjUAAAAAgAAgjUAAAABAAKLCQAAAAEAAQRqAAAAAQAAAAAA\n",
       "AAABAACCNQAAAAEAAosJAAAAAQABBGoAAAABAAAAAAAAAAEAAII1AAAAAQACiwkAAAABAAEEagAA\n",
       "AAEAAAAAAAAAAQAAgjUAAAABAAII1AAAAAIAAII1AAAAHHN0c2MAAAAAAAAAAQAAAAEAAAA9AAAA\n",
       "AQAAAQhzdHN6AAAAAAAAAAAAAAA9AAAEwwAAAHMAAAAmAAAASAAAAC4AAAAcAAAAUgAAACQAAAAj\n",
       "AAAARgAAAF0AAAAmAAAAPAAAABoAAABKAAAAOwAAAOYAAABKAAAASwAAAEUAAACdAAAAGAAAAJoA\n",
       "AAAbAAAASAAAAOoAAAAjAAAAIgAAABgAAAB+AAAANQAAAA8AAAAWAAAAugAAABoAAABmAAAAGQAA\n",
       "AA8AAAARAAAAWAAAACEAAAARAAAAFgAAAFgAAAAWAAAAFQAAACYAAAARAAAADwAAAA8AAAAgAAAA\n",
       "EwAAAA8AAAAPAAAAFwAAABMAAAARAAAAEQAAABgAAAATAAAADwAAABRzdGNvAAAAAAAAAAEAAAAs\n",
       "AAAAYnVkdGEAAABabWV0YQAAAAAAAAAhaGRscgAAAAAAAAAAbWRpcmFwcGwAAAAAAAAAAAAAAAAt\n",
       "aWxzdAAAACWpdG9vAAAAHWRhdGEAAAABAAAAAExhdmY1Ny44My4xMDA=\n",
       "\">\n",
       "  Your browser does not support the video tag.\n",
       "</video>"
      ],
      "text/plain": [
       "<IPython.core.display.HTML object>"
      ]
     },
     "execution_count": 5,
     "metadata": {},
     "output_type": "execute_result"
    }
   ],
   "source": [
    "ani = vis.animate(signalLogger, repeat=True)\n",
    "HTML(ani.to_html5_video())"
   ]
  },
  {
   "cell_type": "code",
   "execution_count": 6,
   "metadata": {},
   "outputs": [],
   "source": [
    "def contact_check(state):\n",
    "    return True"
   ]
  },
  {
   "cell_type": "code",
   "execution_count": 7,
   "metadata": {},
   "outputs": [],
   "source": [
    "def cube_guard(state):\n",
    "    return True"
   ]
  },
  {
   "cell_type": "code",
   "execution_count": 8,
   "metadata": {},
   "outputs": [],
   "source": [
    "def cube_contact(state, u):\n",
    "    # Contact dynamics of cube\n",
    "    \n",
    "    # Need to grab important parameters\n",
    "    M_c = 1.0 # self.M_c\n",
    "    M_w = 1.0 # self.M_w\n",
    "    M_t = M_c + M_w\n",
    "    \n",
    "    I_c = 1.0 #self.I_c\n",
    "    I_w = 1.0 #self.I_w\n",
    "    I_t = I_c + I_w\n",
    "    \n",
    "    # Distance from edge to center of cube\n",
    "    L_t = np.sqrt(2) #np.sqrt.(2*self.L)  \n",
    "    \n",
    "    # Assuming friction is 0 right now\n",
    "    F_c = 0.5\n",
    "    F_w = 0.5\n",
    "    \n",
    "    g = 9.81 # self.g\n",
    "    \n",
    "    # Relevant states are x,z,thetay, phi\n",
    "    x = state[0]\n",
    "    z = state[2]\n",
    "    thetay = state[4]\n",
    "    phi = state[6]\n",
    "    \n",
    "    xdot = state[7]\n",
    "    zdot = state[9]\n",
    "    thetaydot = state[11]\n",
    "    phidot = state[13]\n",
    "    \n",
    "    # Setup the derivative of the state vector\n",
    "    derivs = np.zeros_like(state)\n",
    "    derivs[0:7] = state[7:]\n",
    "    \n",
    "    # Cos issue taylor expansion\n",
    "    cos_theta = 1 - thetay**2/2 + thetay**2/24\n",
    "    \n",
    "    # Dynamics while the block is on the ground\n",
    "    # Right now, assumes enough friction in x direction to only rotate\n",
    "    # Right now, assumes sticky ground so it only rotates.\n",
    "    derivs[7] = 0.0 # Force balance in x, friction etc.  \n",
    "    derivs[9] = 0.0 # Force balance in z, normal force \n",
    "    \n",
    "    # Moment balance around center of block \n",
    "    derivs[11] = (-L_t*M_t*g*cos_theta - u[0] + F_w*phidot - F_c*thetaydot)/I_c \n",
    "    \n",
    "    # Torque on the inertia wheel\n",
    "    derivs[13] = (L_t*M_t*g*cos_theta + u[0]*I_t + F_c*thetaydot*I_w - F_w*phidot*I_t)/(I_w*I_c)\n",
    "\n",
    "    return derivs"
   ]
  },
  {
   "cell_type": "code",
   "execution_count": 9,
   "metadata": {},
   "outputs": [],
   "source": [
    "def cube_ballistic(state, u):\n",
    "    # Ballistic Dynamics of the cube\n",
    "    \n",
    "    # Need to grab important parameters\n",
    "    M_c = 1.0 # self.M_c\n",
    "    M_w = 1.0 # self.M_w\n",
    "    M_t = M_c + M_w\n",
    "    \n",
    "    I_c = 1.0 #self.I_c\n",
    "    I_w = 1.0 #self.I_w\n",
    "    I_t = I_c + I_w\n",
    "    \n",
    "    # Distance from edge to center of cube\n",
    "    L_t = np.sqrt(2) #np.sqrt.(2*self.L)  \n",
    "    \n",
    "    # Assuming friction is 0 right now\n",
    "    F_c = 0.5\n",
    "    F_w = 0.5\n",
    "    \n",
    "    g = 9.81 # self.g\n",
    "    \n",
    "    # Relevant states are x,z,thetay, phi\n",
    "    x = state[0]\n",
    "    z = state[2]\n",
    "    thetay = state[4]\n",
    "    phi = state[6]\n",
    "    \n",
    "    # Velocity States\n",
    "    xdot = state[7]\n",
    "    zdot = state[9]\n",
    "    thetaydot = state[11]\n",
    "    phidot = state[13]\n",
    "    \n",
    "    # Setup the derivative of the state vector\n",
    "    derivs = np.zeros_like(state)\n",
    "    derivs[0:7] = state[7:]\n",
    "    \n",
    "    # Ballistic Dynamics\n",
    "    derivs[7] = 0.0 # No forces along x\n",
    "    derivs[9] = -g  # Acceleration due to gravity\n",
    "    \n",
    "    # Back torque due to wheel\n",
    "    derivs[11] = (-u[0] + F_w*phidot - F_c*thetaydot)/I_c\n",
    "#     derivs[11] = 0.0\n",
    "    # Wheel accel\n",
    "    derivs[13] = (u[0]*I_t + F_c*thetaydot*I_w - F_w*phidot*I_t)/(I_w*I_c)\n",
    "#     derivs[13] = 0.0\n",
    "    \n",
    "    return derivs     "
   ]
  },
  {
   "cell_type": "code",
   "execution_count": 10,
   "metadata": {
    "scrolled": true
   },
   "outputs": [],
   "source": [
    "def compute_optimal_control(initial_state,final_state, min_time, max_time):\n",
    "    # Setup solver\n",
    "    mp = MathematicalProgram()\n",
    "\n",
    "    # number knot points\n",
    "    N = 50\n",
    "    \n",
    "    # Total time used\n",
    "    time_used = mp.NewContinuousVariables(1, \"time_used\") # add random variabe for time used\n",
    "    dt = time_used/(N+1)\n",
    "    \n",
    "    \n",
    "    # Control decision variables\n",
    "    u = mp.NewContinuousVariables(1, \"u_%d\" % 0) # only one input for the cube\n",
    "    u_over_time = u\n",
    "    for k in range(1,N):\n",
    "        u = mp.NewContinuousVariables(1, \"u_%d\" % k)\n",
    "        u_over_time = np.vstack((u_over_time, u))\n",
    "    total_u = u_over_time\n",
    "\n",
    "    # State decision variabless\n",
    "    x = mp.NewContinuousVariables(14, \"x_%d\" % 0) # for both input thrusters\n",
    "    x_over_time = x\n",
    "    for k in range(1,N+1):\n",
    "        x = mp.NewContinuousVariables(14, \"x_%d\" % k)\n",
    "        x_over_time = np.vstack((x_over_time, x))\n",
    "    total_x = x_over_time\n",
    "\n",
    "    # State Constraints\n",
    "    error_thresh = 0.001\n",
    "    for n in range(N):\n",
    "        # Actual state vs. predicted (through dynamics) state\n",
    "        state_next = total_x[n+1]\n",
    "        dynamic_state_next = total_x[n,:] + cube_contact(total_x[n,:], total_u[n,:])*dt\n",
    "#         dynamic_state_next = total_x[n,:] + cube_ballistic(total_x[n,:], total_u[n,:])*dt\n",
    "        \n",
    "        # Make sure the actual and predicted align to follow dynamics\n",
    "        for j in range(14):\n",
    "            state_error = state_next[j] - dynamic_state_next[j]\n",
    "            mp.AddConstraint(state_error <= error_thresh)\n",
    "            mp.AddConstraint(state_error >= -error_thresh)\n",
    "\n",
    "    # Quadratic Cost in control effort\n",
    "    # TODO: Make this cost of transport, better measure of effort\n",
    "    # COT = u^2/(m_tot*g*d)\n",
    "    mp.AddQuadraticCost(1 * u_over_time[:,0].dot(u_over_time[:,0]))\n",
    "\n",
    "    # Add initial state constraint\n",
    "    for i in range(14):\n",
    "        initial_state_error = x_over_time[0,i] - initial_state[i]\n",
    "        mp.AddConstraint(initial_state_error == 0.0)\n",
    "    \n",
    "    # Add final state constraint\n",
    "    # Let's us specify where we want the cube to be\n",
    "#     for i in range(14):\n",
    "#         state_error = x_over_time[-1,i] - final_state[i]    \n",
    "#         mp.AddConstraint(state_error <= 1)\n",
    "#         mp.AddConstraint(state_error >= -1)\n",
    "#     # Position Constraint\n",
    "    x_error = x_over_time[-1,0] - final_state[0]\n",
    "    mp.AddConstraint(x_error <= error_thresh)\n",
    "    mp.AddConstraint(x_error >= -error_thresh)\n",
    "    \n",
    "    z_error = x_over_time[-1,2] - final_state[2]\n",
    "    mp.AddConstraint(z_error <= error_thresh)\n",
    "    mp.AddConstraint(z_error >= -error_thresh)\n",
    "    \n",
    "    theta_error = x_over_time[-1,4] - final_state[4]\n",
    "    mp.AddConstraint(theta_error <= error_thresh)\n",
    "    mp.AddConstraint(theta_error >= -error_thresh)\n",
    "    \n",
    "    # add time constraint\n",
    "    mp.AddConstraint(time_used[0] >= minimum_time)\n",
    "#     mp.AddConstraint(time_used[0] <= maximum_time)\n",
    "\n",
    "    print \"Number of decision vars\", mp.num_vars()\n",
    "    print(mp.Solve())\n",
    "\n",
    "    trajectory = mp.GetSolution(x_over_time)\n",
    "    input_trajectory = mp.GetSolution(u_over_time)\n",
    "    t = mp.GetSolution(time_used)\n",
    "    time_array = np.arange(0.0, t, t/(N+1))\n",
    "    \n",
    "    \n",
    "    \n",
    "    return trajectory, input_trajectory, time_array"
   ]
  },
  {
   "cell_type": "code",
   "execution_count": 11,
   "metadata": {},
   "outputs": [],
   "source": [
    "def plot_xz(trajectory):\n",
    "    cube_x = trajectory[:,0] \n",
    "    cube_z = trajectory[:,2]\n",
    "    \n",
    "    fig, axes = plt.subplots(nrows=1,ncols=1)\n",
    "    axes.plot(cube_x, cube_z)\n",
    "#     axes.axis(\"equal\")\n",
    "    \n",
    "    plt.show()\n",
    "\n",
    "def plot_theta(trajectory, time_array):\n",
    "    cube_theta = trajectory[:,4]\n",
    "    print cube_theta.shape\n",
    "    print time_array.shape\n",
    "    fig, axes = plt.subplots(nrows=1, ncols=1)\n",
    "    axes.plot(time_array, cube_theta)\n",
    "#     axes.axis(\"equal\")\n",
    "    \n",
    "    plt.show()\n",
    "    \n",
    "def plot_u(input_trajectory, time_array):\n",
    "    fig, axes = plt.subplots(nrows=1,ncols=1)\n",
    "    axes.plot(time_array, input_trajectory)\n",
    "#     axes.axis(\"equal\")\n",
    "    \n",
    "    plt.show()"
   ]
  },
  {
   "cell_type": "code",
   "execution_count": 12,
   "metadata": {
    "scrolled": false
   },
   "outputs": [
    {
     "name": "stdout",
     "output_type": "stream",
     "text": [
      "Number of decision vars 765\n",
      "SolutionResult.kSolutionFound\n"
     ]
    }
   ],
   "source": [
    "# Set the inital condititions\n",
    "x = 0.; z = 0.; thetay = 0.; phi = 0.; \n",
    "x_dot = 0.; z_dot = 0.; thetay_dot = 0.; phi_dot = 0.;\n",
    "\n",
    "# Different starting places\n",
    "origin_1 = (x,0.,z,0.,thetay,0.,phi,x_dot,0.,z_dot,0.,thetay_dot,0.,phi_dot)\n",
    "# origin_2 = (0.,0.,50,0.,0.,0.,0.,0.,0.,0.,0.,0.,0.,0.)\n",
    "\n",
    "# Set the desired final conditions\n",
    "swing_up = (0.5,0.,np.sqrt(2)/2-0.5,0., np.pi/2,0.,phi,x_dot,0.,z_dot,0.,thetay_dot,0.,phi_dot)\n",
    "# fall_down = (0.,0.,0.,0.,0.,0.0,0.,0.,0.,0.,0.,0.,0.,0.)\n",
    "\n",
    "# Set the time constraints\n",
    "minimum_time = 0.5; maximum_time = 15.\n",
    "\n",
    "# Solve the trajectory optimization\n",
    "traj, input_traj, time_array = compute_optimal_control(origin_1, swing_up, minimum_time, maximum_time)\n"
   ]
  },
  {
   "cell_type": "code",
   "execution_count": 13,
   "metadata": {
    "scrolled": true
   },
   "outputs": [
    {
     "name": "stdout",
     "output_type": "stream",
     "text": [
      "Trajectory size:  (51, 14)\n",
      "Input size:  (50,)\n",
      "\n",
      "\n",
      "Initial state:  [0. 0. 0. 0. 0. 0. 0. 0. 0. 0. 0. 0. 0. 0.]\n",
      "\n",
      "\n",
      "Final state:  [ 5.01000000e-01  1.20000000e-02  2.08106781e-01  1.20000000e-02\n",
      "  1.57014143e+00  1.20000000e-02 -6.37104511e+01  4.82720145e-02\n",
      "  1.00000000e-03  3.24705040e-02  1.00000000e-03  2.97274626e+00\n",
      "  1.00000000e-03 -2.94876719e+00]\n",
      "Final time:  23.001398208839895\n",
      "Total energ:  2265.1626604095304\n"
     ]
    }
   ],
   "source": [
    "# Print trajectory information\n",
    "print \"Trajectory size: \", traj.shape\n",
    "print \"Input size: \", input_traj.shape\n",
    "print \"\\n\"\n",
    "\n",
    "# Print initial conditions\n",
    "print \"Initial state: \", traj[0]\n",
    "print \"\\n\"\n",
    "\n",
    "# Print final conditionsa\n",
    "print \"Final state: \", traj[-1]\n",
    "\n",
    "print \"Final time: \", time_array[-1]\n",
    "print \"Total energ: \", input_traj.dot(input_traj)"
   ]
  },
  {
   "cell_type": "code",
   "execution_count": 14,
   "metadata": {
    "scrolled": false
   },
   "outputs": [
    {
     "data": {
      "image/png": "[encoded data removed]",
      "text/plain": [
       "<Figure size 432x288 with 1 Axes>"
      ]
     },
     "metadata": {},
     "output_type": "display_data"
    },
    {
     "data": {
      "image/png": "[encoded data removed]",
      "text/plain": [
       "<Figure size 432x288 with 1 Axes>"
      ]
     },
     "metadata": {},
     "output_type": "display_data"
    },
    {
     "data": {
      "image/png": "[encoded data removed]",
      "text/plain": [
       "<Figure size 432x288 with 1 Axes>"
      ]
     },
     "metadata": {},
     "output_type": "display_data"
    }
   ],
   "source": [
    "# Plot\n",
    "plot_xz(traj)\n",
    "plt.plot(time_array, traj[:,4])\n",
    "plt.show()\n",
    "plot_u(input_traj, time_array[:-1])"
   ]
  },
  {
   "cell_type": "code",
   "execution_count": null,
   "metadata": {},
   "outputs": [],
   "source": []
  }
 ],
 "metadata": {
  "kernelspec": {
   "display_name": "Python 2",
   "language": "python",
   "name": "python2"
  },
  "language_info": {
   "codemirror_mode": {
    "name": "ipython",
    "version": 2
   },
   "file_extension": ".py",
   "mimetype": "text/x-python",
   "name": "python",
   "nbconvert_exporter": "python",
   "pygments_lexer": "ipython2",
   "version": "2.7.14"
  }
 },
 "nbformat": 4,
 "nbformat_minor": 2
}
