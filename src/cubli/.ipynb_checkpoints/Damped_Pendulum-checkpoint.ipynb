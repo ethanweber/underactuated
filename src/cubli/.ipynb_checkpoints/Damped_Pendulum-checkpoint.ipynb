{
 "cells": [
  {
   "cell_type": "code",
   "execution_count": 70,
   "metadata": {},
   "outputs": [],
   "source": [
    "# this assumes torque at the rotation"
   ]
  },
  {
   "cell_type": "code",
   "execution_count": 118,
   "metadata": {},
   "outputs": [],
   "source": [
    "import math\n",
    "import numpy as np\n",
    "import matplotlib.pyplot as plt\n",
    "from IPython.display import HTML\n",
    "from pydrake.math import sin, cos\n",
    "import time\n",
    "\n",
    "%matplotlib inline\n",
    "\n",
    "from pydrake.all import (SignalLogger, CompliantMaterial, ConstantVectorSource, DirectCollocation, DiagramBuilder, FloatingBaseType,\n",
    "                         PiecewisePolynomial, RigidBodyTree, RigidBodyPlant,\n",
    "                         SolutionResult, AddModelInstancesFromSdfString,\n",
    "                         MathematicalProgram, Simulator, BasicVector, AddFlatTerrainToWorld)\n",
    "from underactuated import (FindResource, PlanarRigidBodyVisualizer)"
   ]
  },
  {
   "cell_type": "code",
   "execution_count": 2,
   "metadata": {},
   "outputs": [],
   "source": [
    "# using meschat as the visualizer\n",
    "import meshcat\n",
    "import meshcat.geometry as g\n",
    "import meshcat.transformations as tf"
   ]
  },
  {
   "cell_type": "code",
   "execution_count": 3,
   "metadata": {
    "scrolled": false
   },
   "outputs": [
    {
     "name": "stdout",
     "output_type": "stream",
     "text": [
      "You can open the visualizer by visiting the following URL:\n",
      "http://127.0.0.1:7002/static/\n"
     ]
    }
   ],
   "source": [
    "vis = meshcat.Visualizer()"
   ]
  },
  {
   "cell_type": "code",
   "execution_count": 788,
   "metadata": {},
   "outputs": [],
   "source": [
    "# define dynamical properties of the system\n",
    "mass = 1.0\n",
    "length = 1.0\n",
    "gravity = 9.81\n",
    "water_distance = .9 # distance from the top of the pendulum to the water\n",
    "damping_coeff = 0.0\n",
    "water_coeff = 2.0\n",
    "\n",
    "water_thresh = 0.001 # region around touching the water at which to zero velocity"
   ]
  },
  {
   "cell_type": "code",
   "execution_count": 755,
   "metadata": {},
   "outputs": [],
   "source": [
    "# create the objects\n",
    "pivot = vis[\"pivot\"]\n",
    "pole = pivot[\"pole\"]\n",
    "water = vis[\"water\"]\n",
    "\n",
    "# draw the objects\n",
    "pivot.set_object(g.Sphere(radius=.1)) # set pivot to be a sphere\n",
    "pole.set_object(g.Cylinder(height=1.0,radius=.05)) # create cylinder to pivot\n",
    "\n",
    "# position the objects\n",
    "pole.set_transform(tf.translation_matrix([0,length/2.0,0])) # set location of pole\n",
    "pivot.set_transform(tf.rotation_matrix(-np.pi/2.0,[1,0,0])) # rotate the pole\n",
    "\n",
    "# position the water\n",
    "water.set_object(g.Box([2,2,.01]))\n",
    "water.set_transform(tf.translation_matrix([0,0,-water_distance]))"
   ]
  },
  {
   "cell_type": "code",
   "execution_count": 756,
   "metadata": {},
   "outputs": [],
   "source": [
    "# states\n",
    "theta = 0.0 # theta\n",
    "theta_dot = 0.0 # theta derivative\n",
    "\n",
    "state_initial = [theta, theta_dot] # initial state vector\n",
    "def draw_transformation(state):\n",
    "    pivot.set_transform(tf.rotation_matrix(state[0]-np.pi/2.0,[1,0,0])) # rotate the pole\n",
    "draw_transformation(state_initial) # draw the initial state"
   ]
  },
  {
   "cell_type": "code",
   "execution_count": 757,
   "metadata": {},
   "outputs": [],
   "source": [
    "# check if the pendulum is contact with water\n",
    "def contact_check(state):\n",
    "    global length, water_distance\n",
    "    theta = state[0]\n",
    "    \n",
    "    # check if theta is in the water region\n",
    "    if length*cos(theta) > water_distance:\n",
    "        return True\n",
    "    else:\n",
    "        return False"
   ]
  },
  {
   "cell_type": "code",
   "execution_count": 790,
   "metadata": {},
   "outputs": [],
   "source": [
    "# define the transition between states and checks for collision\n",
    "def pend_guard(state):\n",
    "    global length, water_distance, water_thresh\n",
    "    theta = state[0]\n",
    "    theta_dot = state[1]\n",
    "    \n",
    "    distance_dot = -length*sin(theta)*theta_dot\n",
    "    distance = length*cos(theta) - water_distance\n",
    "    close_enough = distance > -water_thresh or distance < water_thresh\n",
    "    \n",
    "    guard_state = np.zeros_like(state)\n",
    "    guard_state = state[:]\n",
    "    \n",
    "    if distance_dot > 0 and close_enough:\n",
    "        state[1] = 0.0 # zero out the velocity\n",
    "        \n",
    "    return guard_state"
   ]
  },
  {
   "cell_type": "code",
   "execution_count": 791,
   "metadata": {},
   "outputs": [],
   "source": [
    "# dyanmics with damping\n",
    "def pend_contact(state, u):\n",
    "    \n",
    "    # include necessary parameters\n",
    "    global mass, length, gravity, water_coeff, damping_coeff\n",
    "    \n",
    "    # unpack values\n",
    "    theta = state[0]\n",
    "    theta_dot = state[1]\n",
    "    \n",
    "    # set the derivative values\n",
    "    derivs = np.zeros_like(state)\n",
    "    derivs[0] = theta_dot # set theta_dot to theta_dot\n",
    "    # dynamics of damped pendulum\n",
    "    derivs[1] = -water_coeff*theta_dot/(mass*length**2) + u[0]/(mass*length**2) - gravity*sin(theta)/length\n",
    "    \n",
    "    return derivs"
   ]
  },
  {
   "cell_type": "code",
   "execution_count": 792,
   "metadata": {},
   "outputs": [],
   "source": [
    "def pend_no_contact(state, u):\n",
    "    \n",
    "    # include necessary parameters\n",
    "    global mass, length, gravity, water_coeff, damping_coeff\n",
    "    \n",
    "    # unpack values\n",
    "    theta = state[0]\n",
    "    theta_dot = state[1]\n",
    "    \n",
    "    # set the derivative values\n",
    "    derivs = np.zeros_like(state)\n",
    "    derivs[0] = theta_dot # set theta_dot to theta_dot\n",
    "    # dynamics of damped pendulum\n",
    "    derivs[1] = -damping_coeff*theta_dot/(mass*length**2) + u[0]/(mass*length**2) - gravity*sin(theta)/length\n",
    "    \n",
    "    return derivs"
   ]
  },
  {
   "cell_type": "code",
   "execution_count": 796,
   "metadata": {},
   "outputs": [],
   "source": [
    "# get the dynamics\n",
    "def pend_dynamics(state, u):\n",
    "    guard_state = pend_guard(state)\n",
    "#     guard_state = state\n",
    "    if contact_check(guard_state):\n",
    "        return pend_contact(guard_state,u)\n",
    "    else:\n",
    "        return pend_no_contact(guard_state,u)"
   ]
  },
  {
   "cell_type": "code",
   "execution_count": 797,
   "metadata": {
    "scrolled": true
   },
   "outputs": [],
   "source": [
    "def compute_optimal_control(initial_state, final_state, min_time, max_time, max_torque):\n",
    "    # Setup solver\n",
    "    mp = MathematicalProgram()\n",
    "\n",
    "    # number knot points\n",
    "    N = 100\n",
    "    \n",
    "    # Total time used\n",
    "    time_used = mp.NewContinuousVariables(1, \"time_used\") # add random variabe for time used\n",
    "    dt = time_used/(N+1)\n",
    "    \n",
    "    # Control decision variables\n",
    "    u = mp.NewContinuousVariables(1, \"u_%d\" % 0) # only one input\n",
    "    u_over_time = u\n",
    "    for k in range(1,N):\n",
    "        u = mp.NewContinuousVariables(1, \"u_%d\" % k)\n",
    "        u_over_time = np.vstack((u_over_time, u))\n",
    "    total_u = u_over_time\n",
    "\n",
    "    # State decision variabless\n",
    "    x = mp.NewContinuousVariables(2, \"x_%d\" % 0) # for both input thrusters\n",
    "    x_over_time = x\n",
    "    for k in range(1,N+1):\n",
    "        x = mp.NewContinuousVariables(2, \"x_%d\" % k)\n",
    "        x_over_time = np.vstack((x_over_time, x))\n",
    "    total_x = x_over_time\n",
    "    \n",
    "    # State Constraints\n",
    "    error_thresh = 0.0001\n",
    "    for n in range(N):\n",
    "        # Actual state vs. predicted (through dynamics) state\n",
    "        state_next = total_x[n+1]\n",
    "        dynamic_state_next = total_x[n,:] + pend_dynamics(total_x[n,:], total_u[n,:])*dt\n",
    "  \n",
    "        # Make sure the actual and predicted align to follow dynamics\n",
    "        for j in range(2):\n",
    "            state_error = state_next[j] - dynamic_state_next[j]\n",
    "            mp.AddConstraint(state_error <= error_thresh)\n",
    "            mp.AddConstraint(state_error >= -error_thresh)\n",
    "\n",
    "    # Quadratic Cost in control effort\n",
    "    # cost of u\n",
    "#     mp.AddQuadraticCost(1 * u_over_time[:,0].dot(u_over_time[:,0]))\n",
    "\n",
    "    # Add initial and final state constraints\n",
    "    for i in range(2):\n",
    "        # initial\n",
    "        initial_state_error = x_over_time[0,i] - initial_state[i]\n",
    "        mp.AddConstraint(initial_state_error == 0.0)\n",
    "    \n",
    "        # final\n",
    "        final_state_error = x_over_time[-1,i] - final_state[i]\n",
    "        mp.AddConstraint(final_state_error <= error_thresh)\n",
    "        mp.AddConstraint(final_state_error >= -error_thresh)\n",
    "    \n",
    "    # add time constraint\n",
    "    mp.AddConstraint(time_used[0] >= minimum_time)\n",
    "#     mp.AddConstraint(time_used[0] <= maximum_time)\n",
    "\n",
    "    # add torque constraints\n",
    "    for n in range(N):\n",
    "        mp.AddConstraint(u_over_time[n,0] <= max_torque)\n",
    "        mp.AddConstraint(u_over_time[n,0] >= -max_torque)\n",
    "\n",
    "    print \"Number of decision vars\", mp.num_vars()\n",
    "    print(mp.Solve())\n",
    "\n",
    "    trajectory = mp.GetSolution(x_over_time)\n",
    "    input_trajectory = mp.GetSolution(u_over_time)\n",
    "    t = mp.GetSolution(time_used)\n",
    "    time_array = np.arange(0.0, t, t/(N+1))\n",
    "    \n",
    "    return trajectory, input_trajectory, time_array"
   ]
  },
  {
   "cell_type": "code",
   "execution_count": 798,
   "metadata": {
    "scrolled": false
   },
   "outputs": [
    {
     "name": "stdout",
     "output_type": "stream",
     "text": [
      "Number of decision vars 303\n",
      "SolutionResult.kSolutionFound\n"
     ]
    }
   ],
   "source": [
    "# Different starting places\n",
    "origin = (0.0,0.0) # theta, theta_dot\n",
    "\n",
    "# Set the desired final conditions\n",
    "swing_up = (np.pi,0.0)\n",
    "\n",
    "# Set the time constraints\n",
    "minimum_time = 2.0; maximum_time = 20.\n",
    "\n",
    "max_torque = 5.0\n",
    "\n",
    "# Solve the trajectory optimization\n",
    "traj, input_traj, time_array = compute_optimal_control(origin, swing_up, minimum_time, maximum_time, max_torque)\n"
   ]
  },
  {
   "cell_type": "code",
   "execution_count": 799,
   "metadata": {
    "scrolled": true
   },
   "outputs": [
    {
     "name": "stdout",
     "output_type": "stream",
     "text": [
      "Trajectory size:  (101, 2)\n",
      "Input size:  (100,)\n",
      "\n",
      "\n",
      "Initial state:  [0. 0.]\n",
      "\n",
      "\n",
      "Final state:  [3.14149265e+00 1.00000000e-04]\n",
      "Final time:  20.981174995061732\n",
      "Total energ:  2260.0198131946236\n"
     ]
    }
   ],
   "source": [
    "# Print trajectory information\n",
    "print \"Trajectory size: \", traj.shape\n",
    "print \"Input size: \", input_traj.shape\n",
    "print \"\\n\"\n",
    "\n",
    "# Print initial conditions\n",
    "print \"Initial state: \", traj[0]\n",
    "print \"\\n\"\n",
    "\n",
    "# Print final conditionsa\n",
    "print \"Final state: \", traj[-1]\n",
    "\n",
    "print \"Final time: \", time_array[-1]\n",
    "print \"Total energ: \", input_traj.dot(input_traj)"
   ]
  },
  {
   "cell_type": "code",
   "execution_count": 773,
   "metadata": {},
   "outputs": [],
   "source": [
    "def plot_theta(trajectory, time_array):\n",
    "    theta = trajectory[:,0]\n",
    "    fig, axes = plt.subplots(nrows=1, ncols=1)\n",
    "    axes.plot(time_array, theta)\n",
    "    plt.show()\n",
    "    \n",
    "def plot_u(input_trajectory, time_array):\n",
    "    fig, axes = plt.subplots(nrows=1,ncols=1)\n",
    "    axes.plot(time_array[:-1], input_trajectory)\n",
    "    plt.show()"
   ]
  },
  {
   "cell_type": "code",
   "execution_count": 774,
   "metadata": {
    "scrolled": false
   },
   "outputs": [
    {
     "data": {
      "image/png": "[encoded data removed]",
      "text/plain": [
       "<Figure size 432x288 with 1 Axes>"
      ]
     },
     "metadata": {},
     "output_type": "display_data"
    },
    {
     "data": {
      "image/png": "[encoded data removed]",
      "text/plain": [
       "<Figure size 432x288 with 1 Axes>"
      ]
     },
     "metadata": {},
     "output_type": "display_data"
    }
   ],
   "source": [
    "# Plot\n",
    "plot_theta(traj, time_array)\n",
    "plot_u(input_traj, time_array)"
   ]
  },
  {
   "cell_type": "code",
   "execution_count": 787,
   "metadata": {},
   "outputs": [],
   "source": [
    "# trajectory found\n",
    "dt = time_array[1] - time_array[0]\n",
    "for i in range(len(traj)):\n",
    "    draw_transformation(traj[i,:])\n",
    "    time.sleep(dt)"
   ]
  },
  {
   "cell_type": "code",
   "execution_count": 784,
   "metadata": {},
   "outputs": [],
   "source": [
    "current_state = [1.0, 0.0]\n",
    "draw_transformation(current_state)"
   ]
  },
  {
   "cell_type": "code",
   "execution_count": 785,
   "metadata": {},
   "outputs": [
    {
     "name": "stderr",
     "output_type": "stream",
     "text": [
      "/usr/local/lib/python2.7/site-packages/ipykernel_launcher.py:6: DeprecationWarning: object of type <type 'float'> cannot be safely interpreted as an integer.\n",
      "  \n"
     ]
    }
   ],
   "source": [
    "# code to simulate passive dynamics\n",
    "sec = 10.0 # seconds\n",
    "steps_per_sec = 1000.0 # discrete steps in a second\n",
    "num_steps = sec*steps_per_sec # total number of steps\n",
    "sec_per_step = sec/num_steps # number of seconds per step\n",
    "for t in np.linspace(0,sec,num_steps):\n",
    "    current_state = current_state + pend_dynamics(current_state,[0.0])*sec_per_step\n",
    "    draw_transformation(current_state)\n",
    "    time.sleep(sec_per_step)"
   ]
  },
  {
   "cell_type": "code",
   "execution_count": 753,
   "metadata": {},
   "outputs": [],
   "source": [
    "# simulate the control with integration found\n",
    "dt = time_array[1] - time_array[0]\n",
    "current_state = traj[0,:] # set the initial state\n",
    "for index, t in enumerate(time_array[:-1]):\n",
    "    draw_transformation(current_state)\n",
    "    torque = input_traj[index]\n",
    "    current_state = current_state + pend_dynamics(current_state,[torque])*dt\n",
    "    time.sleep(dt)\n",
    "draw_transformation(current_state)"
   ]
  },
  {
   "cell_type": "code",
   "execution_count": null,
   "metadata": {},
   "outputs": [],
   "source": []
  }
 ],
 "metadata": {
  "kernelspec": {
   "display_name": "Python 2",
   "language": "python",
   "name": "python2"
  },
  "language_info": {
   "codemirror_mode": {
    "name": "ipython",
    "version": 2
   },
   "file_extension": ".py",
   "mimetype": "text/x-python",
   "name": "python",
   "nbconvert_exporter": "python",
   "pygments_lexer": "ipython2",
   "version": "2.7.14"
  }
 },
 "nbformat": 4,
 "nbformat_minor": 2
}
