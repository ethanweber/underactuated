{
 "cells": [
  {
   "cell_type": "code",
   "execution_count": 83,
   "metadata": {},
   "outputs": [],
   "source": [
    "import math\n",
    "import numpy as np\n",
    "import matplotlib.pyplot as plt\n",
    "from IPython.display import HTML\n",
    "\n",
    "%matplotlib inline\n",
    "\n",
    "import pydrake\n",
    "\n",
    "from pydrake.all import (SignalLogger, CompliantMaterial, ConstantVectorSource, DirectCollocation, DiagramBuilder, FloatingBaseType,\n",
    "                         PiecewisePolynomial, RigidBodyTree, RigidBodyPlant,\n",
    "                         SolutionResult, AddModelInstancesFromSdfString,\n",
    "                         MathematicalProgram, Simulator, BasicVector, AddFlatTerrainToWorld)\n",
    "from underactuated import (FindResource, PlanarRigidBodyVisualizer, MeshcatRigidBodyVisualizer)"
   ]
  },
  {
   "cell_type": "code",
   "execution_count": 84,
   "metadata": {},
   "outputs": [],
   "source": [
    "# set the initial state\n",
    "\n",
    "x = 0\n",
    "z = 2 #np.sqrt(2)\n",
    "\n",
    "x_dot = 0.0\n",
    "z_dot = 0.0\n",
    "\n",
    "thetay = 0.0\n",
    "\n",
    "# state of the flywheel\n",
    "phi = 0.0\n",
    "phi_dot = 0.0\n",
    "\n",
    "torque = -0.0\n",
    "\n",
    "# time of simulation (number of seconds)\n",
    "time_of_sim = 2.0\n",
    "\n",
    "\n",
    "initial_state = np.asarray((x,0.,z,0.,thetay,0.,phi,x_dot,0.,z_dot,0.,0.,0.,phi_dot))\n",
    "\n",
    "final_state = np.asarray((x,0.,z,0.,thetay,0.,phi,x_dot,0.,z_dot,0.,0.,0.,phi_dot))"
   ]
  },
  {
   "cell_type": "code",
   "execution_count": 85,
   "metadata": {},
   "outputs": [
    {
     "name": "stdout",
     "output_type": "stream",
     "text": [
      "Num states: 14\n",
      "You can open the visualizer by visiting the following URL:\n",
      "http://127.0.0.1:7000/static/\n",
      "ground 0 [[ 1.  0.  0.  0.]\n",
      " [ 0.  1.  0.  0.]\n",
      " [-0.  0.  1. -5.]\n",
      " [ 0.  0.  0.  1.]]\n",
      "cube 0 [[ 1.  0.  0.  0.]\n",
      " [ 0.  1.  0.  0.]\n",
      " [-0.  0.  1.  0.]\n",
      " [ 0.  0.  0.  1.]]\n",
      "wheel 0 [[ 1.000000e+00  0.000000e+00  0.000000e+00  0.000000e+00]\n",
      " [ 0.000000e+00  6.123234e-17 -1.000000e+00  0.000000e+00]\n",
      " [-0.000000e+00  1.000000e+00  6.123234e-17  0.000000e+00]\n",
      " [ 0.000000e+00  0.000000e+00  0.000000e+00  1.000000e+00]]\n"
     ]
    }
   ],
   "source": [
    "timestep = 0.0\n",
    "builder = DiagramBuilder()\n",
    "tree = RigidBodyTree(FindResource(\"cubli/cubli.urdf\"),\n",
    "                     FloatingBaseType.kFixed)\n",
    "plant = RigidBodyPlant(tree, timestep)\n",
    "nx = tree.get_num_positions() + tree.get_num_velocities()\n",
    "print(\"Num states: {}\".format(nx))\n",
    "\n",
    "allmaterials = CompliantMaterial()\n",
    "allmaterials.set_youngs_modulus(1E8) # default 1E9\n",
    "allmaterials.set_dissipation(1.0) # default 0.32\n",
    "allmaterials.set_friction(1.0) # default 0.9.\n",
    "plant.set_default_compliant_material(allmaterials)\n",
    "\n",
    "plant_context = plant.CreateDefaultContext()\n",
    "\n",
    "robot = builder.AddSystem(plant)\n",
    "\n",
    "torque_system = builder.AddSystem(ConstantVectorSource(\n",
    "    np.ones((tree.get_num_actuators(), 1))*torque))\n",
    "builder.Connect(torque_system.get_output_port(0),\n",
    "                robot.get_input_port(0))\n",
    "\n",
    "meshcat_vis = builder.AddSystem(MeshcatRigidBodyVisualizer(tree))\n",
    "builder.Connect(robot.get_output_port(0),\n",
    "                meshcat_vis.get_input_port(0))\n",
    "\n",
    "# And also log\n",
    "signalLogRate = 60\n",
    "signalLogger = builder.AddSystem(SignalLogger(nx))\n",
    "signalLogger._DeclarePeriodicPublish(1. / signalLogRate, 0.0)\n",
    "builder.Connect(robot.get_output_port(0),\n",
    "                signalLogger.get_input_port(0))\n",
    "\n",
    "diagram = builder.Build()\n",
    "\n",
    "simulator = Simulator(diagram)\n",
    "simulator.set_target_realtime_rate(0.25)\n",
    "simulator.set_publish_every_time_step(False)"
   ]
  },
  {
   "cell_type": "code",
   "execution_count": 86,
   "metadata": {},
   "outputs": [],
   "source": [
    "context = simulator.get_mutable_context()\n",
    "state = context.get_mutable_state().get_mutable_continuous_state().get_mutable_vector()\n",
    "state.SetFromVector(initial_state)\n",
    "simulator.StepTo(time_of_sim)"
   ]
  },
  {
   "cell_type": "code",
   "execution_count": 87,
   "metadata": {},
   "outputs": [],
   "source": [
    "ani = meshcat_vis.animate(signalLogger)"
   ]
  },
  {
   "cell_type": "code",
   "execution_count": 88,
   "metadata": {},
   "outputs": [],
   "source": [
    "# direct collocation"
   ]
  },
  {
   "cell_type": "code",
   "execution_count": 89,
   "metadata": {},
   "outputs": [],
   "source": [
    "dircol = DirectCollocation(plant, plant_context, num_time_samples=21,\n",
    "                           minimum_timestep=0.2, maximum_timestep=0.5)\n",
    "dircol.AddEqualTimeIntervalsConstraints()\n",
    "\n",
    "# torque_limit = 3.0  # N*m.\n",
    "# u = dircol.input()\n",
    "# dircol.AddConstraintToAllKnotPoints(-torque_limit <= u[0])\n",
    "# dircol.AddConstraintToAllKnotPoints(u[0] <= torque_limit)"
   ]
  },
  {
   "cell_type": "code",
   "execution_count": 90,
   "metadata": {},
   "outputs": [
    {
     "data": {
      "text/plain": [
       "<pydrake.solvers._mathematicalprogram_py.Binding_BoundingBoxConstraint at 0x10e32c0f0>"
      ]
     },
     "execution_count": 90,
     "metadata": {},
     "output_type": "execute_result"
    }
   ],
   "source": [
    "dircol.AddBoundingBoxConstraint(initial_state,\n",
    "                                initial_state,\n",
    "                                dircol.initial_state())\n",
    "\n",
    "dircol.AddBoundingBoxConstraint(final_state,\n",
    "                                final_state,\n",
    "                                dircol.final_state())"
   ]
  },
  {
   "cell_type": "code",
   "execution_count": 92,
   "metadata": {},
   "outputs": [],
   "source": [
    "# R = 10  # Cost on input \"effort\".\n",
    "# dircol.AddRunningCost(R*u[0]**2)"
   ]
  },
  {
   "cell_type": "code",
   "execution_count": 93,
   "metadata": {},
   "outputs": [],
   "source": [
    "s = in_state.reshape((1,14))"
   ]
  },
  {
   "cell_type": "code",
   "execution_count": 94,
   "metadata": {},
   "outputs": [],
   "source": [
    "breaks = np.linspace(0.0, 5.0, num=14)\n",
    "initial_x_trajectory = \\\n",
    "    PiecewisePolynomial.FirstOrderHold(breaks,\n",
    "                                       [initial_state,\n",
    "                                        final_state])\n",
    "dircol.SetInitialTrajectory(PiecewisePolynomial(), initial_x_trajectory)"
   ]
  },
  {
   "cell_type": "code",
   "execution_count": null,
   "metadata": {},
   "outputs": [],
   "source": [
    "result = dircol.Solve()\n",
    "print(result)\n",
    "# assert(result == SolutionResult.kSolutionFound)"
   ]
  },
  {
   "cell_type": "code",
   "execution_count": null,
   "metadata": {},
   "outputs": [],
   "source": [
    "x_trajectory = dircol.ReconstructStateTrajectory()"
   ]
  }
 ],
 "metadata": {
  "kernelspec": {
   "display_name": "Python 2",
   "language": "python",
   "name": "python2"
  },
  "language_info": {
   "codemirror_mode": {
    "name": "ipython",
    "version": 2
   },
   "file_extension": ".py",
   "mimetype": "text/x-python",
   "name": "python",
   "nbconvert_exporter": "python",
   "pygments_lexer": "ipython2",
   "version": "2.7.14"
  }
 },
 "nbformat": 4,
 "nbformat_minor": 2
}
