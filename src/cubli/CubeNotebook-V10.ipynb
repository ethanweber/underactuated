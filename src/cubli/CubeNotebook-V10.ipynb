{
 "cells": [
  {
   "cell_type": "code",
   "execution_count": 1,
   "metadata": {},
   "outputs": [],
   "source": [
    "import math\n",
    "import numpy as np\n",
    "import matplotlib.pyplot as plt\n",
    "from IPython.display import HTML\n",
    "from pydrake.math import sin, cos\n",
    "\n",
    "%matplotlib inline\n",
    "\n",
    "from pydrake.all import (SignalLogger, CompliantMaterial, ConstantVectorSource, DirectCollocation, DiagramBuilder, FloatingBaseType,\n",
    "                         PiecewisePolynomial, RigidBodyTree, RigidBodyPlant,\n",
    "                         SolutionResult, AddModelInstancesFromSdfString,\n",
    "                         MathematicalProgram, Simulator, BasicVector, AddFlatTerrainToWorld)\n",
    "from underactuated import (FindResource, PlanarRigidBodyVisualizer)\n",
    "\n",
    "import time\n",
    "import random"
   ]
  },
  {
   "cell_type": "code",
   "execution_count": 2,
   "metadata": {},
   "outputs": [],
   "source": [
    "# let's use Meshcat!\n",
    "# CHANGE THIS DIRECTOR TO AVOID REBUILDING\n",
    "# import os\n",
    "# my_dir = '/Users/ethanweber/Documents/RobotLocomotionGroup/meshcat-python'\n",
    "# os.chdir(my_dir+'/src')\n",
    "\n",
    "import meshcat\n",
    "import meshcat.geometry as g\n",
    "import meshcat.transformations as tf"
   ]
  },
  {
   "cell_type": "code",
   "execution_count": 3,
   "metadata": {
    "scrolled": true
   },
   "outputs": [
    {
     "name": "stdout",
     "output_type": "stream",
     "text": [
      "You can open the visualizer by visiting the following URL:\n",
      "http://127.0.0.1:7002/static/\n"
     ]
    }
   ],
   "source": [
    "vis = meshcat.Visualizer()"
   ]
  },
  {
   "cell_type": "code",
   "execution_count": 4,
   "metadata": {},
   "outputs": [],
   "source": [
    "cube = vis[\"cube\"]\n",
    "pivot = cube[\"pivot\"]\n",
    "wheel = pivot[\"wheel\"]"
   ]
  },
  {
   "cell_type": "code",
   "execution_count": 5,
   "metadata": {},
   "outputs": [],
   "source": [
    "# set the initial state\n",
    "\n",
    "x = 1.0\n",
    "z = 0.2\n",
    "\n",
    "x_dot = 0.0\n",
    "z_dot = 0.0\n",
    "\n",
    "thetay = 0.1\n",
    "\n",
    "# state of the flywheel\n",
    "phi = 0.0\n",
    "phi_dot = 0.0\n",
    "\n",
    "torque = -0.0\n",
    "\n",
    "# time of simulation (number of seconds)\n",
    "time_of_sim = 2.0\n",
    "\n",
    "\n",
    "state_initial = (x,0.,z,0.,thetay,0.,phi,x_dot,0.,z_dot,0.,0.,0.,phi_dot)"
   ]
  },
  {
   "cell_type": "code",
   "execution_count": 6,
   "metadata": {},
   "outputs": [],
   "source": [
    "# create and draw the cube\n",
    "cube_dim = [1.0,1.0,1.0] # x,y,z\n",
    "cube.set_object(g.Box(cube_dim))"
   ]
  },
  {
   "cell_type": "code",
   "execution_count": 7,
   "metadata": {},
   "outputs": [
    {
     "data": {
      "text/plain": [
       "(1.0, 0.0, 0.2)"
      ]
     },
     "execution_count": 7,
     "metadata": {},
     "output_type": "execute_result"
    }
   ],
   "source": [
    "state_initial[0:3]"
   ]
  },
  {
   "cell_type": "code",
   "execution_count": 129,
   "metadata": {},
   "outputs": [],
   "source": [
    "def ground_distances(state):\n",
    "    # array of [0,1,2,3]\n",
    "    \n",
    "    z = state[2]\n",
    "    theta = state[4]\n",
    "    \n",
    "    offset = .5*np.sqrt(2)*sin(np.pi/4.0+theta)\n",
    "    val = sin(theta)\n",
    "    \n",
    "    dist_0 = z - offset\n",
    "    dist_1 = dist_0 + val\n",
    "    dist_2 = z + offset\n",
    "    dist_3 = dist_2 - val\n",
    "    return [dist_0, dist_1, dist_2, dist_3]"
   ]
  },
  {
   "cell_type": "code",
   "execution_count": 128,
   "metadata": {},
   "outputs": [
    {
     "name": "stdout",
     "output_type": "stream",
     "text": [
      "[1.5, 1.5000000000000002, 0.5, 0.4999999999999999]\n"
     ]
    }
   ],
   "source": [
    "# z = 1.0\n",
    "# angle = 4*np.pi/4.0\n",
    "# s = (0.,0.,z,0.0,angle,0.,0.,0.,0.,0.,0.,0,0.,0.)\n",
    "# draw_transformation(s)\n",
    "# dist = ground_distances(s)\n",
    "# print(dist)"
   ]
  },
  {
   "cell_type": "code",
   "execution_count": 8,
   "metadata": {},
   "outputs": [],
   "source": [
    "def draw_transformation(state):\n",
    "    state = list(state)\n",
    "    origin = state[0:3]\n",
    "    origin[2] += cube_dim[2]/2.0 # account for the floor\n",
    "    theta = state[4]\n",
    "    temp = tf.rotation_matrix(-theta,[0,1,0]) # assume rotate about y\n",
    "    temp[0:3, -1] = tf.translation_from_matrix(tf.translation_matrix(origin))\n",
    "    cube.set_transform(temp)"
   ]
  },
  {
   "cell_type": "code",
   "execution_count": 9,
   "metadata": {},
   "outputs": [],
   "source": [
    "draw_transformation(state_initial)"
   ]
  },
  {
   "cell_type": "code",
   "execution_count": 105,
   "metadata": {},
   "outputs": [],
   "source": [
    "def cube_dynamics(state, u, force):\n",
    "    \n",
    "    # Need to grab important parameters\n",
    "    M_c = 1.0 # self.M_c\n",
    "    M_w = 1.0 # self.M_w\n",
    "    M_t = M_c + M_w\n",
    "    \n",
    "    I_c = 1.0 #self.I_c\n",
    "    I_w = 1.0 #self.I_w\n",
    "    I_t = I_c + I_w\n",
    "    \n",
    "    # Distance from edge to center of cube\n",
    "    L_t = np.sqrt(2) #np.sqrt.(2*self.L)  \n",
    "    \n",
    "    # Assuming friction is 0 right now\n",
    "    F_c = 0.5\n",
    "    F_w = 0.5\n",
    "    \n",
    "    g = 9.81 # self.g\n",
    "    \n",
    "    # Relevant states are x,z,thetay, phi\n",
    "    x = state[0]\n",
    "    z = state[2]\n",
    "    thetay = state[4]\n",
    "    phi = state[6]\n",
    "    \n",
    "    # Velocity States\n",
    "    xdot = state[7]\n",
    "    zdot = state[9]\n",
    "    thetaydot = state[11]\n",
    "    phidot = state[13]\n",
    "    \n",
    "    # Setup the derivative of the state vector\n",
    "    derivs = np.zeros_like(state)\n",
    "    derivs[0:7] = state[7:]\n",
    "    \n",
    "    # Ballistic Dynamics\n",
    "    derivs[7] = (force[1] - force[2] + force[6] - force[5])*cos(thetay) - (force[0] + force[3] - force[4] - force[7])*sin(thetay) # forces along x\n",
    "    derivs[9] = (force[1] - force[2] + force[6] - force[5])*sin(thetay) + (force[0] + force[3] - force[4] - force[7])*cos(thetay) - g  # forces in y direction\n",
    "    \n",
    "    # Back torque due to wheel\n",
    "    derivs[11] = (-u[0] + F_w*phidot - F_c*thetaydot)/I_c + (-force[0]+force[1]-force[2]+force[3]-force[4]+force[5]-force[6]+force[7])*.5\n",
    "\n",
    "    # Wheel accel\n",
    "    derivs[13] = (u[0]*I_t + F_c*thetaydot*I_w - F_w*phidot*I_t)/(I_w*I_c)\n",
    "    \n",
    "    return derivs"
   ]
  },
  {
   "cell_type": "code",
   "execution_count": 130,
   "metadata": {
    "scrolled": true
   },
   "outputs": [],
   "source": [
    "def compute_optimal_control(initial_state,final_state, min_time, max_time, max_torque):\n",
    "    # Setup solver\n",
    "    mp = MathematicalProgram()\n",
    "\n",
    "    # number knot points\n",
    "    N = 50\n",
    "    \n",
    "    # Total time used\n",
    "    time_used = mp.NewContinuousVariables(1, \"time_used\") # add random variabe for time used\n",
    "    dt = time_used/(N+1)\n",
    "    \n",
    "    # Control decision variables\n",
    "    u = mp.NewContinuousVariables(1, \"u_%d\" % 0) # only one input for the cube\n",
    "    u_over_time = u\n",
    "    for k in range(1,N):\n",
    "        u = mp.NewContinuousVariables(1, \"u_%d\" % k)\n",
    "        u_over_time = np.vstack((u_over_time, u))\n",
    "    total_u = u_over_time\n",
    "    \n",
    "    # Force decision variables\n",
    "    f = mp.NewContinuousVariables(8, \"f_%d\" % 0) # only one input for the cube\n",
    "    f_over_time = f\n",
    "    for k in range(1,N):\n",
    "        f = mp.NewContinuousVariables(8, \"f_%d\" % k)\n",
    "        f_over_time = np.vstack((f_over_time, f))\n",
    "    total_f = f_over_time\n",
    "\n",
    "    # State decision variabless\n",
    "    x = mp.NewContinuousVariables(14, \"x_%d\" % 0) # for both input thrusters\n",
    "    x_over_time = x\n",
    "    for k in range(1,N+1):\n",
    "        x = mp.NewContinuousVariables(14, \"x_%d\" % k)\n",
    "        x_over_time = np.vstack((x_over_time, x))\n",
    "    total_x = x_over_time\n",
    "    \n",
    "    # State Constraints\n",
    "    error_thresh = 0.001\n",
    "    for n in range(N):\n",
    "        # Actual state vs. predicted (through dynamics) state\n",
    "        state_next = total_x[n+1]\n",
    "        dynamic_state_next = total_x[n,:] + cube_dynamics(total_x[n,:], total_u[n,:], total_f[n,:])*dt\n",
    "        \n",
    "        # Make sure the actual and predicted align to follow dynamics\n",
    "        for j in range(14):\n",
    "            state_error = state_next[j] - dynamic_state_next[j]\n",
    "            mp.AddConstraint(state_error <= error_thresh)\n",
    "            mp.AddConstraint(state_error >= -error_thresh)\n",
    "            \n",
    "    # Ground constraint\n",
    "    for n in range(N):\n",
    "        state = total_x[n]\n",
    "        for i in ground_distances(state):\n",
    "            mp.AddConstraint(i >= 0)\n",
    "            \n",
    "    # Force constraints\n",
    "#     for n in range(N):\n",
    "#         force_now = f_over_time[n]\n",
    "#         for i in range(2,8):\n",
    "#             mp.AddConstraint(force_now[i] == 0.0)\n",
    "\n",
    "    # Can't penitrate the ground constraint\n",
    "\n",
    "    # Quadratic Cost in control effort\n",
    "    # TODO: Make this cost of transport, better measure of effort\n",
    "    # COT = u^2/(m_tot*g*d)\n",
    "    \n",
    "#     mp.AddQuadraticCost(1 * u_over_time[:,0].dot(u_over_time[:,0]))\n",
    "\n",
    "    # Add initial and final state constraints\n",
    "    for i in range(14):\n",
    "        # initial\n",
    "        initial_state_error = x_over_time[0,i] - initial_state[i]\n",
    "        mp.AddConstraint(initial_state_error == 0.0)\n",
    "    \n",
    "        # final\n",
    "        final_state_error = x_over_time[-1,i] - final_state[i]\n",
    "        mp.AddConstraint(final_state_error <= error_thresh)\n",
    "        mp.AddConstraint(final_state_error >= -error_thresh)\n",
    "    \n",
    "    # add time constraint\n",
    "    mp.AddConstraint(time_used[0] >= minimum_time)\n",
    "    mp.AddConstraint(time_used[0] <= maximum_time)\n",
    "\n",
    "    # add torque constraints\n",
    "    for n in range(N):\n",
    "        mp.AddConstraint(u_over_time[n,0] <= max_torque)\n",
    "        mp.AddConstraint(u_over_time[n,0] >= -max_torque)\n",
    "\n",
    "    print \"Number of decision vars\", mp.num_vars()\n",
    "    print(mp.Solve())\n",
    "\n",
    "    trajectory = mp.GetSolution(x_over_time)\n",
    "    input_trajectory = mp.GetSolution(u_over_time)\n",
    "    force_trajectory = mp.GetSolution(f_over_time)\n",
    "    t = mp.GetSolution(time_used)\n",
    "    time_array = np.arange(0.0, t, t/(N+1))\n",
    "    \n",
    "    \n",
    "    \n",
    "    return trajectory, input_trajectory, force_trajectory, time_array"
   ]
  },
  {
   "cell_type": "code",
   "execution_count": 131,
   "metadata": {},
   "outputs": [],
   "source": [
    "def plot_xz(trajectory):\n",
    "    cube_x = trajectory[:,0] \n",
    "    cube_z = trajectory[:,2]\n",
    "    \n",
    "    fig, axes = plt.subplots(nrows=1,ncols=1)\n",
    "    axes.plot(cube_x, cube_z)\n",
    "#     axes.axis(\"equal\")\n",
    "    \n",
    "    plt.show()\n",
    "\n",
    "def plot_theta(trajectory, time_array):\n",
    "    cube_theta = trajectory[:,4]\n",
    "    print cube_theta.shape\n",
    "    print time_array.shape\n",
    "    fig, axes = plt.subplots(nrows=1, ncols=1)\n",
    "    axes.plot(time_array, cube_theta)\n",
    "#     axes.axis(\"equal\")\n",
    "    \n",
    "    plt.show()\n",
    "    \n",
    "def plot_u(input_trajectory, time_array):\n",
    "    fig, axes = plt.subplots(nrows=1,ncols=1)\n",
    "    axes.plot(time_array, input_trajectory)\n",
    "#     axes.axis(\"equal\")\n",
    "    \n",
    "    plt.show()"
   ]
  },
  {
   "cell_type": "code",
   "execution_count": null,
   "metadata": {
    "scrolled": false
   },
   "outputs": [],
   "source": [
    "# Set the inital condititions\n",
    "x = 0.; z = 0.; thetay = 0.; phi = 0.; \n",
    "x_dot = 0.; z_dot = 0.; thetay_dot = 0.; phi_dot = 0.;\n",
    "\n",
    "# Different starting places\n",
    "origin_1 = (x,0.,z,0.,thetay,0.,phi,x_dot,0.,z_dot,0.,thetay_dot,0.,phi_dot)\n",
    "\n",
    "\n",
    "# Set the desired final conditions\n",
    "final_1 = (1.0,0.,1.0,0.,\n",
    "           0.5,0.,phi,x_dot,0.,z_dot,0.,thetay_dot,0.,phi_dot)\n",
    "\n",
    "# Set the time constraints\n",
    "minimum_time = 0.5; maximum_time = 15.\n",
    "\n",
    "# Solve the trajectory optimization\n",
    "max_torque = 10.0\n",
    "traj, input_traj, force_traj, time_array = compute_optimal_control(origin_1, final_1, minimum_time, maximum_time, max_torque)\n"
   ]
  },
  {
   "cell_type": "code",
   "execution_count": 116,
   "metadata": {
    "scrolled": false
   },
   "outputs": [
    {
     "name": "stdout",
     "output_type": "stream",
     "text": [
      "Trajectory size:  (51, 14)\n",
      "Input size:  (50,)\n",
      "\n",
      "\n",
      "Initial state:  [ 0.00000000e+00  0.00000000e+00  0.00000000e+00  0.00000000e+00\n",
      " -5.17927243e-29  0.00000000e+00  0.00000000e+00  0.00000000e+00\n",
      " -1.79304445e-35  0.00000000e+00 -1.79304445e-35 -4.71465257e-23\n",
      " -1.79304445e-35 -1.44375376e-22]\n",
      "\n",
      "\n",
      "Final state:  [ 1.00005689e+00  3.29665427e-19  1.00007218e+00  3.29665427e-19\n",
      "  5.00067011e-01  3.29665427e-19 -5.30196281e-06  1.86460341e-05\n",
      "  2.87923790e-18 -3.87769790e-05  2.87923790e-18  8.24344870e-06\n",
      "  2.87923790e-18  2.06283467e-06]\n",
      "Final time:  0.4941352609863289\n",
      "Total energ:  4.607323592651593\n"
     ]
    }
   ],
   "source": [
    "# Print trajectory information\n",
    "print \"Trajectory size: \", traj.shape\n",
    "print \"Input size: \", input_traj.shape\n",
    "print \"\\n\"\n",
    "\n",
    "# Print initial conditions\n",
    "print \"Initial state: \", traj[0]\n",
    "print \"\\n\"\n",
    "\n",
    "# Print final conditionsa\n",
    "print \"Final state: \", traj[-1]\n",
    "\n",
    "print \"Final time: \", time_array[-1]\n",
    "print \"Total energ: \", input_traj.dot(input_traj)"
   ]
  },
  {
   "cell_type": "code",
   "execution_count": 117,
   "metadata": {
    "scrolled": false
   },
   "outputs": [
    {
     "data": {
      "image/png": "[encoded data removed]",
      "text/plain": [
       "<Figure size 432x288 with 1 Axes>"
      ]
     },
     "metadata": {},
     "output_type": "display_data"
    },
    {
     "data": {
      "image/png": "[encoded data removed]",
      "text/plain": [
       "<Figure size 432x288 with 1 Axes>"
      ]
     },
     "metadata": {},
     "output_type": "display_data"
    }
   ],
   "source": [
    "# Plot\n",
    "# plot_xz(traj)\n",
    "plt.plot(time_array, traj[:,0])\n",
    "plt.show()\n",
    "plot_u(time_array[:-1], input_traj)"
   ]
  },
  {
   "cell_type": "code",
   "execution_count": 118,
   "metadata": {},
   "outputs": [],
   "source": [
    "# trajectory found\n",
    "dt = time_array[1] - time_array[0]\n",
    "for i in range(len(traj)):\n",
    "    draw_transformation(traj[i,:])\n",
    "    time.sleep(dt)"
   ]
  },
  {
   "cell_type": "code",
   "execution_count": 112,
   "metadata": {
    "scrolled": true
   },
   "outputs": [],
   "source": [
    "angle = 0.0\n",
    "angle_vel = 0.0 # 5.0\n",
    "current_state = (1.,0.,0.0,0.0,angle,0.,0.,0.,0.,0.,0.,angle_vel,0.,0.)\n",
    "draw_transformation(current_state)"
   ]
  },
  {
   "cell_type": "code",
   "execution_count": 111,
   "metadata": {},
   "outputs": [
    {
     "name": "stderr",
     "output_type": "stream",
     "text": [
      "/usr/local/lib/python2.7/site-packages/ipykernel_launcher.py:6: DeprecationWarning: object of type <type 'float'> cannot be safely interpreted as an integer.\n",
      "  \n"
     ]
    }
   ],
   "source": [
    "# code to simulate passive dynamics\n",
    "sec = 2.0 # seconds\n",
    "steps_per_sec = 1000.0 # discrete steps in a second\n",
    "num_steps = sec*steps_per_sec # total number of steps\n",
    "sec_per_step = sec/num_steps # number of seconds per step\n",
    "for t in np.linspace(0,sec,num_steps):\n",
    "    \n",
    "    # update state\n",
    "    # no input\n",
    "    force = [0.,0.,0.,0.,0.,0.,0.,0.]\n",
    "    torque = [-0.0]\n",
    "    current_state = current_state + cube_dynamics(current_state,torque, force)*sec_per_step\n",
    "#     print(current_state[11])\n",
    "    # update the state of the cart\n",
    "    draw_transformation(current_state)\n",
    "    time.sleep(sec_per_step)"
   ]
  },
  {
   "cell_type": "code",
   "execution_count": null,
   "metadata": {},
   "outputs": [],
   "source": []
  }
 ],
 "metadata": {
  "kernelspec": {
   "display_name": "Python 2",
   "language": "python",
   "name": "python2"
  },
  "language_info": {
   "codemirror_mode": {
    "name": "ipython",
    "version": 2
   },
   "file_extension": ".py",
   "mimetype": "text/x-python",
   "name": "python",
   "nbconvert_exporter": "python",
   "pygments_lexer": "ipython2",
   "version": "2.7.14"
  }
 },
 "nbformat": 4,
 "nbformat_minor": 2
}
