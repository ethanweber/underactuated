{
 "cells": [
  {
   "cell_type": "code",
   "execution_count": 3,
   "metadata": {},
   "outputs": [],
   "source": [
    "import math\n",
    "import numpy as np\n",
    "import matplotlib.pyplot as plt\n",
    "import matplotlib.patches as patches\n",
    "from IPython.display import HTML\n",
    "from pydrake.math import sin, cos\n",
    "\n",
    "%matplotlib inline\n",
    "\n",
    "from pydrake.all import (SignalLogger, CompliantMaterial, ConstantVectorSource, DirectCollocation, DiagramBuilder, FloatingBaseType,\n",
    "                         PiecewisePolynomial, RigidBodyTree, RigidBodyPlant,\n",
    "                         SolutionResult, AddModelInstancesFromSdfString,\n",
    "                         MathematicalProgram, Simulator, BasicVector, AddFlatTerrainToWorld)\n",
    "from underactuated import (FindResource, PlanarRigidBodyVisualizer)\n",
    "\n",
    "import time\n",
    "import random\n",
    "\n",
    "from matplotlib import animation"
   ]
  },
  {
   "cell_type": "code",
   "execution_count": 4,
   "metadata": {},
   "outputs": [],
   "source": [
    "# let's use Meshcat!\n",
    "# CHANGE THIS DIRECTOR TO AVOID REBUILDING\n",
    "# import os\n",
    "# my_dir = '/Users/ethanweber/Documents/RobotLocomotionGroup/meshcat-python'\n",
    "# os.chdir(my_dir+'/src')\n",
    "\n",
    "import meshcat\n",
    "import meshcat.geometry as g\n",
    "import meshcat.transformations as tf"
   ]
  },
  {
   "cell_type": "code",
   "execution_count": 24,
   "metadata": {
    "scrolled": true
   },
   "outputs": [
    {
     "name": "stdout",
     "output_type": "stream",
     "text": [
      "You can open the visualizer by visiting the following URL:\n",
      "http://127.0.0.1:7005/static/\n"
     ]
    }
   ],
   "source": [
    "vis = meshcat.Visualizer()"
   ]
  },
  {
   "cell_type": "code",
   "execution_count": 30,
   "metadata": {},
   "outputs": [],
   "source": [
    "corner = vis[\"corner\"]\n",
    "cube = corner[\"cube\"]\n",
    "pivot = cube[\"pivot\"]\n",
    "wheel = pivot[\"wheel\"]"
   ]
  },
  {
   "cell_type": "code",
   "execution_count": 36,
   "metadata": {},
   "outputs": [],
   "source": [
    "corner.set_transform(tf.translation_matrix([0,0,0]))\n",
    "\n",
    "# create and draw the cube\n",
    "cube_dim = [1.0,1.0,1.0] # x,y,z\n",
    "cube.set_object(g.Box(cube_dim))\n",
    "cube.set_transform(tf.translation_matrix([0,0.5,0.5]))\n",
    "\n",
    "# pivot and wheel\n",
    "pivot.set_transform(tf.translation_matrix([0,0,0])) # set location of pole\n",
    "wheel_dim = [1.5,.5,.5] # x,y,z\n",
    "wheel.set_object(g.Box(wheel_dim))\n",
    "\n",
    "theta = 0.5\n",
    "val = tf.rotation_matrix(-theta,[1,0,0])\n",
    "corner.set_transform(val)\n",
    "\n",
    "wheel_angle = 0.5\n",
    "wheel.set_transform(tf.rotation_matrix(-wheel_angle,[1,0,0])) # rotate the pole\n"
   ]
  },
  {
   "cell_type": "code",
   "execution_count": 53,
   "metadata": {},
   "outputs": [],
   "source": [
    "def draw_transformation(state):\n",
    "    theta = state[0]\n",
    "    val = tf.rotation_matrix(-theta+np.pi/4.0,[1,0,0])\n",
    "    corner.set_transform(val)\n",
    "\n",
    "    wheel_angle = state[1]\n",
    "    wheel.set_transform(tf.rotation_matrix(-wheel_angle,[1,0,0])) # rotate the pole"
   ]
  },
  {
   "cell_type": "code",
   "execution_count": 54,
   "metadata": {},
   "outputs": [],
   "source": [
    "initital_state = (0.0,0.,0.,0.)\n",
    "draw_transformation(initital_state)"
   ]
  },
  {
   "cell_type": "code",
   "execution_count": 101,
   "metadata": {},
   "outputs": [],
   "source": [
    "# state (theta_cube, theta_wheel, thetadot_cube, thetadot_wheel)\n",
    "def pivot_dynamics(state, u, force):\n",
    "    \n",
    "    l = 0.085\n",
    "    l_b = 0.075\n",
    "    m_b = 0.419\n",
    "    m_w = 0.204\n",
    "    I_b = 3.34 * 10**(-3)\n",
    "    I_w = 0.57 * 10**(-3)\n",
    "    C_b = 1.02 * 10**(-3)\n",
    "    C_w = 0.05 * 10**(-3)\n",
    "    \n",
    "    \n",
    "    theta_b = state[0]\n",
    "    theta_w = state[1]\n",
    "    thetadot_b = state[2]\n",
    "    thetadot_w = state[3]\n",
    "    \n",
    "    g = 9.81\n",
    "    \n",
    "    # set the derivatives\n",
    "    derivs = np.zeros_like(state)\n",
    "    derivs[0:2] = state[2:]\n",
    "    \n",
    "    # thetadot_cube\n",
    "    derivs[2] = l*(force[0] - force[1]) + \\\n",
    "    ((m_b*l_b+m_w*l)*g*sin(theta_b)-u[0]-C_b*thetadot_b+C_w*thetadot_w)/(I_b+m_w*(l**2))\n",
    "    \n",
    "    derivs[3] = (I_b+I_w+m_w*(l**2))*(u[0]-C_w*thetadot_w)/(I_w*(I_b+m_w*(l**2))) \\\n",
    "    - ((m_b*l_b+m_w*l)*g*sin(theta_b) - C_b*thetadot_b)/(I_b+m_w*(l**2))\n",
    "    \n",
    "    return derivs"
   ]
  },
  {
   "cell_type": "code",
   "execution_count": 162,
   "metadata": {},
   "outputs": [],
   "source": [
    "def compute_optimal_control(initial_state, final_state, min_time, max_time, max_torque):\n",
    "\n",
    "# Setup solver\n",
    "    mp = MathematicalProgram()\n",
    "\n",
    "# number knot points\n",
    "    N = 50\n",
    "    \n",
    "# Total time used\n",
    "    time_used = mp.NewContinuousVariables(1, \"time_used\") # add random variabe for time used\n",
    "    dt = time_used/(N+1)\n",
    "    \n",
    "# Control decision variables\n",
    "    u = mp.NewContinuousVariables(1, \"u_%d\" % 0) # only one input for the cube\n",
    "    u_over_time = u\n",
    "    for k in range(1,N):\n",
    "        u = mp.NewContinuousVariables(1, \"u_%d\" % k)\n",
    "        u_over_time = np.vstack((u_over_time, u))\n",
    "    total_u = u_over_time\n",
    "    \n",
    "# Force decision variables\n",
    "    f = mp.NewContinuousVariables(2, \"f_%d\" % 0) # only one input for the cube\n",
    "    f_over_time = f\n",
    "    for k in range(1,N):\n",
    "        f = mp.NewContinuousVariables(2, \"f_%d\" % k)\n",
    "        f_over_time = np.vstack((f_over_time, f))\n",
    "    total_f = f_over_time\n",
    "\n",
    "# State decision variables\n",
    "    x = mp.NewContinuousVariables(4, \"x_%d\" % 0) # for both input thrusters\n",
    "    x_over_time = x\n",
    "    for k in range(1,N+1):\n",
    "        x = mp.NewContinuousVariables(4, \"x_%d\" % k)\n",
    "        x_over_time = np.vstack((x_over_time, x))\n",
    "    total_x = x_over_time\n",
    "    \n",
    "# State Constraints\n",
    "    error_thresh = 0.01\n",
    "    for n in range(N):\n",
    "        # Actual state vs. predicted (through dynamics) state\n",
    "        state_next = total_x[n+1]\n",
    "        dynamic_state_next = total_x[n,:] + pivot_dynamics(total_x[n,:], total_u[n,:], total_f[n,:])*dt\n",
    "        \n",
    "        # Make sure the actual and predicted align to follow dynamics\n",
    "        for j in range(4):\n",
    "            state_error = state_next[j] - dynamic_state_next[j]\n",
    "            mp.AddConstraint(state_error <= error_thresh)\n",
    "            mp.AddConstraint(state_error >= -error_thresh)\n",
    "        \n",
    "# Can't penitrate the floor and can't leave the floor\n",
    "    for n in range(N):\n",
    "        state = total_x[n,:]\n",
    "        \n",
    "        # the floor is at -.5\n",
    "#         floor_offset = -.01\n",
    "        mp.AddConstraint(state[0] >= -np.pi/4.0)\n",
    "        mp.AddConstraint(state[0] <= np.pi/4.0)\n",
    "        \n",
    "# Ground forces can't pull on the ground\n",
    "    max_force = 100\n",
    "    for n in range(N):\n",
    "        force = total_f[n]\n",
    "        for j in range(2):\n",
    "            mp.AddConstraint(force[j] <= max_force)\n",
    "            mp.AddConstraint(force[j] >= 0)\n",
    "    \n",
    "# add complimentary constraint\n",
    "    for n in range(N):\n",
    "        force = total_f[n]\n",
    "        state = total_x[n]\n",
    "        theta = state[0]\n",
    "        \n",
    "        dist_vals = [np.pi/4.0 - theta, np.pi/4.0 + theta]\n",
    "        distances = np.asarray(dist_vals)\n",
    "        \n",
    "        \n",
    "        vector_0 = force[0]\n",
    "        vector_1 = force[1]\n",
    "        \n",
    "        val = np.asarray([vector_0, vector_1])\n",
    "\n",
    "        thresh = 0.0001\n",
    "        mp.AddConstraint(val.dot(distances) <= thresh)\n",
    "        mp.AddConstraint(val.dot(distances) >= -thresh)\n",
    "    \n",
    "    \n",
    "# cost\n",
    "#     mp.AddQuadraticCost(1 * u_over_time[:,0].dot(u_over_time[:,0]))\n",
    "#     for i in range(8):\n",
    "#         mp.AddQuadraticCost(1 * f_over_time[:,i].dot(f_over_time[:,i]))\n",
    "\n",
    "\n",
    "# initial state\n",
    "    for i in range(4):\n",
    "        # initial\n",
    "        initial_state_error = x_over_time[0,i] - initial_state[i]\n",
    "        mp.AddConstraint(initial_state_error == 0.0)\n",
    "\n",
    "# don't care about final wheel angle\n",
    "    error_thresh = 0.01\n",
    "    for i in [0,2,3]:\n",
    "        # final\n",
    "        final_state_error = x_over_time[-1,i] - final_state[i]\n",
    "        mp.AddConstraint(final_state_error <= error_thresh)\n",
    "        mp.AddConstraint(final_state_error >= -error_thresh)\n",
    "        \n",
    "# direction of velocity constraint\n",
    "\n",
    "#     for n in range(N):\n",
    "#         state = total_x[n]\n",
    "#         for i in range(14):\n",
    "#             # vel of wheel only positive\n",
    "#             mp.AddConstraint(state[-1] >= 0)\n",
    "    \n",
    "# add time constraint\n",
    "    mp.AddConstraint(time_used[0] >= minimum_time)\n",
    "    mp.AddConstraint(time_used[0] <= maximum_time)\n",
    "\n",
    "# add torque constraints\n",
    "    for n in range(N):\n",
    "        mp.AddConstraint(u_over_time[n,0] <= max_torque)\n",
    "        mp.AddConstraint(u_over_time[n,0] >= -max_torque)\n",
    "\n",
    "    print \"Number of decision vars\", mp.num_vars()\n",
    "    print(mp.Solve())\n",
    "\n",
    "    trajectory = mp.GetSolution(x_over_time)\n",
    "    input_trajectory = mp.GetSolution(u_over_time)\n",
    "    force_trajectory = mp.GetSolution(f_over_time)\n",
    "    t = mp.GetSolution(time_used)\n",
    "    time_array = np.arange(0.0, t, t/(N+1))\n",
    "    \n",
    "    print(dt)\n",
    "    \n",
    "    return trajectory, input_trajectory, force_trajectory, time_array"
   ]
  },
  {
   "cell_type": "code",
   "execution_count": 169,
   "metadata": {
    "scrolled": true
   },
   "outputs": [],
   "source": [
    "current_state = (0.5,0.,0.,0.)\n",
    "draw_transformation(current_state)"
   ]
  },
  {
   "cell_type": "code",
   "execution_count": 213,
   "metadata": {},
   "outputs": [],
   "source": [
    "\n",
    "origin_1 = (np.pi/8.0,0,0,0)\n",
    "\n",
    "final_1 = (0,0,0,0)\n",
    "\n",
    "# Set the time constraints\n",
    "minimum_time = 0.5; maximum_time = 15.\n",
    "\n",
    "# Solve the trajectory optimization\n",
    "max_torque = 100.0"
   ]
  },
  {
   "cell_type": "code",
   "execution_count": 214,
   "metadata": {},
   "outputs": [],
   "source": [
    "draw_transformation(origin_1)"
   ]
  },
  {
   "cell_type": "code",
   "execution_count": 215,
   "metadata": {},
   "outputs": [],
   "source": [
    "draw_transformation(final_1)"
   ]
  },
  {
   "cell_type": "code",
   "execution_count": 216,
   "metadata": {},
   "outputs": [
    {
     "name": "stdout",
     "output_type": "stream",
     "text": [
      "Number of decision vars 355\n",
      "SolutionResult.kSolutionFound\n",
      "[<Expression \"(time_used(0) / 51)\">]\n"
     ]
    }
   ],
   "source": [
    "traj, input_traj, force_traj, time_array = compute_optimal_control(origin_1, final_1, minimum_time, maximum_time, max_torque)\n"
   ]
  },
  {
   "cell_type": "code",
   "execution_count": 218,
   "metadata": {},
   "outputs": [],
   "source": [
    "# trajectory found\n",
    "dt = time_array[1] - time_array[0]\n",
    "for i in range(len(traj)):\n",
    "    draw_transformation(traj[i,:])\n",
    "    time.sleep(dt)"
   ]
  },
  {
   "cell_type": "code",
   "execution_count": 196,
   "metadata": {},
   "outputs": [
    {
     "data": {
      "image/png": "[encoded data removed]",
      "text/plain": [
       "<Figure size 432x288 with 1 Axes>"
      ]
     },
     "metadata": {},
     "output_type": "display_data"
    },
    {
     "data": {
      "image/png": "[encoded data removed]",
      "text/plain": [
       "<Figure size 432x288 with 1 Axes>"
      ]
     },
     "metadata": {},
     "output_type": "display_data"
    },
    {
     "data": {
      "image/png": "[encoded data removed]",
      "text/plain": [
       "<Figure size 432x288 with 1 Axes>"
      ]
     },
     "metadata": {},
     "output_type": "display_data"
    }
   ],
   "source": [
    "plt.plot(time_array, traj[:,0])\n",
    "plt.show()\n",
    "plt.plot(time_array[:-1], input_traj[:])\n",
    "plt.show()\n",
    "plt.plot(time_array[:-1], force_traj[:])\n",
    "plt.show()"
   ]
  },
  {
   "cell_type": "code",
   "execution_count": 195,
   "metadata": {},
   "outputs": [
    {
     "name": "stderr",
     "output_type": "stream",
     "text": [
      "/usr/local/lib/python2.7/site-packages/ipykernel_launcher.py:6: DeprecationWarning: object of type <type 'float'> cannot be safely interpreted as an integer.\n",
      "  \n"
     ]
    }
   ],
   "source": [
    "# code to simulate passive dynamics\n",
    "sec = 1.0 # seconds\n",
    "steps_per_sec = 1000.0 # discrete steps in a second\n",
    "num_steps = sec*steps_per_sec # total number of steps\n",
    "sec_per_step = sec/num_steps # number of seconds per step\n",
    "for t in np.linspace(0,sec,num_steps):\n",
    "    \n",
    "    # update state\n",
    "    # no input\n",
    "    this_dt = sec_per_step\n",
    "    torque = [0.0]\n",
    "    force = [0,0]\n",
    "    current_state += pivot_dynamics(current_state,torque, force)*this_dt#     print(current_state[11])\n",
    "    # update the state of the cart\n",
    "    draw_transformation(current_state)\n",
    "    time.sleep(sec_per_step)"
   ]
  },
  {
   "cell_type": "code",
   "execution_count": null,
   "metadata": {},
   "outputs": [],
   "source": []
  }
 ],
 "metadata": {
  "kernelspec": {
   "display_name": "Python 2",
   "language": "python",
   "name": "python2"
  },
  "language_info": {
   "codemirror_mode": {
    "name": "ipython",
    "version": 2
   },
   "file_extension": ".py",
   "mimetype": "text/x-python",
   "name": "python",
   "nbconvert_exporter": "python",
   "pygments_lexer": "ipython2",
   "version": "2.7.14"
  }
 },
 "nbformat": 4,
 "nbformat_minor": 2
}
