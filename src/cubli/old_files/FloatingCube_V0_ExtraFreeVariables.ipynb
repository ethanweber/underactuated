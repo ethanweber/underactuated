{
 "cells": [
  {
   "cell_type": "code",
   "execution_count": 3,
   "metadata": {},
   "outputs": [],
   "source": [
    "import math\n",
    "import numpy as np\n",
    "import matplotlib.pyplot as plt\n",
    "from IPython.display import HTML\n",
    "from pydrake.math import sin, cos\n",
    "\n",
    "%matplotlib inline\n",
    "\n",
    "from pydrake.all import (SignalLogger, CompliantMaterial, ConstantVectorSource, DirectCollocation, DiagramBuilder, FloatingBaseType,\n",
    "                         PiecewisePolynomial, RigidBodyTree, RigidBodyPlant,\n",
    "                         SolutionResult, AddModelInstancesFromSdfString,\n",
    "                         MathematicalProgram, Simulator, BasicVector, AddFlatTerrainToWorld)\n",
    "from underactuated import (FindResource, PlanarRigidBodyVisualizer)\n",
    "\n",
    "from dynamics import CubeVisualizer, cube_dynamics, ground_distances\n",
    "\n",
    "import time\n",
    "import random"
   ]
  },
  {
   "cell_type": "code",
   "execution_count": 4,
   "metadata": {},
   "outputs": [
    {
     "name": "stdout",
     "output_type": "stream",
     "text": [
      "You can open the visualizer by visiting the following URL:\n",
      "http://127.0.0.1:7011/static/\n"
     ]
    }
   ],
   "source": [
    "vis = CubeVisualizer()"
   ]
  },
  {
   "cell_type": "code",
   "execution_count": 72,
   "metadata": {},
   "outputs": [],
   "source": [
    "def compute_optimal_control(initial_state,final_state, min_time, max_time, max_torque):\n",
    "\n",
    "# Setup solver\n",
    "    mp = MathematicalProgram()\n",
    "\n",
    "# number knot points\n",
    "    N = 50\n",
    "    \n",
    "# Total time used\n",
    "    time_used = mp.NewContinuousVariables(1, \"time_used\") # add random variabe for time used\n",
    "    dt = time_used/(N+1)\n",
    "    \n",
    "# Control decision variables\n",
    "    u = mp.NewContinuousVariables(1, \"u_%d\" % 0) # only one input for the cube\n",
    "    u_over_time = u\n",
    "    for k in range(1,N):\n",
    "        u = mp.NewContinuousVariables(1, \"u_%d\" % k)\n",
    "        u_over_time = np.vstack((u_over_time, u))\n",
    "    total_u = u_over_time\n",
    "    \n",
    "# Force decision variables\n",
    "    f = mp.NewContinuousVariables(8, \"f_%d\" % 0) # only one input for the cube\n",
    "    f_over_time = f\n",
    "    for k in range(1,N):\n",
    "        f = mp.NewContinuousVariables(8, \"f_%d\" % k)\n",
    "        f_over_time = np.vstack((f_over_time, f))\n",
    "    total_f = f_over_time\n",
    "\n",
    "# State decision variables\n",
    "    x = mp.NewContinuousVariables(20, \"x_%d\" % 0) # for both input thrusters\n",
    "    x_over_time = x\n",
    "    for k in range(1,N+1):\n",
    "        x = mp.NewContinuousVariables(20, \"x_%d\" % k)\n",
    "        x_over_time = np.vstack((x_over_time, x))\n",
    "    total_x = x_over_time\n",
    "    \n",
    "# State Constraints\n",
    "    error_thresh = 0.01\n",
    "    for n in range(N):\n",
    "        # Actual state vs. predicted (through dynamics) state\n",
    "        state_next = total_x[n+1,:14]\n",
    "        dynamic_state_next = total_x[n,:14] + cube_dynamics(total_x[n,:14], total_u[n,:], total_f[n,:])*dt\n",
    "        \n",
    "        # Make sure the actual and predicted align to follow dynamics\n",
    "        for j in range(14):\n",
    "            state_error = state_next[j] - dynamic_state_next[j]\n",
    "            mp.AddConstraint(state_error <= error_thresh)\n",
    "            mp.AddConstraint(state_error >= -error_thresh)\n",
    "            \n",
    "# Can't penitrate the floor and can't leave the floor\n",
    "    for n in range(N):\n",
    "        distances = ground_distances(total_x[n,:])\n",
    "        \n",
    "        # the floor is at -.5\n",
    "        floor_offset = -.01\n",
    "        mp.AddConstraint(distances[0] >= floor_offset)\n",
    "        mp.AddConstraint(distances[1] >= floor_offset)\n",
    "        mp.AddConstraint(distances[2] >= floor_offset)\n",
    "        mp.AddConstraint(distances[3] >= floor_offset)\n",
    "        \n",
    "        # don't leave the ground\n",
    "        offset = 0.1\n",
    "        mp.AddConstraint(distances[0] <= np.sqrt(2)+offset)\n",
    "        mp.AddConstraint(distances[1] <= np.sqrt(2)+offset)\n",
    "        mp.AddConstraint(distances[2] <= np.sqrt(2)+offset)\n",
    "        mp.AddConstraint(distances[3] <= np.sqrt(2)+offset)\n",
    "        \n",
    "# Ground forces can't pull on the ground\n",
    "    max_force = 100\n",
    "    for n in range(N):\n",
    "        force = total_f[n]\n",
    "        for j in range(8):\n",
    "            mp.AddConstraint(force[j] <= max_force)\n",
    "            mp.AddConstraint(force[j] >= 0)\n",
    "    \n",
    "# add complimentary constraint\n",
    "    for n in range(N):\n",
    "        force = total_f[n]\n",
    "        state = total_x[n]\n",
    "        theta = state[4]\n",
    "        \n",
    "        distances = ground_distances(total_x[n+1,:])\n",
    "        \n",
    "        s = sin(theta)\n",
    "        c = cos(theta)\n",
    "        \n",
    "        z_0 = force[0]*c + force[1]*s\n",
    "        z_1 = - force[2]*s + force[3]*c\n",
    "        z_2 = - force[4]*c - force[5]*s\n",
    "        z_3 = force[6]*s - force[7]*c\n",
    "        \n",
    "        xy_0 = - force[0]*s + force[1]*c\n",
    "        xy_1 = - force[2]*c - force[3]*s\n",
    "        xy_2 = force[4]*s - force[5]*c\n",
    "        xy_3 = force[6]*c + force[7]*s\n",
    "        \n",
    "        mu = 0.1\n",
    "        \n",
    "        mp.AddConstraint(xy_0 <= z_0*mu)\n",
    "        mp.AddConstraint(xy_0 >= -z_0*mu)\n",
    "        mp.AddConstraint(xy_1 <= z_1*mu)\n",
    "        mp.AddConstraint(xy_1 >= -z_1*mu)\n",
    "        mp.AddConstraint(xy_2 <= z_2*mu)\n",
    "        mp.AddConstraint(xy_2 >= -z_2*mu)\n",
    "        mp.AddConstraint(xy_3 <= z_3*mu)\n",
    "        mp.AddConstraint(xy_3 >= -z_3*mu)\n",
    "        \n",
    "        \n",
    "        vector_0 = force[0] * force[1]\n",
    "        vector_1 = force[2] * force[3]\n",
    "        vector_2 = force[4] * force[5]\n",
    "        vector_3 = force[6] * force[7]\n",
    "        \n",
    "        val = np.asarray([vector_0, vector_1, vector_2, vector_3])\n",
    "\n",
    "        thresh = 0.0001\n",
    "        mp.AddConstraint(val.dot(distances) <= thresh)\n",
    "        mp.AddConstraint(val.dot(distances) >= -thresh)\n",
    "    \n",
    "    \n",
    "# cost\n",
    "#     mp.AddQuadraticCost(1 * u_over_time[:,0].dot(u_over_time[:,0]))\n",
    "#     for i in range(8):\n",
    "#         mp.AddQuadraticCost(1 * f_over_time[:,i].dot(f_over_time[:,i]))\n",
    "\n",
    "\n",
    "# initial state\n",
    "    for i in range(14):\n",
    "        # initial\n",
    "        initial_state_error = x_over_time[0,i] - initial_state[i]\n",
    "        mp.AddConstraint(initial_state_error == 0.0)\n",
    "    for i in range(14,20):\n",
    "        # initial\n",
    "        initial_state_error = x_over_time[0,i]\n",
    "        mp.AddConstraint(initial_state_error == 0.0)\n",
    "\n",
    "# don't care about final wheel angle\n",
    "    error_thresh = 0.01\n",
    "    for i in [0,1,2,3,4,5,7,8,9,10,11,12,13]:\n",
    "        # final\n",
    "        final_state_error = x_over_time[-1,i] - final_state[i]\n",
    "        mp.AddConstraint(final_state_error <= error_thresh)\n",
    "        mp.AddConstraint(final_state_error >= -error_thresh)\n",
    "    for i in range(14,20):\n",
    "        # initial\n",
    "        final_state_error = x_over_time[-1,i]\n",
    "        mp.AddConstraint(final_state_error <= error_thresh)\n",
    "        mp.AddConstraint(final_state_error >= -error_thresh)\n",
    "        \n",
    "# make this 2d only\n",
    "#     for n in range(N):\n",
    "#         state = total_x[n]\n",
    "        \n",
    "#         # y\n",
    "#         mp.AddConstraint(state[1] == 0)\n",
    "        \n",
    "#         # angles\n",
    "#         mp.AddConstraint(state[3] == 0)\n",
    "#         mp.AddConstraint(state[5] == 0)\n",
    "        \n",
    "#         # velocities\n",
    "#         mp.AddConstraint(state[10] == 0)\n",
    "#         mp.AddConstraint(state[12] == 0)\n",
    "    \n",
    "# add time constraint\n",
    "    mp.AddConstraint(time_used[0] >= minimum_time)\n",
    "    mp.AddConstraint(time_used[0] <= maximum_time)\n",
    "\n",
    "# add torque constraints\n",
    "    for n in range(N):\n",
    "        mp.AddConstraint(u_over_time[n,0] <= max_torque)\n",
    "        mp.AddConstraint(u_over_time[n,0] >= -max_torque)\n",
    "        \n",
    "        \n",
    "# set the initial guess\n",
    "#     x_guess = np.linspace(initial_state[0], final_state[0], N)\n",
    "#     mp.SetInitialGuess(total_x[:,0], x_guess)\n",
    "    \n",
    "#     z_guess = np.linspace(initial_state[2], final_state[2], N)\n",
    "#     mp.SetInitialGuess(total_x[:,2], z_guess)\n",
    "    \n",
    "#     theta_guess = np.linspace(initial_state[4], final_state[4], N)\n",
    "#     mp.SetInitialGuess(total_x[:,4], theta_guess)\n",
    "    \n",
    "#     mp.SetInitialGuess(total_f[4:], np.zeros((4,N)))\n",
    "\n",
    "# set constraint on velocity sign\n",
    "#     for n in range(0, N//2):\n",
    "#         mp.AddConstraint(total_x[n][-1] >= 0.0)\n",
    "#     for n in range(N//2, N):\n",
    "#         mp.AddConstraint(total_x[n][-1] <= 0.0)\n",
    "    \n",
    "    print \"Number of decision vars\", mp.num_vars()\n",
    "    print(mp.Solve())\n",
    "\n",
    "    trajectory = mp.GetSolution(x_over_time)\n",
    "    input_trajectory = mp.GetSolution(u_over_time)\n",
    "    force_trajectory = mp.GetSolution(f_over_time)\n",
    "    t = mp.GetSolution(time_used)\n",
    "    time_array = np.arange(0.0, t, t/(N+1))\n",
    "    \n",
    "    return trajectory, input_trajectory, force_trajectory, time_array"
   ]
  },
  {
   "cell_type": "code",
   "execution_count": 73,
   "metadata": {},
   "outputs": [
    {
     "data": {
      "text/plain": [
       "<bound method MathematicalProgram.SetInitialGuessForAllVariables of <pydrake.solvers._mathematicalprogram_py.MathematicalProgram object at 0x10a9e1c70>>"
      ]
     },
     "execution_count": 73,
     "metadata": {},
     "output_type": "execute_result"
    }
   ],
   "source": [
    "m = MathematicalProgram()\n",
    "m.SetInitialGuessForAllVariables"
   ]
  },
  {
   "cell_type": "code",
   "execution_count": 82,
   "metadata": {
    "scrolled": false
   },
   "outputs": [],
   "source": [
    "# Set the inital condititions\n",
    "x = 0.; z = 0.0; theta = 0.;\n",
    "origin_1 = (x,0,z,0,theta,0,0,0,0,0,0,0,0,0.0)\n",
    "\n",
    "x = -0.5; z = .5*(2**.5)-.5; theta = np.pi/4.0;\n",
    "final_1 = (x,0,z,0,theta,0,0,0,0,0,0,0,0,0)\n",
    "\n",
    "x = 0.5; z = .5*(2**.5)-.5; theta = -np.pi/4.0;\n",
    "final_2 = (x,0,z,0,theta,0,0,0,0,0,0,0,0,0.0)\n",
    "\n",
    "x = -1.0; z = 0.0; theta = np.pi/2.0;\n",
    "final_3 = (x,0,z,0,theta,0,0,0,0,0,0,0,0,0)\n",
    "\n",
    "minimum_time = 0.5; maximum_time = 15.; max_torque = 1000.0\n"
   ]
  },
  {
   "cell_type": "code",
   "execution_count": 85,
   "metadata": {},
   "outputs": [],
   "source": [
    "vis.draw_transformation(origin_1)"
   ]
  },
  {
   "cell_type": "code",
   "execution_count": 86,
   "metadata": {},
   "outputs": [],
   "source": [
    "vis.draw_transformation(final_3)"
   ]
  },
  {
   "cell_type": "code",
   "execution_count": 77,
   "metadata": {},
   "outputs": [
    {
     "name": "stdout",
     "output_type": "stream",
     "text": [
      "Number of decision vars 1471\n",
      "SolutionResult.kSolutionFound\n"
     ]
    }
   ],
   "source": [
    "traj, input_traj, force_traj, time_array = \\\n",
    "compute_optimal_control(origin_1, final_3, minimum_time, maximum_time, max_torque)\n"
   ]
  },
  {
   "cell_type": "code",
   "execution_count": 80,
   "metadata": {},
   "outputs": [],
   "source": [
    "# trajectory found\n",
    "dt = time_array[1] - time_array[0]\n",
    "for i in range(len(traj)):\n",
    "    vis.draw_transformation(traj[i,:])\n",
    "    time.sleep(dt)"
   ]
  },
  {
   "cell_type": "code",
   "execution_count": 81,
   "metadata": {
    "scrolled": false
   },
   "outputs": [
    {
     "data": {
      "image/png": "[encoded data removed]",
      "text/plain": [
       "<Figure size 432x288 with 1 Axes>"
      ]
     },
     "metadata": {},
     "output_type": "display_data"
    },
    {
     "data": {
      "image/png": "[encoded data removed]",
      "text/plain": [
       "<Figure size 432x288 with 1 Axes>"
      ]
     },
     "metadata": {},
     "output_type": "display_data"
    },
    {
     "data": {
      "image/png": "[encoded data removed]",
      "text/plain": [
       "<Figure size 432x288 with 1 Axes>"
      ]
     },
     "metadata": {},
     "output_type": "display_data"
    },
    {
     "data": {
      "image/png": "[encoded data removed]",
      "text/plain": [
       "<Figure size 432x288 with 1 Axes>"
      ]
     },
     "metadata": {},
     "output_type": "display_data"
    }
   ],
   "source": [
    "plt.plot(time_array, traj[:,5])\n",
    "plt.show()\n",
    "plt.plot(time_array, traj[:,8])\n",
    "plt.show()\n",
    "plt.plot(time_array[:-1], input_traj[:])\n",
    "plt.show()\n",
    "plt.plot(time_array[:-1], force_traj[:,3])\n",
    "plt.show()"
   ]
  },
  {
   "cell_type": "code",
   "execution_count": 24,
   "metadata": {
    "scrolled": true
   },
   "outputs": [],
   "source": [
    "angle = 0.0\n",
    "angle_vel = 0.0 # 5.0\n",
    "current_state = (0.,0.,0.0,0.0,angle,0.,0.,0.,0.,0.,0.,angle_vel,0.,0.)\n",
    "vis.draw_transformation(current_state)"
   ]
  },
  {
   "cell_type": "code",
   "execution_count": 25,
   "metadata": {},
   "outputs": [
    {
     "name": "stderr",
     "output_type": "stream",
     "text": [
      "/usr/local/lib/python2.7/site-packages/ipykernel_launcher.py:6: DeprecationWarning: object of type <type 'float'> cannot be safely interpreted as an integer.\n",
      "  \n"
     ]
    }
   ],
   "source": [
    "# code to simulate dynamics\n",
    "sec = 0.5 # seconds\n",
    "steps_per_sec = 1000.0 # discrete steps in a second\n",
    "num_steps = sec*steps_per_sec # total number of steps\n",
    "sec_per_step = sec/num_steps # number of seconds per step\n",
    "for t in np.linspace(0,sec,num_steps):\n",
    "    torque = [0.0]\n",
    "    force = [0.,0.,0.,0.,0.,0.,0.,0.]\n",
    "    current_state += cube_dynamics(current_state,torque,force)*sec_per_step\n",
    "    vis.draw_transformation(current_state)\n",
    "    time.sleep(sec_per_step)"
   ]
  },
  {
   "cell_type": "code",
   "execution_count": null,
   "metadata": {},
   "outputs": [],
   "source": []
  }
 ],
 "metadata": {
  "kernelspec": {
   "display_name": "Python 2",
   "language": "python",
   "name": "python2"
  },
  "language_info": {
   "codemirror_mode": {
    "name": "ipython",
    "version": 2
   },
   "file_extension": ".py",
   "mimetype": "text/x-python",
   "name": "python",
   "nbconvert_exporter": "python",
   "pygments_lexer": "ipython2",
   "version": "2.7.14"
  }
 },
 "nbformat": 4,
 "nbformat_minor": 2
}
